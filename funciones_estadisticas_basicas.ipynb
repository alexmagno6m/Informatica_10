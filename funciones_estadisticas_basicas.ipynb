{
 "cells": [
  {
   "cell_type": "markdown",
   "id": "acb61453-8570-4932-a2c6-af8ec86ecaef",
   "metadata": {},
   "source": [
    "# Funciones estadísticas básicas"
   ]
  },
  {
   "cell_type": "markdown",
   "id": "1163bd38-9f9e-4cb9-b50c-16ceaf150834",
   "metadata": {},
   "source": [
    "### Estructura directorio de clase"
   ]
  },
  {
   "cell_type": "markdown",
   "id": "ad47078b-e168-4d7f-9e07-14361b1491b2",
   "metadata": {},
   "source": [
    "```\n",
    "📦 Datos D:\n",
    "└─ Informatica_10\n",
    "   └─ 1001\n",
    "      └─ Apellido_nombre\n",
    "```"
   ]
  },
  {
   "cell_type": "markdown",
   "id": "a293d1e5-5520-4e41-870d-349bdbdaa740",
   "metadata": {},
   "source": [
    "Es su responsabilidad tener una copia de los trabajos realizados en clase, ya sea en una memoria USB o en un servicio de almacenamiento en la nube: Google Drive, One Drive, Dropbox, Box, etc.\n",
    "\n",
    "__Ni el profesor, ni el colegio responderán por trabajos que hayan sido eliminados de los equipos__."
   ]
  },
  {
   "cell_type": "markdown",
   "id": "7220ab0c-fc42-48ed-86e6-3f4b758e4467",
   "metadata": {},
   "source": [
    "## Temas"
   ]
  },
  {
   "cell_type": "markdown",
   "id": "b2d67832-1e6f-4cc2-a68c-fa239d7ff967",
   "metadata": {},
   "source": [
    "- Introducción a las funciones estadísticas\n",
    "- Suma\n",
    "- Max\n",
    "- Min\n",
    "- Contar\n",
    "- Contar.si\n",
    "- Promedio"
   ]
  },
  {
   "cell_type": "markdown",
   "id": "577a5182-a3d2-4964-82ed-e2ec281b1454",
   "metadata": {},
   "source": [
    "## Funciones Estadísticas"
   ]
  },
  {
   "cell_type": "markdown",
   "id": "4fc0b3d6-9ebf-4e4f-91ca-0cbb3843082f",
   "metadata": {},
   "source": [
    "Son un conjunto de herramientas que realizan calculos sobre un conjunto de datos (_Dataframe_), facilitando sus analisis para la elaboracion de informes, tomas de decisiones y obtener conclusiones."
   ]
  },
  {
   "cell_type": "markdown",
   "id": "bca3f2ab-de10-49f9-972f-97b56be8e50b",
   "metadata": {},
   "source": [
    "## Función ```suma```"
   ]
  },
  {
   "cell_type": "markdown",
   "id": "771c1393-45e6-4faf-b8d3-eb3e2e20f45d",
   "metadata": {},
   "source": [
    "Esta función se encarga de totalizar un rango de datos que recibe como argumento."
   ]
  },
  {
   "cell_type": "markdown",
   "id": "c2d69380-d362-40a4-9ba7-341a5ab90f29",
   "metadata": {},
   "source": [
    "## Función ```contar```"
   ]
  },
  {
   "cell_type": "markdown",
   "id": "1ad35885-4703-409e-84e7-97d930e479fc",
   "metadata": {},
   "source": [
    "Cuenta la cantidad total de celdas que contienen datos numericos en un rango de datos que se pasa como argumento. Esta funcion no totaliza los valores."
   ]
  },
  {
   "cell_type": "markdown",
   "id": "bd71e3d5-e1e2-4b27-b343-88eec3b1b2db",
   "metadata": {},
   "source": [
    "## Función ```contar.si```"
   ]
  },
  {
   "cell_type": "markdown",
   "id": "3be1a9fd-17f3-40d9-96ba-45aea7e06c1f",
   "metadata": {},
   "source": [
    "Cuenta el numero de celdas que coinciden o cumplen con un criterio, excluyendo a todas las demás que no lo cumplen."
   ]
  },
  {
   "cell_type": "markdown",
   "id": "c99bc913-4bb4-4434-a2ed-fbd54c4434e3",
   "metadata": {},
   "source": [
    "## Sintaxis"
   ]
  },
  {
   "attachments": {},
   "cell_type": "markdown",
   "id": "5d3bc046-bfec-40d3-a390-1976a31a9fd3",
   "metadata": {},
   "source": [
    "> ```=contar.si(rango;criterio)```\n",
    ">\n",
    "> __rango__: conjunto de celdas sobre las que se quiere aplicar la formula. <br>\n",
    "> __criterio__: condicion que deben cumplir las celdas, generalmente se expresa en terminos de los operadores de comparación o relacionales."
   ]
  },
  {
   "cell_type": "markdown",
   "id": "2cae194c-d8d7-4097-8812-2b16687048a1",
   "metadata": {},
   "source": [
    "## Función ```promedio```"
   ]
  },
  {
   "cell_type": "markdown",
   "id": "7fcdc968-bc08-4b70-8793-36a24f4642c4",
   "metadata": {},
   "source": [
    "Calcula el valor promedio de un rango de celdas que contienen datos numéricos."
   ]
  },
  {
   "cell_type": "markdown",
   "id": "6f8e9155-591d-407d-b6bc-5b771e0da5bc",
   "metadata": {},
   "source": [
    "## Ejemplo funciones estadísticas básicas"
   ]
  },
  {
   "cell_type": "markdown",
   "id": "3e9cd293-0107-4b41-8db0-46a2ecedc793",
   "metadata": {},
   "source": [
    "La siguiente tabla muestra diferentes valores, no corresponden a datos reales, su aplicación solo tiene fines didácticos."
   ]
  },
  {
   "cell_type": "markdown",
   "id": "8ccfba73-6f59-4b45-81da-e0072bd532e0",
   "metadata": {},
   "source": [
    "|   first_name  |   last_name    |   email_provider  |   gender       |   age  |   country   |   average_income(usd)  |\n",
    "|---------------|----------------|-------------------|----------------|--------|-------------|------------------------|\n",
    "|   Chiquita    |   Tamplin      |   outlook         |   Female       |   40   |   Colombia  |   81406.62             |\n",
    "|   Cacilia     |   Joss         |   hotmail         |   Agender      |   59   |   England   |   77796.23             |\n",
    "|   Shaun       |   Arrell       |   hotmail         |   Male         |   46   |   USA       |   96435.39             |\n",
    "|   Vanni       |   Seathwright  |   outlook         |   Female       |   20   |   France    |   51527.55             |\n",
    "|   Clevie      |   Dalgliesh    |   hotmail         |   Male         |   24   |   Japan     |   48210.77             |\n",
    "|   Mallory     |   Linskill     |   hotmail         |   Male         |   42   |   Colombia  |   4913.73              |\n",
    "|   Renato      |   Dumper       |   icloud          |   Male         |   39   |   USA       |   58839.11             |\n",
    "|   Vasily      |   Sushams      |   hotmail         |   Male         |   17   |   Canada    |   25296.28             |\n",
    "|   Tammie      |   Eddow        |   hotmail         |   Female       |   30   |   Japan     |   12091.41             |\n",
    "|   Gardner     |   Aspell       |   gmail           |   Male         |   31   |   Colombia  |   18614.51             |\n",
    "|   Flem        |   Beric        |   hotmail         |   Male         |   49   |   France    |   40642.55             |\n",
    "|   Thorny      |   Splaven      |   hotmail         |   Male         |   55   |   USA       |   5324.9               |\n",
    "|   Frieda      |   Fierman      |   gmail           |   Female       |   24   |   England   |   83051.96             |\n",
    "|   Marylynne   |   Allbut       |   gmail           |   Female       |   49   |   Colombia  |   33777.19             |\n",
    "|   Blakelee    |   Lovett       |   gmail           |   Female       |   42   |   England   |   29332.22             |\n",
    "|   Job         |   Evangelinos  |   outlook         |   Male         |   46   |   England   |   46715.03             |\n",
    "|   Edd         |   Joly         |   hotmail         |   Genderfluid  |   51   |   Spain     |   37616.0              |\n",
    "|   Ange        |   Ogglebie     |   hotmail         |   Male         |   52   |   Japan     |   37534.07             |\n",
    "|   Currie      |   Faltin       |   gmail           |   Male         |   20   |   USA       |   26683.5              |\n",
    "|   Marline     |   Farey        |   outlook         |   Female       |   20   |   Colombia  |   54002.12             |\n",
    "|   Gregoire    |   Surgey       |   icloud          |   Male         |   37   |   Japan     |   27485.15             |\n",
    "|   Tiebout     |   Ninnis       |   outlook         |   Male         |   55   |   Japan     |   45821.55             |\n",
    "|   Electra     |   Pescod       |   hotmail         |   Female       |   30   |   Japan     |   37842.51             |\n",
    "|   Geralda     |   Tearny       |   hotmail         |   Female       |   23   |   France    |   9971.85              |\n",
    "|   Andie       |   Trundell     |   gmail           |   Male         |   24   |   Colombia  |   31674.34             |\n",
    "|   Sissy       |   Ciabatteri   |   outlook         |   Female       |   53   |   Spain     |   65955.56             |\n",
    "|   Mala        |   Gonthier     |   gmail           |   Female       |   30   |   Japan     |   37964.38             |\n",
    "|   Barnard     |   Casa         |   hotmail         |   Male         |   59   |   USA       |   48791.26             |\n",
    "|   Lane        |   Lile         |   icloud          |   Male         |   24   |   Japan     |   6235.88              |\n",
    "|   Windy       |   Pinnington   |   gmail           |   Female       |   60   |   Japan     |   58215.65             |"
   ]
  },
  {
   "cell_type": "markdown",
   "id": "9fcca68c-b450-470b-8d4f-627ca081465b",
   "metadata": {},
   "source": [
    "1. Copie la tabla según lo indique el profesor\n",
    "2. Convierta los datos a tabla identificable de Excel.\n",
    "3. Agregue dejando una columna vacía la siguiente tabla:"
   ]
  },
  {
   "cell_type": "markdown",
   "id": "81765b4c-1a3a-4077-8cb6-1168bb74f040",
   "metadata": {},
   "source": [
    "| Análisis estadístico              | Función empleada | Resultado |\n",
    "|-----------------------------------|------------------|-----------|\n",
    "| Promedio de columna __```age```__     |                  |           |\n",
    "| Promedio de columna __```average_income```__ |                  |           |\n",
    "| Cant. de personas con gmail       |                  |           |\n",
    "| Cant. de personas con hotmail     |                  |           |\n",
    "| Cant. de personas con outlook     |                  |           |\n",
    "| Cant. de personas con icloud      |                  |           |\n",
    "| Cant. de personas de Colombia     |                  |           |"
   ]
  },
  {
   "cell_type": "markdown",
   "id": "3ac49510-5f3a-4105-985a-ee5839400d28",
   "metadata": {},
   "source": [
    "4. Emplee las formulas necesarias para completar la tabla según lo explique el profesor.\n",
    "5. Agregue fila de totales unicamente para la columna ```average_income``` empleando la función ```suma```."
   ]
  },
  {
   "cell_type": "markdown",
   "id": "03fc24d1-d99c-454e-8fc2-16b48f741e4c",
   "metadata": {},
   "source": [
    "## Ejercicio"
   ]
  },
  {
   "cell_type": "markdown",
   "id": "755c3bad-e6c4-43e0-9af3-de6187e90de8",
   "metadata": {},
   "source": [
    "__Actividad:__ Funciones estadisticas contar.si, suma y promedio\n",
    "<br>\n",
    "__Ámbito conceptual:__ Funciones estadísticas en la hoja de calculo y análisis de la realidad matemática. \n",
    "<br>\n",
    "__Competencia:__ Usa adecuadamente un conjunto de funciones estadísticas específicas para resolver una situación de contexto planteada.\n",
    "<br>\n",
    "__Objetivo:__ Seleccionar correctamente la función estadística apropiada para calcular los datos solicitados."
   ]
  },
  {
   "cell_type": "markdown",
   "id": "cafb23f8-6133-4683-84fb-959cb2db1370",
   "metadata": {},
   "source": [
    "1. Copie la siguiente tabla según las instrucciones dadas por el profesor"
   ]
  },
  {
   "cell_type": "markdown",
   "id": "0aefdf71-cda5-43a2-8e68-e25852e0a272",
   "metadata": {},
   "source": [
    "| first_name | last_name        | email                            | gender | age | City        | Estrato |\n",
    "|------------|------------------|----------------------------------|--------|-----|-------------|---------|\n",
    "| Lovell     | Havercroft       | lhavercroft0@instagram.com       | Male   | 26  | Pereira     | 3       |\n",
    "| Staci      | Gobeau           | sgobeau1@infoseek.co.jp          | Female | 48  | Medellin    | 4       |\n",
    "| Rollo      | Findlater        | rfindlater2@apple.com            | Male   | 22  | Bogota      | 1       |\n",
    "| Carmelita  | Presnell         | cpresnell3@marketwatch.com       | Female | 18  | Cali        | 5       |\n",
    "| Jacqui     | Strathe          | jstrathe4@psu.edu                | Female | 3   | Bucaramanga | 3       |\n",
    "| Spense     | Girardy          | sgirardy5@google.co.jp           | Male   | 68  | Pereira     | 4       |\n",
    "| Gaynor     | Elles            | gelles6@dropbox.com              | Female | 61  | Armenia     | 1       |\n",
    "| Abel       | Flahy            | aflahy7@a8.net                   | Male   | 30  | Bucaramanga | 2       |\n",
    "| Gerek      | Geistbeck        | ggeistbeck8@networksolutions.com | Male   | 62  | Armenia     | 5       |\n",
    "| Royce      | Petlyura         | rpetlyura9@google.it             | Male   | 63  | Bucaramanga | 4       |\n",
    "| Deana      | Phelip           | dphelipa@etsy.com                | Female | 21  | Santa Marta | 3       |\n",
    "| Rolf       | Riggs            | rriggsb@blogtalkradio.com        | Male   | 23  | Santa Marta | 4       |\n",
    "| Bernardo   | Parnall          | bparnallc@cdc.gov                | Male   | 61  | Santa Marta | 6       |\n",
    "| Debbie     | Husselbee        | dhusselbeed@seattletimes.com     | Female | 68  | Pereira     | 3       |\n",
    "| Willow     | Cotty            | wcottye@ucla.edu                 | Female | 100 | Pereira     | 1       |\n",
    "| Demetri    | Abramin          | dabraminf@ca.gov                 | Male   | 90  | Santa Marta | 2       |\n",
    "| Jeanine    | Pidler           | jpidlerg@nifty.com               | Female | 53  | Bogota      | 4       |\n",
    "| Malinda    | Doble            | mdobleh@blogs.com                | Female | 91  | Bucaramanga | 6       |\n",
    "| Mick       | Guille           | mguillei@addthis.com             | Male   | 14  | Santa Marta | 6       |\n",
    "| Tera       | Matushevich      | tmatushevichj@uol.com.br         | Female | 36  | Bucaramanga | 1       |\n",
    "| Stanislaw  | Andrivot         | sandrivotk@mapy.cz               | Male   | 98  | Bucaramanga | 6       |\n",
    "| Tremain    | Blandford        | tblandfordl@businessinsider.com  | Male   | 56  | Medellin    | 2       |\n",
    "| Ive        | Lehmann          | ilehmannm@japanpost.jp           | Male   | 39  | Bogota      | 1       |\n",
    "| Lana       | Paulou           | lpauloun@jigsy.com               | Female | 5   | Pereira     | 5       |\n",
    "| Duky       | Ondrus           | dondruso@wikipedia.org           | Male   | 93  | Cali        | 4       |\n",
    "| Hamil      | Van Der Straaten | hvanderstraatenp@imageshack.us   | Male   | 36  | Medellin    | 2       |\n",
    "| Sampson    | O'Kenny          | sokennyq@jimdo.com               | Male   | 20  | Pereira     | 3       |\n",
    "| Jacqueline | Simonnet         | jsimonnetr@cnbc.com              | Female | 47  | Bucaramanga | 3       |\n",
    "| Wood       | Antcliff         | wantcliffs@surveymonkey.com      | Male   | 61  | Pereira     | 2       |\n",
    "| Kristine   | Stormonth        | kstormontht@cdc.gov              | Female | 50  | Bogota      | 5       |"
   ]
  },
  {
   "cell_type": "markdown",
   "id": "1b0896d9-f731-4e5e-914d-f7542e19042e",
   "metadata": {},
   "source": [
    "2. Convierta los datos en tabla según lo visto en clase.\n",
    "3. Agregue una fila de totales\n",
    "4. En la columna ```I``` agregue la siguiente tabla"
   ]
  },
  {
   "cell_type": "markdown",
   "id": "486be537-44d1-4ff5-bff0-aa83e86ea38a",
   "metadata": {},
   "source": [
    "| Análisis estadístico              | Función empleada | Resultado |\n",
    "|-----------------------------------|------------------|-----------|\n",
    "| Promedio de edad                  |                  |           |\n",
    "| Promedio de estrato               |                  |           |\n",
    "| Cantidad de hombres               |                  |           |\n",
    "| Cantidad de mujeres               |                  |           |\n",
    "| Cantidad de personas de Bogotá    |                  |           |\n",
    "| Cantidad de personas de estrato 3 |                  |           |"
   ]
  },
  {
   "cell_type": "markdown",
   "id": "5875e470-3174-4c10-b806-56f43a382570",
   "metadata": {},
   "source": [
    "5. Escriba en la columna ```Función empleada``` el nombre de la función que va utilizar para calcular los datos.\n",
    "6. Calcule en la columna ```Resultado``` los datos que se soliciten\n",
    "7. Copie en su cuaderno la sintaxis de las formulas que utilizó en el punto 6.\n",
    "8. Guarde su trabajo con el siguiente nombre:"
   ]
  },
  {
   "cell_type": "markdown",
   "id": "b0e85c2b-3d70-4006-856d-16e3ec13ef62",
   "metadata": {},
   "source": [
    "> __g1_Apellido_Nombre_Curso__, por ejemplo:\n",
    ">\n",
    "> __g1_Perez_Pedro_1001__"
   ]
  },
  {
   "cell_type": "markdown",
   "id": "3649ce84-22dc-4ace-ae82-329ffe4ceee6",
   "metadata": {},
   "source": [
    "### Obtención del sello y de la nota"
   ]
  },
  {
   "cell_type": "markdown",
   "id": "53d7fc84-00be-46c3-85d4-9f7aff12ae89",
   "metadata": {},
   "source": [
    "Una vez halla terminado su actividad, escriba en su cuaderno: nombre de la actividad, ámbito conceptual, competencia y objetivo, los cuales se encuentran al inicio del ejercicio."
   ]
  }
 ],
 "metadata": {
  "kernelspec": {
   "display_name": "Python 3 (ipykernel)",
   "language": "python",
   "name": "python3"
  },
  "language_info": {
   "codemirror_mode": {
    "name": "ipython",
    "version": 3
   },
   "file_extension": ".py",
   "mimetype": "text/x-python",
   "name": "python",
   "nbconvert_exporter": "python",
   "pygments_lexer": "ipython3",
   "version": "3.12.1"
  }
 },
 "nbformat": 4,
 "nbformat_minor": 5
}
