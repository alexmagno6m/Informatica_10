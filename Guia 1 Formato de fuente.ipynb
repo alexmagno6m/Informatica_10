{
 "cells": [
  {
   "cell_type": "markdown",
   "id": "260fee48-b5fc-4b31-9c1e-47ce950a3aee",
   "metadata": {},
   "source": [
    "# Guia 1 Formato de fuente"
   ]
  },
  {
   "cell_type": "markdown",
   "id": "ec21df28-9571-4da8-a8c8-95dfc2cace1a",
   "metadata": {},
   "source": [
    "## Etiquetas de formato"
   ]
  },
  {
   "cell_type": "markdown",
   "id": "31181135-548e-4009-bb57-4130426ba639",
   "metadata": {},
   "source": [
    "### ```strong``` para Negrita"
   ]
  },
  {
   "cell_type": "markdown",
   "id": "1ed55295-462b-4a89-b432-ff8c031fc726",
   "metadata": {},
   "source": [
    "Sirve para colocar un texto en negrita o negrilla, por ejemplo:"
   ]
  },
  {
   "cell_type": "markdown",
   "id": "47b6973c-5cd5-4e0d-95f8-0451bf2fb0e7",
   "metadata": {},
   "source": [
    "```La capital de Colombia es <strong> Bogotá </strong>```"
   ]
  },
  {
   "cell_type": "markdown",
   "id": "a4db7bca-6efd-4feb-9435-81a924bc2a04",
   "metadata": {},
   "source": [
    "> La palabra __Bogotá__ queda en negrita"
   ]
  },
  {
   "cell_type": "markdown",
   "id": "91371f1a-a345-4aa4-9e8d-2365887a2ad3",
   "metadata": {},
   "source": [
    "### ```i``` para Cursiva"
   ]
  },
  {
   "cell_type": "markdown",
   "id": "5125f135-e1c8-4e21-9bb2-938586d9d6c6",
   "metadata": {},
   "source": [
    "Sirve para aplicar cursiva a un texto"
   ]
  },
  {
   "cell_type": "markdown",
   "id": "9b9c3207-0736-4e18-993d-f8c4f7f5f9ff",
   "metadata": {},
   "source": [
    "```Mi colegio se llama <i> Antonio Baraya </i>```"
   ]
  },
  {
   "cell_type": "markdown",
   "id": "ddc822ec-6c10-48b8-9fef-df96adac6f06",
   "metadata": {},
   "source": [
    "> Deja las palabras _Antonio Baraya_ en cursiva"
   ]
  },
  {
   "cell_type": "markdown",
   "id": "025907be-5453-4afa-832b-d2020a5cdb7c",
   "metadata": {},
   "source": [
    "### ```u``` para Subrayado"
   ]
  },
  {
   "cell_type": "markdown",
   "id": "8ad44ba0-55de-4d2f-865e-56eb57bd1adf",
   "metadata": {},
   "source": [
    "En este caso se emplea la etiqueta ```<u>``` y ```</u>``` y opera igual que los dos formatos anteriores."
   ]
  },
  {
   "cell_type": "markdown",
   "id": "7fb42682-3897-46dd-ab09-0f62961cd445",
   "metadata": {},
   "source": [
    "## Actividad"
   ]
  },
  {
   "cell_type": "markdown",
   "id": "9f635d98-5323-44be-841b-f803c9ff847c",
   "metadata": {},
   "source": [
    "Cree en el explorador de Windows la carpeta actividad 2 dentro de la carpeta con su nombre. Observe la siguiente ruta:"
   ]
  },
  {
   "cell_type": "markdown",
   "id": "9f483e5e-2359-46a5-98e8-248be3f0fb15",
   "metadata": {},
   "source": [
    "```\n",
    "└── Informatica 10/\n",
    "    └── Su curso/\n",
    "        └── Proyectos HTML/\n",
    "            └── Actividad 2/\n",
    "```"
   ]
  },
  {
   "cell_type": "markdown",
   "id": "c9e0e079-7207-49df-8ddb-5064fbe8a528",
   "metadata": {},
   "source": [
    "Una vez hecho esto abra __Visual Studio Code__ y seleccione ```open folder``` y busque la carpeta ```actividad 2``` que creo en el paso anterior seleccionela y luego haga clic en ```open```."
   ]
  },
  {
   "cell_type": "markdown",
   "id": "475d2d5c-7237-43b2-b23d-87071db26749",
   "metadata": {},
   "source": [
    "Cree un archivo llamado ```index.html```"
   ]
  },
  {
   "cell_type": "markdown",
   "id": "36565d9a-ed46-415a-895c-6eefc55b4d1a",
   "metadata": {},
   "source": [
    "Desarrolle lo siguiente:"
   ]
  },
  {
   "cell_type": "markdown",
   "id": "393123c2-143e-4c4c-bbc9-a2f865ab2596",
   "metadata": {},
   "source": [
    "1. En el archivo ```index.html``` obtenga la estructura general HTML escribiendo el comando ```html:5```\n",
    "2. Agregue un Fondo de la página con un color a tu elección.\n",
    "3. Un título ```<h1>``` centrado con color de texto personalizado, escriba: ```formato de fuente```.\n",
    "4. Un subtítulo ```<h2>``` centrado con un color distinto, escriba ```actividad 2```.\n",
    "5. Agregue Un párrafo breve sobre un tema de su interes, con una palabra en negrita, otra en cursiva y otra con negrita + cursiva, y al menos una palabra subrayada.\n",
    "6. Una lista ordenada con cinco cosas que te gusta hacer en tus ratos libres ```<ol>```. En al menos un ítem, aplica color de texto diferente.\n",
    "7. Una lista sin ordenar ```<ul>``` de 5 ítems con 5 opciones de carrera profesional o actividades que te gustaria realizar al teminar tus estudios. En al menos un ítem, subraya una palabra.\n",
    "8. Añade un pie de página con la etiqueta ```<footer>``` con texto centrado, el cual debe tener\n",
    "    - Tu nombre en negrita\n",
    "    - El curso en cursiva\n",
    "    - Ambos elementos centrados."
   ]
  },
  {
   "cell_type": "markdown",
   "id": "9dbb6452-d1ee-47f1-bebe-0461f219b5d6",
   "metadata": {},
   "source": [
    "### Obtención del sello"
   ]
  },
  {
   "cell_type": "markdown",
   "id": "85e73aec-263d-4baf-8631-2d1370fd7f75",
   "metadata": {},
   "source": [
    "Competencia: 2"
   ]
  },
  {
   "cell_type": "markdown",
   "id": "f4d1d9ca-a0b8-40df-9bf1-120fb211e6ef",
   "metadata": {},
   "source": [
    "Ambito conceptual: Diseño web"
   ]
  },
  {
   "cell_type": "markdown",
   "id": "207bb607-1f0b-4a0a-b24c-1042ea9d095a",
   "metadata": {},
   "source": [
    "Objetivo: Aplicar con acierto los diferentes formato de texto basico segun los requerimientos solicitados y cumpliendo con las demas especificiaciones."
   ]
  }
 ],
 "metadata": {
  "kernelspec": {
   "display_name": "Python 3 (ipykernel)",
   "language": "python",
   "name": "python3"
  },
  "language_info": {
   "codemirror_mode": {
    "name": "ipython",
    "version": 3
   },
   "file_extension": ".py",
   "mimetype": "text/x-python",
   "name": "python",
   "nbconvert_exporter": "python",
   "pygments_lexer": "ipython3",
   "version": "3.12.1"
  }
 },
 "nbformat": 4,
 "nbformat_minor": 5
}
