{
 "cells": [
  {
   "cell_type": "markdown",
   "id": "5fe05871",
   "metadata": {},
   "source": [
    "# Registration code"
   ]
  },
  {
   "cell_type": "markdown",
   "id": "dfa4042e",
   "metadata": {},
   "source": [
    "A continuacion usted encontrara el codigo que le permitira acceder a la plataforma ClassMarker, tenga en cuenta:\n",
    "\n",
    "- El codigo es personal e intransferible\n",
    "- No use el codigo asignado a otra persona, esto le implicará sanciones\n",
    "- El codigo solo se puede usar UNA VEZ\n",
    "- El codigo es valido tanto para informatica y programacion (si es su caso)."
   ]
  },
  {
   "cell_type": "markdown",
   "id": "b6495e98",
   "metadata": {},
   "source": [
    "## Códigos"
   ]
  },
  {
   "cell_type": "markdown",
   "id": "c6a97283",
   "metadata": {},
   "source": [
    "| Estudiante                             | Código            |\n",
    "|----------------------------------------|-------------------|\n",
    "|   ACEVEDO REINEL KAROL FERNANDA        |   VC6115835202NE  |\n",
    "|   AVENDAÑO CARRILLO JUAN SEBASTIAN     |   MA41158352087A  |\n",
    "|   AVIRAMA BARAHONA SOFIA ALEJANDRINA   |   742115835206TH  |\n",
    "|   BAQUERO CASALLAS JUAN DAVID          |   3M31158352023Q  |\n",
    "|   BARBOSA SANCHEZ JUAN CAMILO          |   3F7115835206JF  |\n",
    "|   CORTES GONZALEZ JOSTIN DUVAN         |   AJ211583520976  |\n",
    "|   DAZA IDARRAGA DANNA CAMILA           |   MC61158352023F  |\n",
    "|   ESCOBAR OSORIO ANGEL DAVID           |   DN8115835208MK  |\n",
    "|   FAJARDO AGUILAR JUAN ESTEBAN EFRAIN  |   V48115835206VR  |\n",
    "|   JARA RODRIGUEZ JUAN SEBASTIAN        |   FF7115835206JE  |\n",
    "|   MAHECHA NARANJO JEFRY ALEXANDER      |   4V511583520343  |\n",
    "|   MARTINEZ CAMPO SERAYMAR DEL CARMEN   |   RT7115835204AC  |\n",
    "|   MONTAÑO CONTRERAS EVELYNG TATIANA    |   QC7115835200GK  |\n",
    "|   PENAGOS SALINAS LUZ ANGELA           |   PM2115835204HD  |\n",
    "|   PRECIADO ORJUELA YEIMER ALEXANDER    |   4971158352013R  |\n",
    "|   RICO ARIAS IRWIN SANTIAGO            |   7K1115835202KY  |\n",
    "|   RINCON CANTE IAN JAEL                |   731115835200GM  |\n",
    "|   SALAZAR FORERO ANGEL MATEO           |   4J9115835202KF  |\n",
    "|   TEHERAN ARRIETA ALEXANDER JOSE       |   X49115835201M9  |\n",
    "|   TENJO CRUZ JHON ALEXANDER            |   QB8115835205KA  |\n",
    "|   VALDERRAMA CARVAJAL TALA MARIANA     |   TA1115835207BM  |"
   ]
  },
  {
   "cell_type": "markdown",
   "id": "9ebe6534",
   "metadata": {},
   "source": [
    "## Registrese en la plataforma (cuando el profesor indique)\n",
    "Una vez el profesor de las indicaciones, dirijase al siguiente enlace\n",
    "\n",
    "\n",
    "[ClassMarker](https://www.classmarker.com/register/)"
   ]
  }
 ],
 "metadata": {
  "kernelspec": {
   "display_name": "Python 3 (ipykernel)",
   "language": "python",
   "name": "python3"
  },
  "language_info": {
   "codemirror_mode": {
    "name": "ipython",
    "version": 3
   },
   "file_extension": ".py",
   "mimetype": "text/x-python",
   "name": "python",
   "nbconvert_exporter": "python",
   "pygments_lexer": "ipython3",
   "version": "3.12.1"
  }
 },
 "nbformat": 4,
 "nbformat_minor": 5
}
