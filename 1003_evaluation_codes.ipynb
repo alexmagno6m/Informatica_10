{
 "cells": [
  {
   "cell_type": "markdown",
   "id": "5fe05871",
   "metadata": {},
   "source": [
    "# Registration code"
   ]
  },
  {
   "cell_type": "markdown",
   "id": "dfa4042e",
   "metadata": {},
   "source": [
    "A continuacion usted encontrara el codigo que le permitira acceder a la plataforma ClassMarker, tenga en cuenta:\n",
    "\n",
    "- El codigo es personal e intransferible\n",
    "- No use el codigo asignado a otra persona, esto le implicará sanciones\n",
    "- El codigo solo se puede usar UNA VEZ\n",
    "- El codigo es valido tanto para informatica y programacion (si es su caso)."
   ]
  },
  {
   "cell_type": "markdown",
   "id": "b6495e98",
   "metadata": {},
   "source": [
    "## Códigos"
   ]
  },
  {
   "cell_type": "markdown",
   "id": "c6a97283",
   "metadata": {},
   "source": [
    "| Nombre                                 | Codigo         |\n",
    "|----------------------------------------|----------------|\n",
    "| ANDRADE CABAL SAMY TATIANA             | XK1115835206KA |\n",
    "| BAQUERO ZIPA   SARAY XIMENA            | BG9115835207KH |\n",
    "| CARVAJAL   OSORIO MATEO                | T91115835206JC |\n",
    "| CASAS ESPAÑOL   PAULA ANDREA           | ET1115835203NE |\n",
    "| CONTRERAS   PIÑEROS PAULA LORENA       | EG3115835201PX |\n",
    "| CUARTAS   HERNANDEZ JUAN FERNANDO      | KD4115835200EJ |\n",
    "| GONZALEZ RUIZ   VALERI ALEJANDRA       | QF5115835205VE |\n",
    "| LATORRE   LAGAREJO JACKSON STEVEN      | K48115835205K4 |\n",
    "| LIMA GONZALEZ   DILAN ALEJANDRO        | 9Q5115835204KE |\n",
    "| MANZANO DIAZ   VALENTINA               | FR8115835204P4 |\n",
    "| MARROQUIN   GUAYACUNDO NICOLAS ESTEBAN | VX8115835206JT |\n",
    "| MELENDEZ   SACANAMBOY MAUREEN LISETH   | RK7115835200KG |\n",
    "| MELO GARZON   JUAN ANGEL               | KQ0115835209R7 |\n",
    "| MESA DIAZ JUAN   DIEGO                 | KP6115835205D6 |\n",
    "| MORENO RIVERA   CRISTIAN DAVID         | KT1115835200FJ |\n",
    "| OCHOA SUAREZ   AMMY                    | GQ31158352024Q |\n",
    "| ORDOÑEZ   TIMARAN DAVID ALEXANDER      | 3E41158352019X |\n",
    "| PINILLA   FAJARDO DAVID                | VC6115835202NE |\n",
    "| RESTREPO   HERNANDEZ VALERY CAMILA     | Y77115835200R7 |\n",
    "| RESTREPO   SALGADO JHON SEBASTIAN      | MA41158352087A |\n",
    "| RODRIGUEZ   MORALES SARAY DANIELA      | 742115835206TH |\n",
    "| RODRIGUEZ   TORRES MATEO ALEJANDRO     | 3M31158352023Q |\n",
    "| RODRIQUEZ   SIERRA CAMILA ALEJANDRA    | QF7115835208AN |\n",
    "| SABINO VASQUEZ   ORIANGEL ALEJANDRA    | KG3115835204P9 |\n",
    "| VANEGAS MONTES   JHOAN SEBASTIAN       | G91115835202R9 |\n",
    "| VASQUEZ CUERVO   DAVID MIGUEL          | 3F7115835206JF |\n",
    "| VILLAMIZAR FRANCO DANIEL               | YF6115835205PP |\n",
    "| ZAMORA RODRIGUEZ KEVIN ANDRES          | HE51158352063C |\n",
    "| ZAPATA LOPEZ PAULA DANIELA             | 3Q5115835204N6 |\n",
    "| ZAPATA MARULANDA MARIA   FERNANDA      | 9T2115835209XF |"
   ]
  },
  {
   "cell_type": "markdown",
   "id": "9ebe6534",
   "metadata": {},
   "source": [
    "## Registrese en la plataforma (cuando el profesor indique)\n",
    "Una vez el profesor de las indicaciones, dirijase al siguiente enlace\n",
    "\n",
    "\n",
    "[ClassMarker](www.classmarker.com/register/)"
   ]
  }
 ],
 "metadata": {
  "kernelspec": {
   "display_name": "Python 3 (ipykernel)",
   "language": "python",
   "name": "python3"
  },
  "language_info": {
   "codemirror_mode": {
    "name": "ipython",
    "version": 3
   },
   "file_extension": ".py",
   "mimetype": "text/x-python",
   "name": "python",
   "nbconvert_exporter": "python",
   "pygments_lexer": "ipython3",
   "version": "3.9.13"
  }
 },
 "nbformat": 4,
 "nbformat_minor": 5
}
