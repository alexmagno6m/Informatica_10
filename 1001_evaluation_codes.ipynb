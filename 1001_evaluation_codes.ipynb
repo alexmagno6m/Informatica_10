{
 "cells": [
  {
   "cell_type": "markdown",
   "id": "5fe05871",
   "metadata": {},
   "source": [
    "# Registration code"
   ]
  },
  {
   "cell_type": "markdown",
   "id": "dfa4042e",
   "metadata": {},
   "source": [
    "A continuacion usted encontrara el codigo que le permitira acceder a la plataforma ClassMarker, tenga en cuenta:\n",
    "\n",
    "- El codigo es personal e intransferible\n",
    "- No use el codigo asignado a otra persona, esto le implicará sanciones\n",
    "- El codigo solo se puede usar UNA VEZ\n",
    "- El codigo es valido tanto para informatica y programacion (si es su caso)."
   ]
  },
  {
   "cell_type": "markdown",
   "id": "b6495e98",
   "metadata": {},
   "source": [
    "## Códigos"
   ]
  },
  {
   "cell_type": "markdown",
   "id": "c6a97283",
   "metadata": {},
   "source": [
    "| Nombre                             | Codigo         |\n",
    "|------------------------------------|----------------|\n",
    "| ACEVEDO QUINTERO ANLLI VANESA      | 343115835205TY |\n",
    "| ANZOLA AMAYA   ALAN JAMITH         | 7P31158352053J |\n",
    "| APONTE PINEDA   BRAYAN FELIPE      | V62115835209MN |\n",
    "| CAÑON PEÑA   MARLON JULIAN         | HK7115835202QD |\n",
    "| CARVAJAL   ALZATE WILLIAM GERARDO  | PH8115835203PR |\n",
    "| CULMA   GUTIERREZ RONALD CAMILO    | 9P5115835204XA |\n",
    "| GALINDO MARTA   JOHAN SEBASTIAN    | XK7115835200HB |\n",
    "| GOMEZ GARZON   ANGEL STIBEN        | VR41158352006F |\n",
    "| GOMEZ SAAVEDRA   DANIEL FELIPE     | TH8115835203RT |\n",
    "| HIDALGO VALERA   MANUEL EDUARDO    | 9P2115835209FE |\n",
    "| LARGO MARTINEZ   JORDAN ZAID       | PD61158352079M |\n",
    "| LUGO FLORES   RAULIMAR NASARETH    | PQ5115835200FV |\n",
    "| MEDINA   AMEZQUITA EVELIN DAYANA   | KE711583520244 |\n",
    "| MONCADA   MARTINEZ DIEGO ALEXANDER | PJ4115835201D6 |\n",
    "| PEDRAZA   SANCHEZ CAROL YISED      | CY6115835204PQ |\n",
    "| PEÑA MUÑOZ   NICOL DAYANA          | M96115835208PB |\n",
    "| PINILLA   FAJARDO DAVID            | QC6115835203ER |\n",
    "| QUINTERO   MONTAÑEZ SEBASTIAN      | TP2115835207KA |\n",
    "| RAMIREZ   CARRILLO LUIS ENRRIQUE   | V97115835202FH |\n",
    "| RINCON MEDINA   DAVID MATEO        | 3G21158352053R |\n",
    "| RIVERA GRILLO   JUAN DAVID         | FQ5115835207M9 |\n",
    "| RIVEROS PULIDO   JUAN PABLO        | JB0115835203BY |\n",
    "| RODRIGUEZ   CASALLAS MARIA PAULA   | AV6115835202BN |\n",
    "| ROSAS RAMIREZ   JEAN SEBASTIAN     | JG711583520363 |\n",
    "| VALDES   CORREDOR JUAN DAVID       | QV5115835200VX |\n",
    "| VELEZ NARANJO   KEVIN MATEO        | CM8115835207VJ |\n",
    "| TRONCOSO CARVAJAL VALERIA          | DP1115835207F4 |\n",
    "| OCHOA MELO DANIEL SANTIAGO         | DK8115835209K6 |\n",
    "| PRADA AGUJA TEYLOR JAVIER          | XG9115835200EN |"
   ]
  },
  {
   "cell_type": "markdown",
   "id": "9ebe6534",
   "metadata": {},
   "source": [
    "## Registrese en la plataforma (cuando el profesor indique)\n",
    "Una vez el profesor de las indicaciones, dirijase al siguiente enlace\n",
    "\n",
    "\n",
    "[ClassMarker](https://www.classmarker.com/register/)"
   ]
  }
 ],
 "metadata": {
  "kernelspec": {
   "display_name": "Python 3 (ipykernel)",
   "language": "python",
   "name": "python3"
  },
  "language_info": {
   "codemirror_mode": {
    "name": "ipython",
    "version": 3
   },
   "file_extension": ".py",
   "mimetype": "text/x-python",
   "name": "python",
   "nbconvert_exporter": "python",
   "pygments_lexer": "ipython3",
   "version": "3.9.13"
  }
 },
 "nbformat": 4,
 "nbformat_minor": 5
}
