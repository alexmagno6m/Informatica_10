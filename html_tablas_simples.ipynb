{
 "cells": [
  {
   "cell_type": "markdown",
   "id": "eaefcb29-cb68-47c2-95a2-54ef8f6c3177",
   "metadata": {},
   "source": [
    "# Tablas Simples en HTML"
   ]
  },
  {
   "cell_type": "markdown",
   "id": "33132f3f-a92c-4b30-87cd-ada708d39475",
   "metadata": {},
   "source": [
    "Las tablas en HTML se construyen entre las etiquetas ```<table>``` y  ```</table>```, estan constituidas por filas de encabezado, identificadas con las etiquetas ```<th>```, filas normales con las etiquetas ```<tr>``` y celdas que son cada uno de los cuadros donde se dispone el contenido de la tabla entre las etiquetas ```<td>```. Se dice que una tabla es simple cuando cada una de las celdas ocupa el mismo tamaño respecto a las demás."
   ]
  },
  {
   "cell_type": "markdown",
   "id": "dc1c5fbb-bc36-410a-b9a3-e539df5dff64",
   "metadata": {},
   "source": [
    "## Consideraciones para la construcción de una tabla simple"
   ]
  },
  {
   "cell_type": "markdown",
   "id": "3a129baa-cbbe-42ea-a80e-64f1ae492e55",
   "metadata": {},
   "source": [
    "1. Se elaboran por filas\n",
    "2. Cuando se inica una fila se agregan las celdas que van en ella.\n",
    "3. Una vez construída una fila, se continúa con la siguiente\n",
    "4. El proceso se repite hasta terminar la construcción de la tabla."
   ]
  },
  {
   "cell_type": "markdown",
   "id": "663e6ffc-6c1b-4f6c-9fe7-2a1bcbbb76e7",
   "metadata": {},
   "source": [
    "## Ejemplo "
   ]
  },
  {
   "cell_type": "markdown",
   "id": "03b952af-ec9f-48c1-9360-a24996a896cc",
   "metadata": {},
   "source": [
    "Construiremos la siguiente tabla, dentro de las celdas de la segunda fila debe aparecer la información del estudiante."
   ]
  },
  {
   "cell_type": "markdown",
   "id": "326cfd75-f6aa-438d-a495-228161b05c0d",
   "metadata": {},
   "source": [
    "![Drag Racing](images/tabla_sencilla.png)"
   ]
  },
  {
   "cell_type": "markdown",
   "id": "a477f41d-6b35-4755-a49d-46bf31e39319",
   "metadata": {},
   "source": [
    "1. Agregamos la etiqueta ```<table>```\n",
    "2. Agrupamos la filas de encabezado con la etiqueta ```<thead>```\n",
    "3. Construimos cada fila de encabezado con la etiqueta ```<tr>```\n",
    "4. Escribimos el contenido de cada celda  de encabezado entre las etiquetas ```<th>``` y ```</th>```\n",
    "5. Las siguiente filas, que son de contenido y no de encabezado, estarán agrupadas entre las etiquetas ```<tbody>```\n",
    "6. Cada una de estas filas se construiran con las etiquetas ```<tr>```\n",
    "7. Las celdas con contenido se realizan con la etiqueta ```<td>```\n",
    "8. Se preocede con las siguientes filas como se realizó en los puntos 6 y 7."
   ]
  },
  {
   "cell_type": "markdown",
   "id": "2bf0e29a-4312-4f84-86db-59b0a8f68f18",
   "metadata": {},
   "source": [
    "## Estilos en tablas"
   ]
  },
  {
   "cell_type": "markdown",
   "id": "d5d5512f-7309-41b8-ae65-7a4f9eb86db2",
   "metadata": {},
   "source": [
    "1. Agregando un ID para poderla seleccionar en cado de tener una tabla"
   ]
  },
  {
   "cell_type": "markdown",
   "id": "400fd7d5-42e1-45ec-b7da-359a58fd0743",
   "metadata": {},
   "source": [
    "```id=\"tabla1\"```"
   ]
  },
  {
   "cell_type": "markdown",
   "id": "b6ba86b5-a8bc-45d0-a91b-0494719b523b",
   "metadata": {},
   "source": [
    "2. En el archivo CSS se agregan los siguientes propiedades al __id__ ```#tabla1```"
   ]
  },
  {
   "cell_type": "markdown",
   "id": "45c1c6a9-af87-485b-9797-2553b975486a",
   "metadata": {},
   "source": [
    "```\n",
    "border-collapse:collapse;\n",
    "border-spacing:0;\n",
    "```"
   ]
  },
  {
   "cell_type": "markdown",
   "id": "16e3b591-39fd-4bb5-a583-e5f3fcbd3293",
   "metadata": {},
   "source": []
  }
 ],
 "metadata": {
  "kernelspec": {
   "display_name": "Python 3 (ipykernel)",
   "language": "python",
   "name": "python3"
  },
  "language_info": {
   "codemirror_mode": {
    "name": "ipython",
    "version": 3
   },
   "file_extension": ".py",
   "mimetype": "text/x-python",
   "name": "python",
   "nbconvert_exporter": "python",
   "pygments_lexer": "ipython3",
   "version": "3.12.0"
  }
 },
 "nbformat": 4,
 "nbformat_minor": 5
}
