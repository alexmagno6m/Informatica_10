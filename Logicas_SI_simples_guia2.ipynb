{
 "cells": [
  {
   "cell_type": "markdown",
   "id": "ccce78fc-0d18-42ab-a626-6145653d3bcf",
   "metadata": {},
   "source": [
    "### Asignatura Informatica - Grado 10\n",
    "__Clase:__ Funciones logicas ```SI``` simples <br>\n",
    "__Profesor:Alexander Acevedo Gomez__<br>\n",
    "Ingeniero de Sistemas - Universidad Nacional de Colombia <br>\n",
    "Magister en Modelado y Simulacion por Computador - Universidad Jorge Tadeo Lozano <br>\n",
    "__Telegram: @Alex6m__"
   ]
  },
  {
   "cell_type": "markdown",
   "id": "16a3f615-75a9-4482-a870-12e90412aaa3",
   "metadata": {},
   "source": [
    "# Guia 2 - Funciones Lógicas de tipo ```SI``` simples"
   ]
  },
  {
   "cell_type": "markdown",
   "id": "355bf271-e38b-465e-a735-5c79d7a88075",
   "metadata": {},
   "source": [
    "### Ejercicios y Obtención del Sello (5 puntos máximo)"
   ]
  },
  {
   "cell_type": "markdown",
   "id": "be369265-20cb-4bf7-b591-337de887ecc2",
   "metadata": {},
   "source": [
    "Para obtener el sello escriba en su cuaderno:\n",
    "1. __Competencia__: 1\n",
    "2. __Ámbito conceptual__: Las funciones lógicas SI, Y, O. Simples y anidadas.\n",
    "3. __Objetivo__: Plantear correctamente la prueba logica de la funcion SI, desarrollando las operaciones  con las funciones necesarias en la parte verdadera y falsa.\n",
    "4. __Nombre de la actividad__: Guia 2 funciones si simples."
   ]
  },
  {
   "cell_type": "markdown",
   "id": "7bda2df1-4ac6-469b-b604-7394df53e709",
   "metadata": {},
   "source": [
    "> ### No traduzca esta pagina a español, ya que las tablas se afectan"
   ]
  },
  {
   "cell_type": "markdown",
   "id": "edb0cec6-5d67-4646-be10-c84cfacb8e8c",
   "metadata": {},
   "source": [
    "## Ejercicio 1 - 1002"
   ]
  },
  {
   "cell_type": "markdown",
   "id": "f48f53e4-82e5-4d3c-b770-f015b22a0a2d",
   "metadata": {},
   "source": [
    "La siguiente tabla muestra el consumo de agua en un grupo de personas en los meses de enero a mayo"
   ]
  },
  {
   "cell_type": "markdown",
   "id": "426d19ba-4c2a-408c-b365-a864af91e7c2",
   "metadata": {},
   "source": [
    "1. Copie la siguiente tabla en la __```Hoja1```__, tenga en cuenta de cambiar __puntos por comas__:"
   ]
  },
  {
   "cell_type": "markdown",
   "id": "e9a49781-d728-4f0e-ac46-882891817e58",
   "metadata": {},
   "source": [
    "| Nombre | Enero     | Febrero   | Marzo     | Abril     | Mayo      |\n",
    "|------------|-----------|-----------|-----------|-----------|-----------|\n",
    "| Dyane      | 330469.92 | 403514.14 | 372751.43 | 425405.65 | 316970.68 |\n",
    "| Stephana   | 155600.92 | 88799.43  | 306210.7  | 330512.71 | 226808.4  |\n",
    "| Constantin | 48012.27  | 316110.92 | 68489.52  | 336932.46 | 423730.57 |\n",
    "| Odetta     | 414037.93 | 299378.1  | 26969.72  | 167846.49 | 86217.79  |\n",
    "| Norrie     | 94427.6   | 373136.09 | 450624.18 | 333825.25 | 31330.58  |\n",
    "| Anny       | 64997.67  | 114928.53 | 156500.93 | 290233.56 | 382906.43 |\n",
    "| Lindsy     | 441854.86 | 146296.1  | 122352.15 | 129999.54 | 433832.42 |\n",
    "| Patty      | 280160.81 | 262110.06 | 353734.59 | 478466.59 | 291500.51 |\n",
    "| Chen       | 307016.79 | 393823.9  | 238307.22 | 400863.13 | 208131.96 |\n",
    "| Lanny      | 62277.48  | 431883.9  | 360642.51 | 224210.82 | 233883.11 |\n",
    "| Samuel     | 233623.15 | 316825.96 | 138159.79 | 373110.56 | 329309.03 |\n",
    "| Corry      | 457441.44 | 239839.09 | 347429.96 | 89340.38  | 243135.69 |\n",
    "| Odilia     | 407704.08 | 78995.13  | 44095.81  | 325881.99 | 411201.21 |\n",
    "| Washington | 325091.15 | 464169.09 | 409476.35 | 388832.12 | 294288.38 |\n",
    "| Charley    | 182740.99 | 475031.61 | 265152.16 | 78632.46  | 387540.64 |\n",
    "| Antonin    | 283260.37 | 415006.24 | 268281.8  | 439398.55 | 59281.82  |\n",
    "| Elsi       | 49461.88  | 411380.02 | 370506.62 | 389926.01 | 73465.7   |\n",
    "| Nancy      | 166978.88 | 322787.43 | 431086.68 | 171043.9  | 53061.02  |\n",
    "| Kalli      | 182707.89 | 63693.88  | 109340.77 | 129563.56 | 214752.89 |\n",
    "| Kore       | 327516.64 | 327937.04 | 69117.29  | 370254.84 | 163661.24 |\n",
    "| Sella      | 94864.74  | 370150.37 | 414309.2  | 456768.43 | 495237.02 |\n",
    "| Arlen      | 268664.29 | 470278.45 | 390930.2  | 187897.1  | 206949.24 |\n",
    "| Gunther    | 189861.62 | 77489.07  | 168778.42 | 61841.37  | 395160.39 |\n",
    "| Ilaire     | 326199.51 | 373103.69 | 109071.97 | 27283.82  | 29777.4   |\n",
    "| Phillie    | 278759.69 | 165317.42 | 259974.25 | 365680.45 | 486846.58 |"
   ]
  },
  {
   "cell_type": "markdown",
   "id": "9cfac52c-1918-44d4-8801-303e1445b574",
   "metadata": {},
   "source": [
    "2. Agregue en la columna ```G1``` una columna llamada ```consumo total```\n",
    "3. Calcule en la columna ```G``` el total de agua consumida por cada persona.\n",
    "4. Agregue en la celda ```H1``` una columna llamada ```promedio consumo```.\n",
    "5. Calcule en la columna ```H``` el promedio de agua consumida en los 5 meses, empleando la formula vista en el primer periodo.\n",
    "6. Agregue en la celda ```I1``` una columna llamada ```descuento por bajo consumo```\n",
    "7. Suponga que el gobierno dará un subsidio a aquellas personas cuyo promedio por agua sea inferior a ```220000```.\n",
    "   - Indique en la columna ```I``` con el texto \"Subsidio Aprobado\" a quienes cumplan el requisito y \"Denegado\" a los que no lo cumplan.\n",
    "8. Agregue en la celda ```J1``` una columna llamada ```Precio final con Descuento```\n",
    "9. Las personas que salieron favorecidas con el subsidio del punto 7, se les dara un descuento de ```50000``` sobre el precio total del consumo,  calcule en la columna ```J``` el nuevo precio empleando la funcion SI, pero a las personas que no tienen subsidio esa celda debe aparecer vacia."
   ]
  },
  {
   "cell_type": "markdown",
   "id": "9c763d15-0b60-4c6f-9a6f-4db373e79738",
   "metadata": {},
   "source": [
    "## Ejercicio 2 - 1002"
   ]
  },
  {
   "cell_type": "markdown",
   "id": "638fd2c4-9a9a-4aba-aed1-96a3a296f56d",
   "metadata": {},
   "source": [
    "La siguiente tabla muestra el rendimiento de un grupo de jugadores en un juego de acción, muestra diversa información sobre el rendimiento en el nivel final.\n",
    "1. Copie la tabla en la __```hoja2```__, tenga en cuenta de cambiar __puntos por comas__:"
   ]
  },
  {
   "cell_type": "markdown",
   "id": "2c3c749b-a6cb-46c5-9f4e-2dd089684b54",
   "metadata": {},
   "source": [
    "| irst_name | Total shots | Accuracy % | Penalities % | Partial points|\n",
    "|-----------|-------------|-----------|------------|--------------|\n",
    "| Laetitia  | 7838        | 52.8      | 43.1       | 6296         |\n",
    "| Hart      | 5499        | 75.2      | 5.5        | 4394         |\n",
    "| Helena    | 3662        | 92.3      | 34.4       | 589          |\n",
    "| Yehudi    | 7184        | 97.8      | 11.9       | 6743         |\n",
    "| Jacinthe  | 4188        | 61.4      | 59.8       | 8952         |\n",
    "| Annnora   | 9930        | 32.5      | 46.0       | 6933         |\n",
    "| Zorina    | 3478        | 38.1      | 42.1       | 8704         |\n",
    "| Rhiamon   | 5990        | 75.0      | 8.3        | 8509         |\n",
    "| Niko      | 6685        | 9.5       | 80.9       | 4321         |\n",
    "| Brannon   | 1771        | 12.4      | 47.4       | 7226         |\n",
    "| Marin     | 2846        | 21.1      | 48.9       | 7864         |\n",
    "| Tod       | 7536        | 7.4       | 21.3       | 4684         |\n",
    "| Bernarr   | 489         | 11.3      | 46.7       | 3850         |\n",
    "| Kissiah   | 5397        | 51.9      | 80.9       | 3121         |\n",
    "| Ali       | 6283        | 27.0      | 27.2       | 7676         |\n",
    "| Linus     | 7971        | 65.5      | 22.6       | 6969         |\n",
    "| Letti     | 1451        | 40.9      | 13.7       | 7902         |\n",
    "| Linda     | 5945        | 24.4      | 38.2       | 2796         |\n",
    "| Michele   | 8641        | 99.1      | 31.4       | 2376         |\n",
    "| Taite     | 8551        | 79.3      | 98.3       | 5273         |\n",
    "| Murvyn    | 5047        | 71.0      | 76.1       | 4137         |\n",
    "| Antonin   | 3314        | 56.4      | 28.4       | 6201         |\n",
    "| Hermine   | 5140        | 15.9      | 75.6       | 7195         |\n",
    "| Earvin    | 2029        | 20.1      | 71.8       | 3779         |\n",
    "| Theressa  | 5972        | 72.7      | 89.0       | 5109         |"
   ]
  },
  {
   "cell_type": "markdown",
   "id": "f73de133-b319-4935-b145-bb12696e1584",
   "metadata": {},
   "source": [
    "2. Agregue en la celda ```F1``` una columna llamada ```Points Accurancy```\n",
    "3. Lea con atención lo siguiente:"
   ]
  },
  {
   "cell_type": "markdown",
   "id": "00b49503-3a0d-468e-b631-0e347f41e3e8",
   "metadata": {},
   "source": [
    "> - ```Points Accurancy``` es el valor que resulta de multiplicar ```Total shots``` por ```Accuracy``` (en porcentaje).\n",
    "> - Realice ese calculo en la columna ```F```, reduzca el valor decimal a 1 digito."
   ]
  },
  {
   "cell_type": "markdown",
   "id": "f8cbd479-e43d-4fc6-9c32-719776ebefcd",
   "metadata": {},
   "source": [
    "4. Agregue en la celda ```G1``` una columna llamada ```Points penalities```\n",
    "5. Lea con atención lo siguiente:"
   ]
  },
  {
   "cell_type": "markdown",
   "id": "add94b62-d425-4417-90f8-00cd5a8ae6a6",
   "metadata": {},
   "source": [
    "> - Points Penalities es el valor que resulta de multiplicar ```Total shots``` por ```Penalities```(en porcentaje).\n",
    "> - Realice en la columna ```G``` dicho calculo, reduzca el valor decimal a 1 digito."
   ]
  },
  {
   "cell_type": "markdown",
   "id": "0521f7ae-0fdd-44db-ad4b-f03976bbf04a",
   "metadata": {},
   "source": [
    "6. Agregue en la celda ```H1``` una columna llamada ```Total Points```\n",
    "7. En la columna ```H``` calcule los puntos totales lo cual corresponde a la suma de ```Total shots``` con ```Points Accuracy``` menos ```Points Penalities```.\n",
    "8. En la celda ```I1``` agregue una columna llamada ```Total + Bonus```\n",
    "9. Lea con atención lo siguiente: "
   ]
  },
  {
   "cell_type": "markdown",
   "id": "5283439d-b47f-4c73-bd17-f30c5e43272f",
   "metadata": {},
   "source": [
    "> - Cada jugador recibirá un valor de bonus el cual corresponde a ```1000``` puntos adicinales si el porcentaje de ```Accuracy``` es como mínimo del ```75%``` y ```500``` puntos para el resto.\n",
    "> - En esa columna debe aparecer los puntos totales con el valor del bonus ya calculado dentro de la formula."
   ]
  },
  {
   "cell_type": "markdown",
   "id": "c7b69e9a-cc0f-4066-9211-21658d330adb",
   "metadata": {},
   "source": [
    "Guarde el archivo como: Guia2_funcionesSi_MesDia, por ejemplo: ```Guia2_FuncionesSi_Abril30```"
   ]
  },
  {
   "cell_type": "markdown",
   "id": "021b8b49-cc33-43ee-8161-242a1d16981a",
   "metadata": {},
   "source": [
    "## Ejercicio 1 - 1003"
   ]
  },
  {
   "cell_type": "markdown",
   "id": "378d7648-64f5-4793-afe4-22aba00bef60",
   "metadata": {},
   "source": [
    "Los estudiantes de cierta universidad extranjera aprueban una materia si su nota es superior o igual a 37"
   ]
  },
  {
   "cell_type": "markdown",
   "id": "0d1e29c0-e1aa-44d3-8c33-35a93fc53be7",
   "metadata": {},
   "source": [
    "1. Copie la siguiente tabla en la __Hoja 1__, tenga en cuenta de cambiar __puntos por comas__"
   ]
  },
  {
   "cell_type": "markdown",
   "id": "80ec71a0-6fde-4291-9f8c-34a9bb44a5a3",
   "metadata": {},
   "source": [
    "| Nombre    | Nota 1 | Nota 2 |\n",
    "|-----------|--------|--------|\n",
    "| Meggi     | 10.6   | 36.2   |\n",
    "| Georgy    | 48.5   | 48.2   |\n",
    "| Ronny     | 14.8   | 40.3   |\n",
    "| Daphna    | 40.6   | 44.5   |\n",
    "| Devan     | 45.5   | 18.2   |\n",
    "| Ross      | 25.4   | 13.0   |\n",
    "| Brooke    | 29.0   | 14.8   |\n",
    "| Feliza    | 49.6   | 24.8   |\n",
    "| Jens      | 25.9   | 16.1   |\n",
    "| Michele   | 49.2   | 35.8   |\n",
    "| Leia      | 49.4   | 47.6   |\n",
    "| Sibylle   | 42.7   | 38.3   |\n",
    "| Huntlee   | 44.5   | 16.2   |\n",
    "| Guillema  | 23.3   | 29.6   |\n",
    "| Ekaterina | 24.6   | 16.0   |\n",
    "| Rochette  | 26.2   | 18.0   |\n",
    "| Isidro    | 16.8   | 40.9   |\n",
    "| Ulrick    | 37.8   | 44.4   |\n",
    "| Jane      | 30.6   | 38.6   |\n",
    "| Aurie     | 24.3   | 13.7   |"
   ]
  },
  {
   "cell_type": "markdown",
   "id": "76d13cad-b86f-4ab4-bd12-e38928f28890",
   "metadata": {},
   "source": [
    "2. Agregue en la celda ```D1``` el texto \"Nota Final\"\n",
    "3. Calcule en dicha columna ```D``` el promedio simple de las dos notas\n",
    "4. Agregue en la celda ```E1``` el texto \"Valoracion\"\n",
    "5. Obtenga en la columna ```E``` el texto \"Aprobado\" o \"Reprobado\" según la condición que se anuncia al inicio.\n",
    "6. El profesor desea dar una ayuda adicional agregando 2 puntos a quienes su nota final sea superior a 32, agregue en la celda ```F1``` el texto \"Puntos extras\" y mediante la funcion si calcule la nueva nota para quienes cumplen el requisito, para el resto la celda debe aparecer vacía."
   ]
  },
  {
   "cell_type": "markdown",
   "id": "a4d60853-6e3d-4104-bc44-f87aa1451613",
   "metadata": {},
   "source": [
    "## Ejercicio 2 - 1003"
   ]
  },
  {
   "cell_type": "markdown",
   "id": "d3b6a494-ef78-4a8a-85a3-6a9927bfe0a5",
   "metadata": {},
   "source": [
    "La siguiente tabla muestra el resultado de un estudio realizado a un grupo de personas en un dia especifico, sobre el consumo de calorias, alimentacion y actividad realizada. Segun esto se ha definido que:\n",
    "- Si el almuerzo consumido es \"Light\" las calorias diarias disminuyen en 300, en cambio, si es \"Normal\" éstas aumentan en 450.\n",
    "- Si la actividad realizada es \"Moderada\" las calorias diarias disminuyen en 230, si es \"Suave\" lo hacen en 150.\n",
    "- Adicionalmente si se caminaron mas de 8000 pasos, las calorias disminuyen en 320 y 250 para el resto."
   ]
  },
  {
   "cell_type": "markdown",
   "id": "080f310d-0e0c-4c8f-9247-f01b36bbe257",
   "metadata": {},
   "source": [
    "1. Copie la siguiente tabla en la __Hoja 2__:"
   ]
  },
  {
   "cell_type": "markdown",
   "id": "edf63394-bce1-4328-ad1d-c464704d5dce",
   "metadata": {},
   "source": [
    "| Nombre     | Calorias Diarias | Almuerzo consumido | Actividad realizada | Pasos caminados |\n",
    "|------------|------------------|--------------------|---------------------|-----------------|\n",
    "| Mendy      | 1211             | Light              | Moderada            | 4343            |\n",
    "| Diahann    | 992              | Normal             | Suave               | 3274            |\n",
    "| Cordie     | 2022             | Light              | Moderada            | 9680            |\n",
    "| Antonetta  | 983              | Light              | Moderada            | 7976            |\n",
    "| Devin      | 1795             | Normal             | Moderada            | 3065            |\n",
    "| Koren      | 1672             | Light              | Moderada            | 6932            |\n",
    "| Tito       | 1029             | Light              | Moderada            | 7039            |\n",
    "| Ellsworth  | 1804             | Light              | Moderada            | 9518            |\n",
    "| Cullen     | 1284             | Normal             | Moderada            | 928             |\n",
    "| Jeromy     | 1668             | Normal             | Moderada            | 4833            |\n",
    "| Anastassia | 859              | Normal             | Moderada            | 5905            |\n",
    "| Larine     | 1531             | Light              | Moderada            | 5531            |\n",
    "| Obadiah    | 1333             | Light              | Suave               | 4025            |\n",
    "| Warner     | 1206             | Light              | Suave               | 6181            |\n",
    "| Hartley    | 1440             | Light              | Suave               | 4336            |\n",
    "| Brockie    | 1802             | Normal             | Suave               | 9231            |\n",
    "| Annetta    | 2092             | Light              | Moderada            | 1288            |\n",
    "| Byrann     | 2301             | Light              | Suave               | 7288            |\n",
    "| Julita     | 1773             | Light              | Moderada            | 5232            |\n",
    "| Rachel     | 1841             | Light              | Moderada            | 2348            |\n",
    "| Kayla      | 2382             | Light              | Moderada            | 8525            |\n",
    "| Minni      | 1092             | Normal             | Moderada            | 5236            |\n",
    "| Mose       | 2346             | Light              | Moderada            | 4622            |\n",
    "| Barty      | 1169             | Normal             | Moderada            | 3579            |\n",
    "| Hillier    | 1149             | Normal             | Suave               | 1132            |\n",
    "| Daniel     | 2037             | Normal             | Moderada            | 9730            |\n",
    "| Raddie     | 2007             | Normal             | Suave               | 8783            |\n",
    "| Hildagard  | 2390             | Light              | Moderada            | 8572            |\n",
    "| Grove      | 1453             | Light              | Moderada            | 9219            |\n",
    "| Frances    | 1195             | Light              | Suave               | 6097            |"
   ]
  },
  {
   "cell_type": "markdown",
   "id": "1a849784-f227-476d-9a34-02d8fcf4a0fe",
   "metadata": {},
   "source": [
    "2. Agregue en la columna ```F``` el texto __\"Calorias-Almuerzo\"__ y empleando la funcion SI calcule las nuevas calorias segun el tipo de almuerzo que ha consumido, restando o sumando según el caso.\n",
    "3. En la columna ```G``` escriba __\"Calorias-Actividad\"__, ahora teniendo en cuenta el resultado obtenido en el punto anterior calcule las nuevas calorias segun el tipo de actividad que se realizó\n",
    "4. En la columna ```H``` agregue el texto __\"Calorias-Pasos\"__ y calcule el nuevo resultado acomulado obtenido segun se indica al principio.\n",
    "5. Finalmente en la columna ```J``` escriba __\"Calorias perdidas\"__ calcule cuantas calorias se perdieron en total, restando las que se tenian al principio frente a las obtenidas en el punto anterior, quienes hayan perdido mas de 400 calorias les debe aparecer \"Reto cumplido\" y al resto \"Sigue intentando\"."
   ]
  },
  {
   "cell_type": "markdown",
   "id": "1e49c559-6a45-4bbf-a343-b9539bd04dfe",
   "metadata": {},
   "source": [
    "Guarde el archivo como: Guia2_funcionesSi_MesDia, por ejemplo: ```Guia2_FuncionesSi_Abril30```"
   ]
  }
 ],
 "metadata": {
  "kernelspec": {
   "display_name": "Python 3 (ipykernel)",
   "language": "python",
   "name": "python3"
  },
  "language_info": {
   "codemirror_mode": {
    "name": "ipython",
    "version": 3
   },
   "file_extension": ".py",
   "mimetype": "text/x-python",
   "name": "python",
   "nbconvert_exporter": "python",
   "pygments_lexer": "ipython3",
   "version": "3.12.1"
  }
 },
 "nbformat": 4,
 "nbformat_minor": 5
}
