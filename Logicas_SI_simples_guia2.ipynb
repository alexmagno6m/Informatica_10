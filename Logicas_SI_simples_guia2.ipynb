{
 "cells": [
  {
   "cell_type": "markdown",
   "id": "ccce78fc-0d18-42ab-a626-6145653d3bcf",
   "metadata": {},
   "source": [
    "### Asignatura Informatica - Grado 10\n",
    "__Clase:__ Funcion condicionada: SUMAR.SI <br>\n",
    "__Profesor:Alexander Acevedo Gomez__<br>\n",
    "Ingeniero de Sistemas - Universidad Nacional de Colombia <br>\n",
    "Magister en Modelado y Simulacion por Computador - Universidad Jorge Tadeo Lozano <br>\n",
    "__Telegram: @Alex6m__"
   ]
  },
  {
   "cell_type": "markdown",
   "id": "16a3f615-75a9-4482-a870-12e90412aaa3",
   "metadata": {},
   "source": [
    "# Guia 2 - Funciones Lógicas de tipo ```SI``` simples"
   ]
  },
  {
   "cell_type": "markdown",
   "id": "355bf271-e38b-465e-a735-5c79d7a88075",
   "metadata": {},
   "source": [
    "### Ejercicios y Obtención del Sello (5 puntos máximo)"
   ]
  },
  {
   "cell_type": "markdown",
   "id": "be369265-20cb-4bf7-b591-337de887ecc2",
   "metadata": {},
   "source": [
    "Para obtener el sello escriba en su cuaderno:\n",
    "1. __Competencia__: 1\n",
    "2. __Ámbito conceptual__: Las funciones lógicas SI, Y, O. Simples y anidadas.\n",
    "3. __Objetivo__: Plantear correctamente la prueba logica de la funcion SI, desarrollando las operaciones  con las funciones necesarias en la parte verdadera y falsa.\n",
    "4. __Nombre de la actividad__: Guia 2 funciones si simples."
   ]
  },
  {
   "cell_type": "markdown",
   "id": "15fff55e-a49b-45f4-9b98-f3dec07b3f33",
   "metadata": {},
   "source": [
    "## Ejercicio 1"
   ]
  },
  {
   "cell_type": "markdown",
   "id": "378d7648-64f5-4793-afe4-22aba00bef60",
   "metadata": {},
   "source": [
    "Los estudiantes de cierta universidad extranjera aprueban una materia si su nota es superior o igual a 37"
   ]
  },
  {
   "cell_type": "markdown",
   "id": "0d1e29c0-e1aa-44d3-8c33-35a93fc53be7",
   "metadata": {},
   "source": [
    "1. Copie la siguiente tabla en la __Hoja 1__, tenga en cuenta de cambiar __puntos por comas__"
   ]
  },
  {
   "cell_type": "markdown",
   "id": "80ec71a0-6fde-4291-9f8c-34a9bb44a5a3",
   "metadata": {},
   "source": [
    "| Nombre    | Nota 1 | Nota 2 |\n",
    "|-----------|--------|--------|\n",
    "| Meggi     | 10.6   | 36.2   |\n",
    "| Georgy    | 48.5   | 48.2   |\n",
    "| Ronny     | 14.8   | 40.3   |\n",
    "| Daphna    | 40.6   | 44.5   |\n",
    "| Devan     | 45.5   | 18.2   |\n",
    "| Ross      | 25.4   | 13.0   |\n",
    "| Brooke    | 29.0   | 14.8   |\n",
    "| Feliza    | 49.6   | 24.8   |\n",
    "| Jens      | 25.9   | 16.1   |\n",
    "| Michele   | 49.2   | 35.8   |\n",
    "| Leia      | 49.4   | 47.6   |\n",
    "| Sibylle   | 42.7   | 38.3   |\n",
    "| Huntlee   | 44.5   | 16.2   |\n",
    "| Guillema  | 23.3   | 29.6   |\n",
    "| Ekaterina | 24.6   | 16.0   |\n",
    "| Rochette  | 26.2   | 18.0   |\n",
    "| Isidro    | 16.8   | 40.9   |\n",
    "| Ulrick    | 37.8   | 44.4   |\n",
    "| Jane      | 30.6   | 38.6   |\n",
    "| Aurie     | 24.3   | 13.7   |"
   ]
  },
  {
   "cell_type": "markdown",
   "id": "76d13cad-b86f-4ab4-bd12-e38928f28890",
   "metadata": {},
   "source": [
    "2. Agregue en la celda ```D1``` el texto \"Nota Final\"\n",
    "3. Calcule en dicha columna ```D``` el promedio simple de las dos notas\n",
    "4. Agregue en la celda ```E1``` el texto \"Valoracion\"\n",
    "5. Obtenga en la columna ```E``` el texto \"Aprobado\" o \"Reprobado\" según la condición que se anuncia al inicio.\n",
    "6. El profesor desea dar una ayuda adicional agregando 2 puntos a quienes su nota final sea superior a 32, agregue en la celda ```F1``` el texto \"Puntos extras\" y mediante la funcion si calcule la nueva nota para quienes cumplen el requisito, para el resto la celda debe aparecer vacía."
   ]
  },
  {
   "cell_type": "markdown",
   "id": "a4d60853-6e3d-4104-bc44-f87aa1451613",
   "metadata": {},
   "source": [
    "## Ejercicio 2"
   ]
  },
  {
   "cell_type": "markdown",
   "id": "d3b6a494-ef78-4a8a-85a3-6a9927bfe0a5",
   "metadata": {},
   "source": [
    "La siguiente tabla muestra el resultado de un estudio realizado a un grupo de personas en un dia especifico, sobre el consumo de calorias, alimentacion y actividad realizada. Segun esto se ha definido que:\n",
    "- Si el almuerzo consumido es \"Light\" las calorias diarias disminuyen en 300, en cambio, si es \"Normal\" éstas aumentan en 450.\n",
    "- Si la actividad realizada es \"Moderada\" las calorias diarias disminuyen en 230, si es \"Suave\" lo hacen en 150.\n",
    "- Adicionalmente si se caminaron mas de 8000 pasos, las calorias disminuyen en 320 y 250 para el resto."
   ]
  },
  {
   "cell_type": "markdown",
   "id": "080f310d-0e0c-4c8f-9247-f01b36bbe257",
   "metadata": {},
   "source": [
    "1. Copie la siguiente tabla en la __Hoja 2__:"
   ]
  },
  {
   "cell_type": "markdown",
   "id": "edf63394-bce1-4328-ad1d-c464704d5dce",
   "metadata": {},
   "source": [
    "| Nombre     | Calorias Diarias | Almuerzo consumido | Actividad realizada | Pasos caminados |\n",
    "|------------|------------------|--------------------|---------------------|-----------------|\n",
    "| Mendy      | 1211             | Light              | Moderada            | 4343            |\n",
    "| Diahann    | 992              | Normal             | Suave               | 3274            |\n",
    "| Cordie     | 2022             | Light              | Moderada            | 9680            |\n",
    "| Antonetta  | 983              | Light              | Moderada            | 7976            |\n",
    "| Devin      | 1795             | Normal             | Moderada            | 3065            |\n",
    "| Koren      | 1672             | Light              | Moderada            | 6932            |\n",
    "| Tito       | 1029             | Light              | Moderada            | 7039            |\n",
    "| Ellsworth  | 1804             | Light              | Moderada            | 9518            |\n",
    "| Cullen     | 1284             | Normal             | Moderada            | 928             |\n",
    "| Jeromy     | 1668             | Normal             | Moderada            | 4833            |\n",
    "| Anastassia | 859              | Normal             | Moderada            | 5905            |\n",
    "| Larine     | 1531             | Light              | Moderada            | 5531            |\n",
    "| Obadiah    | 1333             | Light              | Suave               | 4025            |\n",
    "| Warner     | 1206             | Light              | Suave               | 6181            |\n",
    "| Hartley    | 1440             | Light              | Suave               | 4336            |\n",
    "| Brockie    | 1802             | Normal             | Suave               | 9231            |\n",
    "| Annetta    | 2092             | Light              | Moderada            | 1288            |\n",
    "| Byrann     | 2301             | Light              | Suave               | 7288            |\n",
    "| Julita     | 1773             | Light              | Moderada            | 5232            |\n",
    "| Rachel     | 1841             | Light              | Moderada            | 2348            |\n",
    "| Kayla      | 2382             | Light              | Moderada            | 8525            |\n",
    "| Minni      | 1092             | Normal             | Moderada            | 5236            |\n",
    "| Mose       | 2346             | Light              | Moderada            | 4622            |\n",
    "| Barty      | 1169             | Normal             | Moderada            | 3579            |\n",
    "| Hillier    | 1149             | Normal             | Suave               | 1132            |\n",
    "| Daniel     | 2037             | Normal             | Moderada            | 9730            |\n",
    "| Raddie     | 2007             | Normal             | Suave               | 8783            |\n",
    "| Hildagard  | 2390             | Light              | Moderada            | 8572            |\n",
    "| Grove      | 1453             | Light              | Moderada            | 9219            |\n",
    "| Frances    | 1195             | Light              | Suave               | 6097            |"
   ]
  },
  {
   "cell_type": "markdown",
   "id": "1a849784-f227-476d-9a34-02d8fcf4a0fe",
   "metadata": {},
   "source": [
    "2. Agregue en la columna ```F``` el texto ___\"Calorias-Almuerzo\"___ y empleando la funcion SI calcule las nuevas calorias segun el tipo de almuerzo que ha consumido, restando o sumando según el caso.\n",
    "3. En la columna ```G``` escriba ___\"Calorias-Actividad\"___, ahora teniendo en cuenta el resultado obtenido en el punto anterior calcule las nuevas calorias segun el tipo de actividad que se realizó\n",
    "4. En la columna ```H``` agregue el texto ___\"Calorias-Pasos\"___ y calcule el nuevo resultado acomulado obtenido segun se indica al principio.\n",
    "5. Finalmente en la columna ```J``` escriba ___Calorias perdidas__ calcule cuantas calorias se perdieron en total, restando las que se tenian al principio frente a las obtenidas en el punto anterior, quienes hayan perdido mas de 400 calorias les debe aparecer \"Reto cumplido\" y al resto \"Sigue intentando\"."
   ]
  },
  {
   "cell_type": "markdown",
   "id": "c7b69e9a-cc0f-4066-9211-21658d330adb",
   "metadata": {},
   "source": [
    "Guarde el archivo como: Guia2_funcionesSi_MesDia, por ejemplo: ```Guia2_FuncionesSi_Abril30```"
   ]
  }
 ],
 "metadata": {
  "kernelspec": {
   "display_name": "Python 3 (ipykernel)",
   "language": "python",
   "name": "python3"
  },
  "language_info": {
   "codemirror_mode": {
    "name": "ipython",
    "version": 3
   },
   "file_extension": ".py",
   "mimetype": "text/x-python",
   "name": "python",
   "nbconvert_exporter": "python",
   "pygments_lexer": "ipython3",
   "version": "3.12.1"
  }
 },
 "nbformat": 4,
 "nbformat_minor": 5
}
