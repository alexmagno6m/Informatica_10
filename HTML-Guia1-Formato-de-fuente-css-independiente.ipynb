{
 "cells": [
  {
   "cell_type": "markdown",
   "id": "260fee48-b5fc-4b31-9c1e-47ce950a3aee",
   "metadata": {},
   "source": [
    "# Guia 1 Formato de fuente"
   ]
  },
  {
   "cell_type": "markdown",
   "id": "e07f4f12-1a98-4920-aeb6-eb2761ee028a",
   "metadata": {},
   "source": [
    "- Profesor: __Alexander Acecedo Gómez__\n",
    "- Ingeniero de sistemas\n",
    "- __Magister en Modelado y Simulación__\n",
    "- @Alex6m"
   ]
  },
  {
   "cell_type": "markdown",
   "id": "ec21df28-9571-4da8-a8c8-95dfc2cace1a",
   "metadata": {},
   "source": [
    "## Etiquetas de formato"
   ]
  },
  {
   "cell_type": "markdown",
   "id": "31181135-548e-4009-bb57-4130426ba639",
   "metadata": {},
   "source": [
    "### ```strong``` para Negrita"
   ]
  },
  {
   "cell_type": "markdown",
   "id": "87348e76-1836-4644-ab8c-c522ab70aebc",
   "metadata": {},
   "source": [
    "> Sirve para colocar un texto en negrita o negrilla, por ejemplo:\n",
    ">\n",
    "> ```La capital de Colombia es <strong> Bogotá </strong>```\n",
    ">\n",
    "> La palabra __Bogotá__ queda en negrita"
   ]
  },
  {
   "cell_type": "markdown",
   "id": "91371f1a-a345-4aa4-9e8d-2365887a2ad3",
   "metadata": {},
   "source": [
    "### ```i``` para Cursiva"
   ]
  },
  {
   "cell_type": "markdown",
   "id": "5f3651e2-d80d-480d-bf2c-c100c07eb6bd",
   "metadata": {},
   "source": [
    "> Sirve para aplicar cursiva a un texto\n",
    ">\n",
    "> ```Mi colegio se llama <i> Antonio Baraya </i>```\n",
    ">\n",
    "> Deja las palabras _Antonio Baraya_ en cursiva"
   ]
  },
  {
   "cell_type": "markdown",
   "id": "025907be-5453-4afa-832b-d2020a5cdb7c",
   "metadata": {},
   "source": [
    "### ```u``` para Subrayado"
   ]
  },
  {
   "cell_type": "markdown",
   "id": "8ad44ba0-55de-4d2f-865e-56eb57bd1adf",
   "metadata": {},
   "source": [
    "> En este caso se emplea la etiqueta ```<u>``` y ```</u>``` y opera igual que los dos formatos anteriores."
   ]
  },
  {
   "cell_type": "markdown",
   "id": "7fb42682-3897-46dd-ab09-0f62961cd445",
   "metadata": {},
   "source": [
    "## Actividad"
   ]
  },
  {
   "cell_type": "markdown",
   "id": "e74d2c40-4772-4b9f-818e-40c944a24675",
   "metadata": {},
   "source": [
    "### IMPORTANTE - Lea esto primero"
   ]
  },
  {
   "cell_type": "markdown",
   "id": "9b591cc9-b91c-4d38-8238-d2e140787ae8",
   "metadata": {},
   "source": [
    "> La actividad debe desarrollarla con base en los conocimientos adquiridos hasta la fecha, empleando únicamente los elementos HTML y propiedades CSS vistos en clase o los que se indiquen en la presente guía. __si el codigo empleado en su actividad tiene partes generadas por IA causará la anulación de la misma y el inicio de proceso disciplinario a que hubiese lugar__.\n",
    ">\n",
    "> Al entregar la actividad se da por hecho que usted acepta la anterior condición"
   ]
  },
  {
   "cell_type": "markdown",
   "id": "9dbb6452-d1ee-47f1-bebe-0461f219b5d6",
   "metadata": {},
   "source": [
    "### Obtención del sello"
   ]
  },
  {
   "cell_type": "markdown",
   "id": "f3241aa7-6e28-4972-86f7-2f6b0e7e2b79",
   "metadata": {},
   "source": [
    "- Competencia: 2\n",
    "- Ambito conceptual: Diseño web\n",
    "- Objetivo: Aplicar con acierto los diferentes formato de texto basico segun los requerimientos solicitados y cumpliendo con las demas especificiaciones."
   ]
  },
  {
   "cell_type": "markdown",
   "id": "fa97859e-4786-4629-b68b-8716615a782f",
   "metadata": {},
   "source": [
    "### Puntos 1001"
   ]
  },
  {
   "cell_type": "markdown",
   "id": "53e8671f-b251-44c6-a32b-ff27ea197480",
   "metadata": {},
   "source": [
    "### Primeros Pasos - configuracion del espacio de trabajo:"
   ]
  },
  {
   "cell_type": "markdown",
   "id": "9f635d98-5323-44be-841b-f803c9ff847c",
   "metadata": {},
   "source": [
    "1. Cree en el explorador de Windows la carpeta `actividad 3` dentro de la carpeta con su nombre. Observe la siguiente ruta:"
   ]
  },
  {
   "cell_type": "markdown",
   "id": "9f483e5e-2359-46a5-98e8-248be3f0fb15",
   "metadata": {},
   "source": [
    "```\n",
    "└── Informatica 10/\n",
    "    └── Su curso/\n",
    "        └── Su nombre/\n",
    "            └── Proyectos HTML/\n",
    "                └── Actividad 3/\n",
    "```"
   ]
  },
  {
   "cell_type": "markdown",
   "id": "c9e0e079-7207-49df-8ddb-5064fbe8a528",
   "metadata": {},
   "source": [
    "2. Abra __Visual Studio Code__ y seleccione ```open folder``` y busque la carpeta ```actividad 2``` que creo en el paso anterior. Seleccionela y luego haga clic en ```seleccionar```. Configure el siguiente espacio de trabajo:"
   ]
  },
  {
   "cell_type": "markdown",
   "id": "f7c69ea0-68b6-4add-9de3-8c63f179d8c4",
   "metadata": {},
   "source": [
    "```\n",
    "└── Actividad 3/\n",
    "    ├── CSS/\n",
    "    │   └── styles.css\n",
    "    └── index.html\n",
    "```"
   ]
  },
  {
   "cell_type": "markdown",
   "id": "6a7fbce5-2cd1-40c7-beb0-07d6131c8048",
   "metadata": {},
   "source": [
    "### Desarrolle lo siguiente"
   ]
  },
  {
   "cell_type": "markdown",
   "id": "70e26ea0-7b83-4ae6-9c87-30f3b2fc1389",
   "metadata": {},
   "source": [
    "#### __No esta permitido el uso de IA en esta actividad__"
   ]
  },
  {
   "cell_type": "markdown",
   "id": "9d2017d5-6ee6-45b6-8946-32ec00b1ea84",
   "metadata": {},
   "source": [
    "3. En el archivo ```index.html``` obtenga la estructura general HTML escribiendo el comando ```html:5```\n",
    "4. En la linea anterior a `</head>` vincule el archivo `styles.css` agregando la etiqueta `<link:css>` e indicando su ruta.\n",
    "5. Entre las etiquetas `<body>` y `</body>` agregue los siguientes elementos:\n",
    "> - Un título `<h1>` con el texto : `formato de fuente`.\n",
    "> - Un subtítulo `<h2>` alineado a la izquierda con un color distinto, escriba `actividad 2`.\n",
    "> - Agregue Un párrafo breve  `<p>` sobre un tema de su interes, __(trabajos con temas repetidos serán anulados)__. EL parrafo debe tener una palabra en cursiva, otra subrayada y otra con subrayado + cursiva.\n",
    "> - Una lista ordenada `<ol>` con el nombre de cinco personas importantes para su vida, indicando entre paréntisis si es amigo, familiar, pareja, etc. Escritas cada una entre las etiquetas `<li>` y `</li>`. En al menos un ítem, aplica negrita a la persona mas importante de todas.\n",
    "> - Una lista sin ordenar `<ul>` de 5 ítems, con 5 cosas que le gustaria hacer en su vida antes de cumplir 30 años. Pon en cursiva una de ellas.\n",
    "> - Añade un pie de página con la etiqueta ```<footer>``` el cual debe tener:\n",
    ">    - Tu nombre en cursiva\n",
    ">    - El curso en negrita\n",
    ">    - Ambos elementos centrados."
   ]
  },
  {
   "cell_type": "markdown",
   "id": "1a27be98-93cf-490c-b504-0e2f776f0eb2",
   "metadata": {},
   "source": [
    "6. Configure en el archivo `styles.css` los siguientes estilos:\n",
    "> - Un color de fondo para la pagina, busque en Google: HTML colors (`background-color`)\n",
    "> - Un color de texto para los titulos `h1` y `h2`. (`color`)\n",
    "> - El elemento `footer` debe tener su propio estilo de fuente: `font-family`\n",
    "> - Un color de texto para todo el elemento `ol`\n",
    "> - Un color de texto para todo el elemento `ul`"
   ]
  },
  {
   "cell_type": "markdown",
   "id": "74cbd047-817d-40f8-a9dc-b1feeda898d3",
   "metadata": {},
   "source": [
    "### Puntos 1003"
   ]
  },
  {
   "cell_type": "markdown",
   "id": "eca3b4de-1e97-4259-b3bc-22ee326f5e9a",
   "metadata": {},
   "source": [
    "### Primeros Pasos - configuracion del espacio de trabajo:"
   ]
  },
  {
   "cell_type": "markdown",
   "id": "85b0a6e4-9bad-40fe-b5e2-ee8d40067ca0",
   "metadata": {},
   "source": [
    "1. Cree en el explorador de Windows la carpeta `actividad 2` dentro de la carpeta con su nombre. Observe la siguiente ruta:"
   ]
  },
  {
   "cell_type": "markdown",
   "id": "370339d3-66a7-4742-9b25-b44f8a9b1ead",
   "metadata": {},
   "source": [
    "```\n",
    "└── Informatica 10/\n",
    "    └── Su curso/\n",
    "        └── Su nombre/\n",
    "            └── Proyectos HTML/\n",
    "                └── Actividad 3/\n",
    "```"
   ]
  },
  {
   "cell_type": "markdown",
   "id": "079534ae-4d12-49bf-91d9-50b2fcfe891a",
   "metadata": {},
   "source": [
    "2. Abra __Visual Studio Code__ y seleccione ```open folder``` y busque la carpeta ```actividad 2``` que creo en el paso anterior. Seleccionela y luego haga clic en ```seleccionar```. Configure el siguiente espacio de trabajo:"
   ]
  },
  {
   "cell_type": "markdown",
   "id": "6e2ceed6-122a-486e-80f1-d694ea189c26",
   "metadata": {},
   "source": [
    "```\n",
    "└── Actividad 2/\n",
    "    ├── CSS/\n",
    "    │   └── styles.css\n",
    "    └── index.html\n",
    "```"
   ]
  },
  {
   "cell_type": "markdown",
   "id": "93e1c5a0-3e0a-46b3-a9a8-dc0792ca9c0d",
   "metadata": {},
   "source": [
    "### Desarrolle lo siguiente"
   ]
  },
  {
   "cell_type": "markdown",
   "id": "4e15ff96-222d-4c06-968a-04d567c22127",
   "metadata": {},
   "source": [
    "#### __No está permitido el uso de IA en esta actividad__"
   ]
  },
  {
   "cell_type": "markdown",
   "id": "393123c2-143e-4c4c-bbc9-a2f865ab2596",
   "metadata": {},
   "source": [
    "3. En el archivo ```index.html``` obtenga la estructura general HTML escribiendo el comando ```html:5```\n",
    "4. En la linea anterior a `</head>` vincule el archivo `styles.css` agregando la etiqueta `<link:css>`\n",
    "5. Entre las etiquetas `<body>` y `</body>` agregue los siguientes elementos:\n",
    "> - Un título `<h1>` con el texto : `formato de fuente`.\n",
    "> - Un subtítulo `<h2>` centrado con un color distinto, escriba `actividad 2`.\n",
    "> - Agregue Un párrafo breve  `<p>` sobre un tema de su interes, con una palabra en negrita, otra en cursiva y otra con negrita + cursiva, y al menos una palabra subrayada.\n",
    "> - Una lista ordenada `<ol>` con cinco cosas que te gusta hacer en tus ratos libres, cada uno de ellos entre las etiquetas `<li>` y `</li>`. En al menos un ítem, aplica subrayado.\n",
    "> - Una lista sin ordenar ```<ul>``` de 5 ítems con 5 opciones de carrera profesional o actividades que te gustaria realizar al teminar tus estudios. En al menos un ítem, subraya una palabra.\n",
    "> - Añade un pie de página con la etiqueta ```<footer>``` el cual debe tener:\n",
    ">    - Tu nombre en negrita\n",
    ">    - El curso en cursiva\n",
    ">    - Ambos elementos centrados."
   ]
  },
  {
   "cell_type": "markdown",
   "id": "e3a61fbc-c5dc-46cf-9740-07ac3b8c5d95",
   "metadata": {},
   "source": [
    "6. Configure en el archivo `styles.css` los siguientes estilos:\n",
    "> - Un color de fondo para la pagina\n",
    "> - Un color de texto para los titulos `h1` y `h2`.\n",
    "> - El elemento `footer` centrado\n",
    "> - Un color de texto para el elemento `<ol>`\n",
    "> - Un color de texto para el elemento `<ul>`"
   ]
  }
 ],
 "metadata": {
  "kernelspec": {
   "display_name": "Python 3 (ipykernel)",
   "language": "python",
   "name": "python3"
  },
  "language_info": {
   "codemirror_mode": {
    "name": "ipython",
    "version": 3
   },
   "file_extension": ".py",
   "mimetype": "text/x-python",
   "name": "python",
   "nbconvert_exporter": "python",
   "pygments_lexer": "ipython3",
   "version": "3.12.1"
  }
 },
 "nbformat": 4,
 "nbformat_minor": 5
}
