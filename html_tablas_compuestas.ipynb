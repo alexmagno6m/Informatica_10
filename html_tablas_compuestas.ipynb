{
 "cells": [
  {
   "cell_type": "markdown",
   "id": "d3ead236-a5c1-45e9-912f-28612350e15a",
   "metadata": {},
   "source": [
    "# Tablas compuestas"
   ]
  },
  {
   "cell_type": "markdown",
   "id": "9ea19e9a-8d64-4dcb-acaa-09ec01cb159a",
   "metadata": {},
   "source": [
    "Se dice que una tabla es compuesta cuando algunas de las celdas que la componen ocupan un espacio mayor en comparación con el resto, debido a que se expanden ya sea por filas o columnas y reciben el nombre de __celdas expandidas__"
   ]
  },
  {
   "cell_type": "markdown",
   "id": "94ad5e13-5afd-454d-9b25-876967fb4356",
   "metadata": {},
   "source": [
    "Se construyen de la misma forma que las tablas simples, pero con las siguientes consideraciones:"
   ]
  },
  {
   "cell_type": "markdown",
   "id": "8e717917-9a6a-4385-963c-cfbc49645983",
   "metadata": {},
   "source": [
    "1. Las celdas que se expanden por columnas hacen uso del atributo ```colspan```, seguido del número de columnas que ocupará escrito entre comillas dobles, por ejemplo: ```colspan=\"2\"```.\n",
    "2. Si las celdas se expanden por filas, emplean el atributo ```rowspan``` siguendo la misma dinámica del punto anterior, por ejemplo ```rowspan=\"2\"```."
   ]
  },
  {
   "cell_type": "markdown",
   "id": "5dab53a5-d4f1-4427-85ec-7300d5878d4c",
   "metadata": {},
   "source": [
    "También existen celdas mixtas, es decir cuando al mismo tiempo se expanden por filas y columnas, en ese caso se escriben ámbos atributos."
   ]
  },
  {
   "cell_type": "markdown",
   "id": "28af1ce9-3baf-4187-b692-80af2ef2dcbd",
   "metadata": {},
   "source": [
    "## Ejemplo 1"
   ]
  },
  {
   "cell_type": "markdown",
   "id": "f04aac8a-13a9-457a-8fdf-da5addb4cfdf",
   "metadata": {},
   "source": [
    "Vamos a escribir el código necesario para construir la siguiente tabla:"
   ]
  },
  {
   "attachments": {
    "tabla_compuesta1-2.png": {
     "image/png": "[encoded data removed]"
    }
   },
   "cell_type": "markdown",
   "id": "ee6ac0f4-11f2-4329-86bb-8a048b424922",
   "metadata": {},
   "source": [
    "![tabla_compuesta1-2.png](attachment:tabla_compuesta1-2.png)"
   ]
  },
  {
   "cell_type": "markdown",
   "id": "67e518ce-4cd3-4d0c-8ca1-0e194d62559a",
   "metadata": {},
   "source": [
    "## Código HTML"
   ]
  },
  {
   "cell_type": "markdown",
   "id": "7789db86-85c4-4cdb-b46e-9aae095cee25",
   "metadata": {},
   "source": [
    "En la tabla la celda que contiene el número 14 se expande por tres filas, esto lo sabemos al prolongar imaginariamente los bordes:"
   ]
  },
  {
   "cell_type": "markdown",
   "id": "eb96dcfa-7501-4969-b58c-9716313f3a27",
   "metadata": {},
   "source": [
    "![tabla compuesta1 celdas.png](images/tabla_compuesta1_celda.png)"
   ]
  },
  {
   "cell_type": "markdown",
   "id": "02d24439-06c1-4a6e-9842-70de8d345bf9",
   "metadata": {},
   "source": [
    "La primera fila que ocupa la celda es también la primera fila de contenido de la tabla, por lo tanto, se debe incluir ahí."
   ]
  },
  {
   "cell_type": "markdown",
   "id": "65404e4c-6349-4aa5-897f-5136695b4493",
   "metadata": {},
   "source": [
    "### Usando selector de clase ```class``` una nueva aproximación para aplicar estilos"
   ]
  },
  {
   "cell_type": "markdown",
   "id": "33574559-c77e-4bb2-8a7f-9d30f317e143",
   "metadata": {},
   "source": [
    "1. Creamos la tabla escribiendo:"
   ]
  },
  {
   "cell_type": "markdown",
   "id": "44edfcad-3d12-4507-a507-f789a3a1c50a",
   "metadata": {},
   "source": [
    "```<table>```"
   ]
  },
  {
   "cell_type": "markdown",
   "id": "5809c489-4ece-4db7-a12e-10e898a071bc",
   "metadata": {},
   "source": [
    "2. Agregamos el selector de clase:"
   ]
  },
  {
   "cell_type": "markdown",
   "id": "27464685-aeb1-46de-9899-8a35d4bc8b10",
   "metadata": {},
   "source": [
    "```class=\"tabla1\"```"
   ]
  },
  {
   "cell_type": "markdown",
   "id": "e3eb4a41-08df-45e7-b78c-001d282ee3d9",
   "metadata": {},
   "source": [
    "3. Agregando la fila y celdas de encabezado:"
   ]
  },
  {
   "cell_type": "markdown",
   "id": "2140741e-1ff7-48c6-9ea9-0c72fea015a6",
   "metadata": {},
   "source": [
    "```\n",
    "<tr>\n",
    "    <th>Periodo</th>\n",
    "    <th>Asignatura más fácil</th>\n",
    "    <th>Asignatura más dificil</th>\n",
    "    <th>Total materias</th>\n",
    "</tr>\n",
    "```"
   ]
  },
  {
   "cell_type": "markdown",
   "id": "7c464d36-c0f5-452e-b55b-e942f003a0bc",
   "metadata": {},
   "source": [
    "4. Asignaremos una clase a las celdas de la fila de encabezado para poder aplicar estilos diferentes:"
   ]
  },
  {
   "cell_type": "markdown",
   "id": "58adbec3-ddb2-447b-bf32-dd2c4fa71f23",
   "metadata": {},
   "source": [
    "```class=\"encabezado_tabla\"```"
   ]
  },
  {
   "cell_type": "markdown",
   "id": "29ebd28b-5f49-4e57-b3f5-0838f174f822",
   "metadata": {},
   "source": [
    "5. Construimos la primera fila de contenido, donde también se encuentra la celda expandida, iniciamos agregando la etiqueta ```<tr>```\n",
    "6. Ahora haremos las tres primeras celdas con la etiqueta ```<td>```, agregando la información correspondiente.\n",
    "7. __Celda expandida__ escribimos la etiqueta ```<td>``` al igual que en las otras, pero debido a que se expande verticalmente, es decir por filas, agregamos el atributo:"
   ]
  },
  {
   "cell_type": "markdown",
   "id": "95b484a2-5357-42dc-a4d2-e67677a194de",
   "metadata": {},
   "source": [
    "```rowspan=\"3\"```"
   ]
  },
  {
   "cell_type": "markdown",
   "id": "5d925c80-b07e-473f-aed8-8178ea50e7b0",
   "metadata": {},
   "source": [
    "> El numero 3 indica la cantidad de filas que ocupa"
   ]
  },
  {
   "cell_type": "markdown",
   "id": "a0c3baa8-2383-44d1-83a0-fc7f322f4276",
   "metadata": {},
   "source": [
    "8. Construimos normalmenteel resto de filas, debemos tener cuidado de no sobreescribir la celda expandida."
   ]
  },
  {
   "cell_type": "markdown",
   "id": "1aee1af2-7bd9-4cb3-9f17-c78b78e6a5fb",
   "metadata": {},
   "source": [
    "9. Para aplicar estilos a las filas de contenido, usamos un nuevo selector de clase dentro de la etiqueta ```tr```:"
   ]
  },
  {
   "cell_type": "markdown",
   "id": "4c40b45b-0a6b-4787-8976-0fcdde39e27b",
   "metadata": {},
   "source": [
    "```class=\"fila_cuerpo\"```"
   ]
  },
  {
   "cell_type": "markdown",
   "id": "9b838b34-5506-4210-8bb0-87cff282f4ab",
   "metadata": {},
   "source": [
    "## Estilos CSS"
   ]
  },
  {
   "cell_type": "markdown",
   "id": "0cac7fae-9b83-4147-8385-215dd58e06e9",
   "metadata": {},
   "source": [
    "Los selectores de clase en el codigo CSS se \"llaman\" empleando el signo de punto ```.```:"
   ]
  },
  {
   "cell_type": "markdown",
   "id": "84571e9a-64c4-4e6f-871d-5e5d296f40ab",
   "metadata": {},
   "source": [
    "1. Escribimos la clase que cobija a toda la tabla:"
   ]
  },
  {
   "cell_type": "markdown",
   "id": "56157fb1-e7dd-4ceb-b7f7-03205b0a6f33",
   "metadata": {},
   "source": [
    "```\n",
    ".tabla1 {\n",
    "\n",
    "}\n",
    "```"
   ]
  },
  {
   "cell_type": "markdown",
   "id": "44b42cc6-710c-4518-bf00-1d5e69a9e908",
   "metadata": {},
   "source": [
    "2. Contrayendo los bordes, con la propiedad:"
   ]
  },
  {
   "cell_type": "markdown",
   "id": "c2a58221-3f23-4d55-81ac-d3dfa726d5bc",
   "metadata": {},
   "source": [
    "```border-collapse: collapse;```"
   ]
  },
  {
   "cell_type": "markdown",
   "id": "27778a9a-9559-4683-9621-0327a219082e",
   "metadata": {},
   "source": [
    "3. Ajustando el ancho de las columnas al espacio que ocupa el contenido:"
   ]
  },
  {
   "cell_type": "markdown",
   "id": "9129ac89-ab73-4cac-8c47-1ef6e2d7cbe0",
   "metadata": {},
   "source": [
    "```table-layout: auto;```\n"
   ]
  },
  {
   "cell_type": "markdown",
   "id": "45540795-8fce-4310-a00f-c9398328fd73",
   "metadata": {},
   "source": [
    "4. Aplicando estilos a la fila de encabezado, llamando la clase ```tabla1``` y luego el elemento hijo ```th```:"
   ]
  },
  {
   "cell_type": "markdown",
   "id": "3eeb8338-b350-4346-a079-2f7cfaab9e0f",
   "metadata": {},
   "source": [
    "```\n",
    ".encabezado_tabla {\n",
    "\n",
    "}\n",
    "```"
   ]
  },
  {
   "cell_type": "markdown",
   "id": "cbba7dc5-b6db-4b57-bb76-468085bf7ccd",
   "metadata": {},
   "source": [
    "5. Dentro incluimos las siguientes propiedades:"
   ]
  },
  {
   "cell_type": "markdown",
   "id": "7a513958-2cd5-4e2a-903a-c8c55ab937ed",
   "metadata": {},
   "source": [
    "```\n",
    "    border-width: 1px; /* Ancho del borde */\n",
    "    border-style: solid; /* Tipo de linea */\n",
    "    padding-left: 10px; /* Separación del margen izquierdo */\n",
    "    padding-right: 10px; \n",
    "    font-family: 'Lucida Sans', 'Lucida Sans Regular', 'Lucida Grande', 'Lucida Sans Unicode', Geneva, Verdana, sans-serif;\n",
    "```"
   ]
  },
  {
   "cell_type": "markdown",
   "id": "b5d5b08e-a4de-4a5b-99a2-8fdf689008c5",
   "metadata": {},
   "source": [
    "> La combinación de signos ```/*``` agrega comentarios, los cuales no se ejecutan en el código```."
   ]
  },
  {
   "cell_type": "markdown",
   "id": "328a2073-d88e-4d10-9724-1b51d4f3556b",
   "metadata": {},
   "source": [
    "6. Por ultimo agregamos los estilos al resto de etiquetas ```td``` empleando un __selector descendente__, aquel que contiene celdas hijas en una clase:"
   ]
  },
  {
   "cell_type": "markdown",
   "id": "68286155-7e82-40e2-a6dd-fd4d1d111348",
   "metadata": {},
   "source": [
    "```\n",
    ".tabla1 td {\n",
    "    border-width: 1px;\n",
    "    border-style:solid;\n",
    "    padding-left: 10px;\n",
    "    padding-right: 10px;\n",
    "    font-family: Arial, Helvetica, sans-serif;\n",
    "}\n",
    "```"
   ]
  },
  {
   "cell_type": "markdown",
   "id": "12763c62-bc36-402a-8c1d-1c5fa763870c",
   "metadata": {},
   "source": [
    "> Las anteriores propiedades son practicamente las mismas del punto 5, sin embargo debemos agregar dos nuevas"
   ]
  },
  {
   "cell_type": "markdown",
   "id": "6dac2411-801b-4dba-b451-ffd1408b75e1",
   "metadata": {},
   "source": [
    "7. Ajustando la altura de la celda:"
   ]
  },
  {
   "cell_type": "markdown",
   "id": "e2b385b9-3881-48e3-8551-26b75e91a4c3",
   "metadata": {},
   "source": [
    "```height```"
   ]
  },
  {
   "cell_type": "markdown",
   "id": "24ea6b9e-e31e-4370-b4ad-4aedcf2c4612",
   "metadata": {},
   "source": [
    "8. Ajustando la alineación del texto:"
   ]
  },
  {
   "cell_type": "markdown",
   "id": "214b7faf-05b0-40db-9ca1-fa4a6f809a99",
   "metadata": {},
   "source": [
    "```text-align```"
   ]
  },
  {
   "cell_type": "markdown",
   "id": "95ea58be-a945-41d6-8e3e-884a1d7d3311",
   "metadata": {},
   "source": [
    "El texto de la __celda expandida__ se alinea verticalmente en la mitad ```middle```, sin embargo podemos cambiar ese comportamiento con la propiedad ```vertical-align```."
   ]
  },
  {
   "cell_type": "markdown",
   "id": "81fa4498-ce1a-49a8-a29a-c1cb53298b20",
   "metadata": {},
   "source": [
    "### Estilos espaciales: Alternancia de color"
   ]
  },
  {
   "cell_type": "markdown",
   "id": "c9795a22-1d6f-4fb0-a0f5-cc2acdf583bd",
   "metadata": {},
   "source": [
    "La alternancia de color en las filas permite una mejor legibilidad de los datos de la tabla, indicando un color para las filas pares y otro para las impares, con la propiedad:"
   ]
  },
  {
   "cell_type": "markdown",
   "id": "c95df31f-831b-46a8-bb47-6bdc37db0c9e",
   "metadata": {},
   "source": [
    "```nth-child```"
   ]
  },
  {
   "cell_type": "markdown",
   "id": "e92a82da-f884-4a2b-971d-b868c984758a",
   "metadata": {},
   "source": [
    "## Ejercicio 1"
   ]
  },
  {
   "cell_type": "markdown",
   "id": "03537a65-fa66-4f46-889d-e81e9228b4ec",
   "metadata": {},
   "source": [
    "En el mismo archivo y debajo del código anterior realice (recuerde que ```</body>``` y ```</html>``` deben ser las ultimas etiquetas de todo el archivo):"
   ]
  },
  {
   "cell_type": "markdown",
   "id": "0a919e94-28d7-44fd-8dd1-adc71c2d1107",
   "metadata": {},
   "source": [
    "1. Escriba un titulo ```h1``` con el texto: ```Mis hobbies digitales favoritos```\n",
    "2. Ahora escriba las etiquetas necesarias para construir la siguiente tabla, no necesariamente debe ser de juegos, puede reemplazar por series, películas, música, anime, etc. Pero la organización de las celdas si es obligatoria."
   ]
  },
  {
   "cell_type": "markdown",
   "id": "08076818-b4ea-42eb-aa1d-6115ab3702cc",
   "metadata": {},
   "source": [
    "> Si desea realizar la tabla de videojuegos solo puede repetir dos de los que ya aparecen ahi.\n",
    "> Preste especial atención a las celdas expandidas en la columna __Género__."
   ]
  },
  {
   "attachments": {
    "ejercicio1_tCompuesta.png": {
     "image/png": "[encoded data removed]"
    }
   },
   "cell_type": "markdown",
   "id": "e93afa63-96c8-496e-a43a-d463d520df86",
   "metadata": {},
   "source": [
    "![ejercicio1_tCompuesta.png](attachment:ejercicio1_tCompuesta.png)"
   ]
  },
  {
   "cell_type": "markdown",
   "id": "50b0d072-bdfd-4cc4-b97d-cea7c4a9d6a4",
   "metadata": {},
   "source": [
    "3. Agregue clases en las etiquetas ```table, th, td``` diferentes a las ya empleadas"
   ]
  },
  {
   "cell_type": "markdown",
   "id": "f2e40cbc-e621-4e94-81f2-8cb358c8530e",
   "metadata": {},
   "source": [
    "4. Aplique los siguientes estilos:\n",
    "    - Tipografia de fuente y color de fondo diferente a las celdas de encabezaso\n",
    "    - Tipografia de fuente y color de fondo diferente a las celdas de contenido, puede emplear el estilo de alternancia de color."
   ]
  },
  {
   "cell_type": "markdown",
   "id": "45ea0496-4030-443c-9ebc-d9aba0d59872",
   "metadata": {},
   "source": [
    "### Obtención del sello"
   ]
  },
  {
   "cell_type": "markdown",
   "id": "1d27855c-8da6-408e-8493-82375b6e08fd",
   "metadata": {},
   "source": [
    "Copie en su cuaderno lo siguiente:"
   ]
  },
  {
   "cell_type": "markdown",
   "id": "e1f26b2b-390d-4b2d-927c-e19e5a9b9743",
   "metadata": {},
   "source": [
    "> 1. Competencia: 3\n",
    "> 2. Ámbito conceptual: Tablas web\n",
    "> 3. Objetivo: Construir correctamente tablas complejas empleando las etiquetas HTML correspondientes ubicando con acierto las celdas expandidas para el empleo de estilos CSS con selectores de clase.\n",
    "> 4. Nombre de la actividad: Ejercicio de construcción de tablas compuestas."
   ]
  }
 ],
 "metadata": {
  "kernelspec": {
   "display_name": "Python 3 (ipykernel)",
   "language": "python",
   "name": "python3"
  },
  "language_info": {
   "codemirror_mode": {
    "name": "ipython",
    "version": 3
   },
   "file_extension": ".py",
   "mimetype": "text/x-python",
   "name": "python",
   "nbconvert_exporter": "python",
   "pygments_lexer": "ipython3",
   "version": "3.12.1"
  }
 },
 "nbformat": 4,
 "nbformat_minor": 5
}
