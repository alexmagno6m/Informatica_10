{
 "cells": [
  {
   "cell_type": "markdown",
   "id": "28e1992a-ebbe-47f6-8f5a-888e3e8e03dc",
   "metadata": {},
   "source": [
    "# Excalidraws"
   ]
  },
  {
   "cell_type": "markdown",
   "id": "b641ec88-f372-44f3-9a98-159d654e13f1",
   "metadata": {},
   "source": [
    "## Mapa del DOM"
   ]
  },
  {
   "cell_type": "markdown",
   "id": "8a16d0b1-1539-4b4e-bccf-5d183eaa73c8",
   "metadata": {},
   "source": [
    "[Enlace](https://excalidraw.com/#json=Kbny8Ua190kWbUyYfTIhC,0GotvGeKwZsziF7ipuyAZg)"
   ]
  },
  {
   "cell_type": "markdown",
   "id": "99e0b8a7-cb92-4e78-8e2f-b25d8adfbebf",
   "metadata": {},
   "source": []
  }
 ],
 "metadata": {
  "kernelspec": {
   "display_name": "Python 3 (ipykernel)",
   "language": "python",
   "name": "python3"
  },
  "language_info": {
   "codemirror_mode": {
    "name": "ipython",
    "version": 3
   },
   "file_extension": ".py",
   "mimetype": "text/x-python",
   "name": "python",
   "nbconvert_exporter": "python",
   "pygments_lexer": "ipython3",
   "version": "3.12.0"
  }
 },
 "nbformat": 4,
 "nbformat_minor": 5
}
