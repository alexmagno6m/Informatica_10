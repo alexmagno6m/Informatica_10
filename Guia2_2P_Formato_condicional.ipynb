{
 "cells": [
  {
   "cell_type": "markdown",
   "id": "d3b369d4",
   "metadata": {},
   "source": [
    "__Profesor__: Alexander Acevedo Gomez <br>\n",
    "__Grado__: Decimo\n",
    "__GUIA 2 SEGUNDO PERIODO__\n",
    "### Competencia para esta guia\n",
    "> - Emplea inteligentemente elementos de formato en una selección de celdas que permitan la identificación de un dato sujeto a unas condiciones.\n",
    "> - Establece asertivamente y comprueba condiciones de formato para una serie de datos que permitan solucionar un problema de contexto\n",
    "> - Selecciona adecuadamente el elemento de formato más apropiado dada las características de los datos según el caso de estudio."
   ]
  },
  {
   "cell_type": "markdown",
   "id": "a7de81f2",
   "metadata": {},
   "source": [
    "## Objetivo\n",
    "Reconocer la importancia del formato condicional como una herramienta de identificación de datos para la solución de problemas, haciendo uso de expresiones lógicas según determinados criterios."
   ]
  },
  {
   "cell_type": "markdown",
   "id": "0cc784a2",
   "metadata": {},
   "source": [
    "# Ejercicio"
   ]
  },
  {
   "cell_type": "markdown",
   "id": "4e9f8699",
   "metadata": {},
   "source": [
    "## Problema"
   ]
  },
  {
   "cell_type": "markdown",
   "id": "c13998f0",
   "metadata": {},
   "source": [
    "> Marcela es la secretaria de una ONG dedicada a promover la cultura ambiental entre jóvenes líderes de cierta ciudad, para esto se organizan talleres cada semana. El gerente de la ONG le entrega a Marcela una Hoja de cálculo donde aparecen las asistencias a los talleres realizados y le solicita que en ésta identifique rápidamente aquellos jóvenes que se encuentren en alguna de las siguientes situaciones:\n",
    ">\n",
    "> - Han asistido a 7 talleres o más en total\n",
    "> - Han asistido hasta 6 talleres en total\n",
    "> - Han asistido a menos de 3 talleres en total\n",
    ">\n",
    ">Ya que con estos datos el gerente debe realizar llamadas para averiguar las causas de las inasistencias.\n"
   ]
  },
  {
   "cell_type": "markdown",
   "id": "05906af7",
   "metadata": {},
   "source": [
    "## Parte teórica\n",
    "Contesta en el cuaderno\n",
    "> 1. Con lo que has aprendido hasta ahora de la hoja de cálculo (Excel), ¿Cómo podrías ayudarle a Marcela a cumplir con su misión?\n",
    ">2. ¿En la solución que planteas resulta fácil identificar los jóvenes qué se encuentran en alguna de las tres situaciones planteadas? Explica por qué.\n",
    ">3. Cuáles otras herramientas puedes usar adicionalmente al formato condicional para solucionar el problema?\n"
   ]
  },
  {
   "cell_type": "markdown",
   "id": "0da4eb93",
   "metadata": {},
   "source": [
    "## Parte práctica\n",
    "Copie la siguiente tabla en Excel"
   ]
  },
  {
   "cell_type": "markdown",
   "id": "83b70646",
   "metadata": {},
   "source": [
    "| Nombre            | Marzo Sem 1 | Marzo Sem 2 | Marzo Sem 3 | Marzo Sem 4 | Abril Sem 1 | Abril Sem 2 | Abril Sem 3 | Abril Sem 4 | Mayo Sem 1 | Mayo Sem 2 |\n",
    "|-------------------|-------------|-------------|-------------|-------------|-------------|-------------|-------------|-------------|------------|------------|\n",
    "| Lorene Schwartz   | 0           | 0           | 0           | 0           | 0           | 0           | 0           | 0           | 0          | 0          |\n",
    "| Ellis Brady       | 0           | 1           | 0           | 0           | 0           | 1           | 1           | 1           | 1          | 1          |\n",
    "| Grace Pena        | 1           | 0           | 0           | 1           | 1           | 0           | 1           | 1           | 0          | 1          |\n",
    "| Gerard Garrett    | 1           | 1           | 1           | 1           | 0           | 0           | 0           | 0           | 0          | 0          |\n",
    "| Ricardo Wolfe     | 1           | 1           | 0           | 0           | 0           | 0           | 0           | 1           | 0          | 1          |\n",
    "| Shelia Luna       | 0           | 0           | 0           | 0           | 1           | 1           | 1           | 0           | 0          | 1          |\n",
    "| Edith Thompson    | 1           | 1           | 1           | 1           | 0           | 1           | 1           | 0           | 0          | 1          |\n",
    "| Scott Greer       | 0           | 0           | 0           | 1           | 0           | 0           | 0           | 1           | 0          | 1          |\n",
    "| Larry Page        | 0           | 1           | 1           | 1           | 0           | 1           | 1           | 0           | 0          | 0          |\n",
    "| Lynn Wright       | 0           | 0           | 1           | 1           | 0           | 1           | 1           | 1           | 0          | 1          |\n",
    "| Alejandro Patton  | 1           | 0           | 0           | 1           | 1           | 0           | 1           | 0           | 1          | 1          |\n",
    "| Mitchell Gibson   | 1           | 0           | 0           | 1           | 1           | 1           | 0           | 0           | 0          | 0          |\n",
    "| Myra Kim          | 1           | 0           | 0           | 0           | 0           | 0           | 1           | 0           | 0          | 0          |\n",
    "| Philip Moss       | 0           | 0           | 0           | 0           | 1           | 1           | 1           | 1           | 1          | 1          |\n",
    "| Mario Gray        | 1           | 1           | 0           | 0           | 0           | 1           | 0           | 0           | 1          | 1          |\n",
    "| Marc Adams        | 1           | 1           | 0           | 0           | 0           | 0           | 0           | 1           | 0          | 1          |\n",
    "| Pam Pierce        | 0           | 0           | 0           | 0           | 1           | 1           | 1           | 1           | 0          | 0          |\n",
    "| Diana Wade        | 0           | 1           | 1           | 1           | 1           | 0           | 0           | 0           | 1          | 0          |\n",
    "| Rosa Watkins      | 0           | 0           | 1           | 0           | 1           | 1           | 0           | 0           | 0          | 1          |\n",
    "| Kay Gonzalez      | 1           | 0           | 0           | 1           | 0           | 1           | 0           | 0           | 1          | 1          |\n",
    "| Carol Bowen       | 0           | 1           | 1           | 1           | 0           | 0           | 0           | 0           | 1          | 1          |\n",
    "| Janice Sutton     | 0           | 1           | 1           | 1           | 1           | 1           | 0           | 1           | 1          | 1          |\n",
    "| Wilma Rivera      | 1           | 0           | 0           | 0           | 0           | 1           | 1           | 0           | 0          | 0          |\n",
    "| Donnie Black      | 1           | 0           | 1           | 0           | 0           | 0           | 1           | 1           | 0          | 0          |\n",
    "| Lucas Gordon      | 1           | 1           | 0           | 1           | 1           | 1           | 1           | 0           | 1          | 1          |\n",
    "| Wilfred Gregory   | 1           | 1           | 1           | 1           | 1           | 0           | 1           | 0           | 0          | 1          |\n",
    "| Jackie Copeland   | 1           | 0           | 0           | 1           | 1           | 1           | 0           | 1           | 0          | 0          |\n",
    "| Harvey Hawkins    | 1           | 1           | 0           | 0           | 0           | 1           | 0           | 1           | 0          | 0          |\n",
    "| Tracy Young       | 1           | 0           | 0           | 1           | 1           | 0           | 0           | 1           | 0          | 1          |\n",
    "| Eleanor Barnes    | 1           | 0           | 0           | 0           | 1           | 1           | 0           | 0           | 1          | 0          |\n",
    "| Andres Daniels    | 1           | 0           | 0           | 1           | 1           | 1           | 1           | 0           | 1          | 0          |\n",
    "| Elsa Ingram       | 0           | 0           | 0           | 0           | 0           | 1           | 1           | 1           | 0          | 0          |\n",
    "| Garrett Williams  | 0           | 1           | 1           | 0           | 0           | 0           | 0           | 0           | 1          | 0          |\n",
    "| Bobby Salazar     | 1           | 1           | 1           | 1           | 1           | 0           | 0           | 1           | 1          | 1          |\n",
    "| Agnes Jensen      | 1           | 0           | 1           | 0           | 1           | 1           | 0           | 1           | 0          | 0          |\n",
    "| Horace James      | 0           | 1           | 1           | 1           | 1           | 1           | 1           | 0           | 1          | 0          |\n",
    "| Anita Houston     | 1           | 0           | 1           | 0           | 0           | 1           | 0           | 0           | 0          | 0          |\n",
    "| Rodney Marshall   | 0           | 0           | 0           | 0           | 0           | 0           | 1           | 0           | 1          | 0          |\n",
    "| Gayle Underwood   | 1           | 0           | 1           | 0           | 0           | 0           | 0           | 0           | 0          | 1          |\n",
    "| Bernice Martinez  | 1           | 0           | 0           | 0           | 1           | 1           | 0           | 0           | 1          | 0          |\n",
    "| Stephanie Edwards | 1           | 0           | 1           | 1           | 1           | 0           | 0           | 1           | 1          | 0          |\n",
    "| Darryl Chandler   | 0           | 0           | 0           | 0           | 1           | 0           | 0           | 1           | 1          | 0          |\n",
    "| Isabel Soto       | 1           | 0           | 1           | 0           | 0           | 0           | 0           | 1           | 0          | 0          |\n",
    "| Florence White    | 1           | 0           | 1           | 1           | 1           | 1           | 1           | 0           | 1          | 1          |\n",
    "| Saul Glover       | 0           | 1           | 0           | 1           | 1           | 0           | 1           | 0           | 1          | 0          |\n",
    "| Ismael Todd       | 1           | 0           | 0           | 1           | 1           | 1           | 0           | 0           | 1          | 0          |\n",
    "| Randolph Joseph   | 1           | 1           | 0           | 0           | 0           | 0           | 1           | 1           | 0          | 0          |\n",
    "| Helen Chapman     | 1           | 1           | 1           | 1           | 0           | 1           | 0           | 0           | 0          | 1          |\n",
    "| Malcolm Moore     | 0           | 1           | 0           | 0           | 0           | 0           | 1           | 0           | 0          | 0          |\n",
    "| Mamie Price       | 0           | 0           | 0           | 0           | 1           | 1           | 0           | 0           | 1          | 0          |"
   ]
  },
  {
   "cell_type": "markdown",
   "id": "1f37802f",
   "metadata": {},
   "source": [
    "1. Lea detenidamente el problema, y Usando formato condicional:\n",
    "- establezca las tres condiciones necesarias segun el texto del problema anterior, use un color diferente.\n",
    "- Los nombres de los jovenes deben identificarse con el color correspondiente segun esas mismas condiciones.\n",
    "\n"
   ]
  }
 ],
 "metadata": {
  "kernelspec": {
   "display_name": "Python 3 (ipykernel)",
   "language": "python",
   "name": "python3"
  },
  "language_info": {
   "codemirror_mode": {
    "name": "ipython",
    "version": 3
   },
   "file_extension": ".py",
   "mimetype": "text/x-python",
   "name": "python",
   "nbconvert_exporter": "python",
   "pygments_lexer": "ipython3",
   "version": "3.9.4"
  },
  "toc": {
   "base_numbering": 1,
   "nav_menu": {},
   "number_sections": true,
   "sideBar": true,
   "skip_h1_title": false,
   "title_cell": "Table of Contents",
   "title_sidebar": "Contents",
   "toc_cell": false,
   "toc_position": {},
   "toc_section_display": true,
   "toc_window_display": false
  }
 },
 "nbformat": 4,
 "nbformat_minor": 5
}
