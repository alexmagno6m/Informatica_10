{
 "cells": [
  {
   "cell_type": "markdown",
   "id": "eaefcb29-cb68-47c2-95a2-54ef8f6c3177",
   "metadata": {},
   "source": [
    "# Guia 4 - Tablas Simples en HTML"
   ]
  },
  {
   "cell_type": "markdown",
   "id": "238060db-d815-4d74-a143-b44d04a2cc2f",
   "metadata": {},
   "source": [
    "- Profesor: __Alexander Acecedo Gómez__\n",
    "- Ingeniero de sistemas\n",
    "- __Magister en Modelado y Simulación__\n",
    "- @Alex6m"
   ]
  },
  {
   "cell_type": "markdown",
   "id": "33132f3f-a92c-4b30-87cd-ada708d39475",
   "metadata": {},
   "source": [
    "Las tablas en HTML se construyen entre las etiquetas ```<table>``` y  ```</table>```, estan constituidas por celdas de encabezado, identificadas con las etiquetas ```<th>```, filas con las etiquetas ```<tr>``` y celdas de contenido, que son cada uno de los cuadros donde se dispone el contenido de la tabla entre las etiquetas ```<td>```. Se dice que una tabla es simple cuando cada una de las celdas ocupa el mismo tamaño respecto a las demás."
   ]
  },
  {
   "cell_type": "markdown",
   "id": "dc1c5fbb-bc36-410a-b9a3-e539df5dff64",
   "metadata": {},
   "source": [
    "## Consideraciones para la construcción de una tabla simple"
   ]
  },
  {
   "cell_type": "markdown",
   "id": "3a129baa-cbbe-42ea-a80e-64f1ae492e55",
   "metadata": {},
   "source": [
    "1. Se elaboran por filas\n",
    "2. Cuando se inica una fila se agregan las celdas que van en ella.\n",
    "3. Una vez construída una fila, se continúa con la siguiente\n",
    "4. El proceso se repite hasta terminar la construcción de la tabla."
   ]
  },
  {
   "cell_type": "markdown",
   "id": "fa15ae7e-1b9c-4bb0-ba6d-73094f17b706",
   "metadata": {},
   "source": [
    "### División de las tablas en secciones."
   ]
  },
  {
   "cell_type": "markdown",
   "id": "fccdc857-4976-4e10-879a-ea9574f182db",
   "metadata": {},
   "source": [
    "Aunque no es estrictamente obligatorio, se recomienda en el caso de las tablas que contienen mucha información dividirlas en tres secciones: "
   ]
  },
  {
   "cell_type": "markdown",
   "id": "4049e638-4403-4444-ad44-e391d1b2138e",
   "metadata": {},
   "source": [
    "> 1. ```<thead>``` para agrupar las filas de encabezado\n",
    "> 2. ```<tbody>``` para agrupar las filas de contenido\n",
    "> 3. ```<tfoot>``` para agrupar la fila de pie de tabla"
   ]
  },
  {
   "cell_type": "markdown",
   "id": "663e6ffc-6c1b-4f6c-9fe7-2a1bcbbb76e7",
   "metadata": {},
   "source": [
    "## Ejemplo "
   ]
  },
  {
   "cell_type": "markdown",
   "id": "16619216-3ad2-4042-983e-72c36316b63a",
   "metadata": {},
   "source": [
    "### Preparación del espacio de trabajo"
   ]
  },
  {
   "cell_type": "markdown",
   "id": "913c6f1a-60ef-4144-8828-c2e21db920b6",
   "metadata": {},
   "source": [
    "1. En el explorador de Windows dentro de su carpeta personal cree una nueva carpeta llamada `tablas-simples`, observe la siguiente organización"
   ]
  },
  {
   "cell_type": "markdown",
   "id": "21d862c0-5ae4-40ec-97a2-94ad96ee8b43",
   "metadata": {},
   "source": [
    "```\n",
    "└── Informatica 10/\n",
    "    └── Su curso/\n",
    "        └── Su nombre/\n",
    "            └── Proyectos HTML/\n",
    "                └──tablas-simples/\n",
    "```"
   ]
  },
  {
   "cell_type": "markdown",
   "id": "9503b623-1577-4412-bb69-955eef5e2e9c",
   "metadata": {},
   "source": [
    "2. Ahora abra `VS-Code`, seleccione la carpeta `guia-selectores` y configure su espacio de trabajo asi: creando la carpeta `CSS` (`new folder`) y dentro de ella el archivo (`new file`) `styles.css` y por fueras en el espacio principal el archivo `index.html`:"
   ]
  },
  {
   "cell_type": "markdown",
   "id": "f4dc435d-79ef-4318-87b7-2be19060d8f8",
   "metadata": {},
   "source": [
    "```\n",
    "└── tablas-simples/\n",
    "    ├── CSS/\n",
    "    │   └── styles.css\n",
    "    └── index.html\n",
    "```"
   ]
  },
  {
   "cell_type": "markdown",
   "id": "067aef7b-eda9-4d59-baa8-8ec030de10e0",
   "metadata": {},
   "source": [
    "Observe la siguiente imagen de la configuracion del espacio de trabajo en `VS-Code`, su proyecto debe lucir similar:"
   ]
  },
  {
   "cell_type": "markdown",
   "id": "6ef8b86e-332a-4a1b-a701-b4a485900151",
   "metadata": {},
   "source": [
    "![code](tablas-simples.png)"
   ]
  },
  {
   "cell_type": "markdown",
   "id": "cdcaa3b6-d8be-42f8-991f-bd5fe535bc51",
   "metadata": {},
   "source": [
    "### Proyecto a realizar"
   ]
  },
  {
   "cell_type": "markdown",
   "id": "03b952af-ec9f-48c1-9360-a24996a896cc",
   "metadata": {},
   "source": [
    "Construiremos la siguiente tabla, dentro de las celdas de la segunda fila debe aparecer la información del estudiante."
   ]
  },
  {
   "attachments": {
    "tabla_sencilla.png": {
     "image/png": "[encoded data removed]"
    }
   },
   "cell_type": "markdown",
   "id": "326cfd75-f6aa-438d-a495-228161b05c0d",
   "metadata": {},
   "source": [
    "![tabla_sencilla.png](attachment:tabla_sencilla.png)"
   ]
  },
  {
   "cell_type": "markdown",
   "id": "073cf5cc-b727-46ee-b8c7-3fb6077fc908",
   "metadata": {},
   "source": [
    "3. Obtenemos la estructura de un sitio web, escribiendo en el archivo index.html el comando `html:5` (siga las instrucciones indicadas por el profesor)"
   ]
  },
  {
   "cell_type": "markdown",
   "id": "a477f41d-6b35-4755-a49d-46bf31e39319",
   "metadata": {},
   "source": [
    "- Como título de la pagina escribimos: `tablas simples`\n",
    "- Dentro de la seccion `body` escribimos como `h1`: `tablas de datos personales`\n",
    "- Agregamos la etiqueta ```<table>```\n",
    "- Agrupamos la filas de encabezado con la etiqueta ```<thead>```\n",
    "- Construimos cada fila de encabezado con la etiqueta ```<tr>```\n",
    "- Escribimos el contenido de cada celda  de encabezado entre las etiquetas ```<th>``` y ```</th>```\n",
    "- Las siguiente filas, que son de contenido y no de encabezado, estarán agrupadas entre las etiquetas ```<tbody>```\n",
    "- Cada una de estas filas se construiran con las etiquetas ```<tr>```\n",
    "- Las celdas con contenido se realizan con la etiqueta ```<td>```\n",
    "- Se preocede con las siguientes filas como se realizó en los puntos 6 y 7."
   ]
  },
  {
   "cell_type": "markdown",
   "id": "2bf0e29a-4312-4f84-86db-59b0a8f68f18",
   "metadata": {},
   "source": [
    "### Estilos en tablas"
   ]
  },
  {
   "cell_type": "markdown",
   "id": "d5d5512f-7309-41b8-ae65-7a4f9eb86db2",
   "metadata": {},
   "source": [
    "1. Para poder escribir estilos diferenciados en caso de tener mas de una tabla, escribimos un `id` único en la etiqueta `<table>` de apertura:"
   ]
  },
  {
   "cell_type": "markdown",
   "id": "400fd7d5-42e1-45ec-b7da-359a58fd0743",
   "metadata": {},
   "source": [
    "```id=\"tabla1\"```"
   ]
  },
  {
   "cell_type": "markdown",
   "id": "4e94d35b-a59d-4e73-9f71-f78360ed08b1",
   "metadata": {},
   "source": [
    "2. Dentro de la sección `<head>` y `</head>` escribimos el comando `link:css` para enlazar el archivo `styles.css`:"
   ]
  },
  {
   "cell_type": "markdown",
   "id": "59e73507-1300-46f1-b5ee-7f7cc0551b35",
   "metadata": {},
   "source": [
    "![code8](code8.png)"
   ]
  },
  {
   "cell_type": "markdown",
   "id": "b6ba86b5-a8bc-45d0-a91b-0494719b523b",
   "metadata": {},
   "source": [
    "2. Ahora pasamos al archivo `styles.css` donde agregaremos las siguientes  propiedades al __`id`__ ```#tabla1``` que afectan toda la tabla en conjunto:"
   ]
  },
  {
   "cell_type": "markdown",
   "id": "45c1c6a9-af87-485b-9797-2553b975486a",
   "metadata": {},
   "source": [
    "```\n",
    "#tabla1 {\n",
    "    border-collapse: collapse;\n",
    "    width: 50%;\n",
    "}\n",
    "```"
   ]
  },
  {
   "cell_type": "markdown",
   "id": "5837e3a4",
   "metadata": {},
   "source": [
    "3. Seguimos con las celdas de encabezado `th`, teniendo en cuenta que pertenece al selector padre ```tabla1```:"
   ]
  },
  {
   "cell_type": "markdown",
   "id": "e2011efd",
   "metadata": {},
   "source": [
    "```\n",
    "#tabla1 th {\n",
    "    border: 1px solid black;\n",
    "    font-family: Arial, sans-serif;\n",
    "    font-size: 16px;\n",
    "    font-weight: normal;\n",
    "    overflow: hidden;\n",
    "    padding: 10px 5px;\n",
    "    word-break: normal;\n",
    "    background-color: #E5E4E2;\n",
    "}\n",
    "```"
   ]
  },
  {
   "cell_type": "markdown",
   "id": "f7166783",
   "metadata": {},
   "source": [
    "4. Continuamos con las celdas de contenido, escribiendo el selector `td`:"
   ]
  },
  {
   "cell_type": "markdown",
   "id": "34c55265",
   "metadata": {},
   "source": [
    "```\n",
    "#tabla1 td {\n",
    "    border: 1px solid black;\n",
    "    font-family:Arial, sans-serif;\n",
    "    font-size:14px;\n",
    "    overflow:hidden;\n",
    "    padding:10px 5px;\n",
    "    word-break:normal;\n",
    "    background-color:#F2F2F2;\n",
    "}\n",
    "```"
   ]
  },
  {
   "attachments": {},
   "cell_type": "markdown",
   "id": "afaa979c-ddfd-42ce-a784-32047c21007b",
   "metadata": {},
   "source": [
    "> Opcionalmente, podemos alinear a la izquierda los items de la cabecera que por defecto estan centrados:\n",
    ">\n",
    "> ```\n",
    "#tabla1 thead {\n",
    "    text-align:left;\n",
    "    vertical-align:top;\n",
    "    padding-left: 10px;\n",
    "}\n",
    ">```"
   ]
  },
  {
   "cell_type": "markdown",
   "id": "caded8a1",
   "metadata": {},
   "source": [
    "## Ejercicio 1002"
   ]
  },
  {
   "cell_type": "markdown",
   "id": "4d50d38b",
   "metadata": {},
   "source": [
    "En el mismo archivo y debajo del codigo empleado, realice lo siguiente:"
   ]
  },
  {
   "attachments": {},
   "cell_type": "markdown",
   "id": "e8980f2d-360f-4737-8498-9d266d49e2f0",
   "metadata": {},
   "source": [
    "1. Agregue un titulo ```h1``` con el texto: `Mi horario de fin de semana`\n",
    "2. Escriba el codigo necesario para construir la siguiente tabla, asigne como identificador `tabla2`, a la etiqueta `<table>` de apertura:"
   ]
  },
  {
   "attachments": {
    "horario_ejercicio.jpg": {
     "image/jpeg": "[encoded data removed]"
    }
   },
   "cell_type": "markdown",
   "id": "844428c2",
   "metadata": {},
   "source": [
    "![horario_ejercicio.jpg](attachment:horario_ejercicio.jpg)"
   ]
  },
  {
   "cell_type": "markdown",
   "id": "1921d612",
   "metadata": {},
   "source": [
    "3. Agregue en las celdas vacías las actividades que suele desempeñar en los tiempos que se indican.\n",
    "4. Agregue los estilos correspondientes a la tabla, teniendo en cuenta de:\n",
    "    - El texto de La fila de encabezado debe quedar de un color diferente a los ya empleados.\n",
    "    - Alinee el texto de las celdas al centro\n",
    "5. Aplique estilo al titulo h1, con las siguientes caracteristicas:\n",
    "    - Color del texto\n",
    "    - Tipo de fuente diferente\n",
    "    - Alineación centrada"
   ]
  },
  {
   "cell_type": "markdown",
   "id": "5dc6dda2-3142-4b22-b1fb-c51eed53d66d",
   "metadata": {},
   "source": [
    "## Ejercicio 1003"
   ]
  },
  {
   "cell_type": "markdown",
   "id": "63232090-9491-4108-9d66-0c071f34688b",
   "metadata": {},
   "source": [
    "En el mismo archivo y debajo del codigo empleado, realice lo siguiente:"
   ]
  },
  {
   "cell_type": "markdown",
   "id": "11de59d4-2426-47a9-a4d7-f8b39c31d296",
   "metadata": {},
   "source": [
    "1. Agregue un titulo `h1` con el texto: `Mis preferencias de Ocio`\n",
    "2. Escriba el codigo necesario para construir la siguiente tabla, asigne como identificador `tabla2`, a la etiqueta `<table>` de apertura:"
   ]
  },
  {
   "cell_type": "markdown",
   "id": "bdd0d3e0-8a08-4eaa-8cbf-b1f60db9915f",
   "metadata": {},
   "source": [
    "![tabla_2](tabla_2.png)"
   ]
  },
  {
   "cell_type": "markdown",
   "id": "a7a7f2c0-7dce-42cc-af48-19a228518d05",
   "metadata": {},
   "source": [
    "3. Agregue en las celdas vacías sus preferencias en la actividad de ocio que se indican.\n",
    "4. Agregue los estilos correspondientes a la tabla, teniendo en cuenta de:\n",
    "    - El texto de La fila de encabezado debe quedar de un color diferente a los ya empleados.\n",
    "    - Alinee el texto de las celdas al centro\n",
    "5. Aplique estilo al titulo h1, con las siguientes caracteristicas:\n",
    "    - Color del texto\n",
    "    - Tipo de fuente diferente\n",
    "    - Alineación izquierda"
   ]
  },
  {
   "cell_type": "markdown",
   "id": "52371fe1",
   "metadata": {},
   "source": [
    "### Obtención del sello"
   ]
  },
  {
   "cell_type": "markdown",
   "id": "bf4a91f6",
   "metadata": {},
   "source": [
    "Copie en su cuaderno:"
   ]
  },
  {
   "cell_type": "markdown",
   "id": "0201a415",
   "metadata": {},
   "source": [
    "> 1. Competencia: 3\n",
    "> 2. Ámbito conceptual: Tablas web\n",
    "> 3. Objetivo: Construir correctamente tablas simples empleando las etiquetas HTML correspondientes con sus identificadores para la incorporación adecuada de estilos.\n",
    "> 4. Nombre de la actividad: Ejercicio de construcción de tablas simples"
   ]
  }
 ],
 "metadata": {
  "kernelspec": {
   "display_name": "Python 3 (ipykernel)",
   "language": "python",
   "name": "python3"
  },
  "language_info": {
   "codemirror_mode": {
    "name": "ipython",
    "version": 3
   },
   "file_extension": ".py",
   "mimetype": "text/x-python",
   "name": "python",
   "nbconvert_exporter": "python",
   "pygments_lexer": "ipython3",
   "version": "3.12.1"
  }
 },
 "nbformat": 4,
 "nbformat_minor": 5
}
