{
 "cells": [
  {
   "cell_type": "markdown",
   "id": "5fe05871",
   "metadata": {},
   "source": [
    "# Registration code"
   ]
  },
  {
   "cell_type": "markdown",
   "id": "dfa4042e",
   "metadata": {},
   "source": [
    "A continuacion usted encontrara el codigo que le permitira acceder a la plataforma ClassMarker, tenga en cuenta:\n",
    "\n",
    "- El codigo es personal e intransferible\n",
    "- No use el codigo asignado a otra persona, esto le implicará sanciones\n",
    "- El codigo solo se puede usar UNA VEZ\n",
    "- El codigo es valido tanto para informatica y programacion (si es su caso)."
   ]
  },
  {
   "cell_type": "markdown",
   "id": "b6495e98",
   "metadata": {},
   "source": [
    "## Códigos"
   ]
  },
  {
   "cell_type": "markdown",
   "id": "c6a97283",
   "metadata": {},
   "source": [
    "| Estudiante                            | Codigo         |\n",
    "|---------------------------------------|----------------|\n",
    "| ARENAS HIGINO DANA SOFIA              | BP2115835208CX |\n",
    "| BALDOVINO   PEREIRA ISAAC DANYEL      | J31115835209H6 |\n",
    "| BARRERO PARRA   WALTER MAURICIO       | 7H6115835208FF |\n",
    "| BERNAL MORALES   SARA VALENTINA       | 7D0115835203B9 |\n",
    "| BOHORQUEZ PEÑA LAURA DANIELA          | CK51158352053B |\n",
    "| BOJORGE USECHE   HEILER ORLIN         | 9V6115835201HE |\n",
    "| CANDELARIO   DIAZ MARIAM SOFIA        | TB5115835202AG |\n",
    "| CASALLAS   DANIELS JUAN SEBASTIAN     | 3H0115835202E4 |\n",
    "| CIFUENTES   CIFUENTES KAREN ALEJANDRA | J96115835202HX |\n",
    "| CONTRERAS   FORERO SHARIT ALEJANDRA   | NX9115835203Y9 |\n",
    "| CUBILLOS ROJAS   ANDREY SANTIAGO      | C73115835207YA |\n",
    "| DULCEY PINTO   KAREN DAYANA           | NE0115835208YN |\n",
    "| GALINDO REYES   JUAN DAVID            | TN1115835203VK |\n",
    "| GARCIA TIRADO   DAYRA SOFIA           | YB0115835206FM |\n",
    "| GUZMAN PACHON   JULIAN FARITH         | BF61158352073A |\n",
    "| LUGO CAMACHO   SHARON MELISA          | XK91158352036R |\n",
    "| MARQUEZ OYUELA   UBER ALEJANDRO       | 6F6115835202PE |\n",
    "| MARTINEZ   SANCHEZ JUAN PABLO         | HH01158352013D |\n",
    "| MARULANDA   RODRIGUEZ GINETH CAMILA   | JG6115835200JQ |\n",
    "| MELO APONTE   HANA JULIANA            | FE61158352096Q |\n",
    "| MELO GUTIERREZ   MAICOL  ANDREY       | NF4115835208G4 |\n",
    "| PARRA PAZ RAUL   DE JESUS             | QF4115835205XB |\n",
    "| PEDRAZA   SANCHES KATHERIN DAHIANA    | 937115835203T4 |\n",
    "| PRIETO COSIO   LAURA VALENTINA        | NT3115835206M3 |\n",
    "| RAMIREZ   QUIÑONES DYLAN NICOLAS      | AT8115835203DY |\n",
    "| ROSAS DIAZ   KAREN SOFIA              | 341115835201JT |\n",
    "| RUBIO PINTO   ANYURY TATIANA          | PQ8115835204EB |\n",
    "| SOTO APONTE   DEIVY ALEXANDER         | X461158352046M |\n",
    "| YATE AMAYA   LUIS ALEJANDRO           | 633115835202AA |"
   ]
  },
  {
   "cell_type": "markdown",
   "id": "9ebe6534",
   "metadata": {},
   "source": [
    "## Registrese en la plataforma (cuando el profesor indique)\n",
    "Una vez el profesor de las indicaciones, dirijase al siguiente enlace\n",
    "\n",
    "\n",
    "[ClassMarker](https://www.classmarker.com/register/)"
   ]
  }
 ],
 "metadata": {
  "kernelspec": {
   "display_name": "Python 3 (ipykernel)",
   "language": "python",
   "name": "python3"
  },
  "language_info": {
   "codemirror_mode": {
    "name": "ipython",
    "version": 3
   },
   "file_extension": ".py",
   "mimetype": "text/x-python",
   "name": "python",
   "nbconvert_exporter": "python",
   "pygments_lexer": "ipython3",
   "version": "3.9.13"
  }
 },
 "nbformat": 4,
 "nbformat_minor": 5
}
