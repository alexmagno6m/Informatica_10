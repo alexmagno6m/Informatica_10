{
 "cells": [
  {
   "cell_type": "markdown",
   "id": "5fe05871",
   "metadata": {},
   "source": [
    "# Registration code"
   ]
  },
  {
   "cell_type": "markdown",
   "id": "dfa4042e",
   "metadata": {},
   "source": [
    "A continuacion usted encontrara el codigo que le permitira acceder a la plataforma ClassMarker, tenga en cuenta:\n",
    "\n",
    "- El codigo es personal e intransferible\n",
    "- No use el codigo asignado a otra persona, esto le implicará sanciones\n",
    "- El codigo solo se puede usar UNA VEZ\n",
    "- El codigo es valido tanto para informatica y programacion (si es su caso)."
   ]
  },
  {
   "cell_type": "markdown",
   "id": "2741fdd5-ffaf-477a-ac48-f9de44b9b7f1",
   "metadata": {},
   "source": [
    "__El USO DEL CODIGO DE OTRA PERSONA A NOMBRE PROPIO DARA COMO INICIO A UNA FALTA GRAVE SEGUN MANUAL DE CONVIVENCIA__"
   ]
  },
  {
   "cell_type": "markdown",
   "id": "b6495e98",
   "metadata": {},
   "source": [
    "## Códigos"
   ]
  },
  {
   "cell_type": "markdown",
   "id": "ccaf9158-cbed-49a6-b387-88f2d548fa14",
   "metadata": {},
   "source": [
    "| Estudiante                        | Código         |\n",
    "|-----------------------------------|----------------|\n",
    "| ARGUELLO CUBILLOS   HEILYN YULIED | YD3115835207R3 |\n",
    "| BARRIOS PINTO DANILY PAOLA        | MN6115835204MC |\n",
    "| BERMUDEZ SANCHEZ ANGEL DAVID      | BY11158352097E |\n",
    "| BRITO LOPEZ JONAS ALEJANDRO       | P31115835206H3 |\n",
    "| CAMACHO MAYA KEVIN STIVEN         | TK511583520777 |\n",
    "| CASTILLO MUÑOZ ISABELLA           | EB31158352046H |\n",
    "| COLORADO DIAZ NICOLE DAHIANA      | D68115835202J6 |\n",
    "| GOMEZ DUQUE CARLOS DANIEL         | DH9115835201X4 |\n",
    "| LARGO MARTINEZ ANGY LUCERO        | PQ9115835202RM |\n",
    "| LEYVA CONTRERAS IAN FRANCO        | RX11158352076M |\n",
    "| MARTINEZ BARRAGAN KEVIN ALEXANDER | E91115835205F3 |\n",
    "| ORTIZ VELASCO ANGELICA MARIA      | RA9115835207TM |\n",
    "| PABON CRUZ NICOLE EILEN           | HY4115835206F9 |\n",
    "| PAREDES CASTAÑEDA ANDRES FELIPE   | KG1115835204Y9 |\n",
    "| PAREDES GOMEZ CRISTIAN SNEIDER    | JH3115835200K3 |\n",
    "| QUIROGA URIBE JUAN SEBASTIAN      | YJ0115835202HT |\n",
    "| RAMIREZ BAQUERO SHILEY YULIANA    | A99115835208BH |\n",
    "| ROZO DEVIA MICHELL                | FX5115835209GF |\n",
    "| SASTOQUE FERNANDEZ CAROL DANIELA  | JJ31158352067P |\n",
    "| SERNA MEREJILDO NOELIA ALEJANDRA  | 9P5115835202KE |\n",
    "| VASQUEZ VARGAS ANGIE DANIELA      | BC3115835204YY |\n",
    "| MORENO CHIVATA KEVIN SANTIAGO     | XC6115835204J6 |\n",
    "| ARROYAVE    SARA SOFIA            | QR31158352057X |\n",
    "| CASTRO RODRIGUEZ NICOL            | DC6115835206PT |\n",
    "| OLIVERO MANCILLA ROSA MARIA       | XA9115835206D4 |"
   ]
  },
  {
   "cell_type": "markdown",
   "id": "9ebe6534",
   "metadata": {},
   "source": [
    "## Registrese en la plataforma (cuando el profesor indique)\n",
    "Una vez el profesor de las indicaciones, dirijase al siguiente enlace\n",
    "\n",
    "\n",
    "[ClassMarker](https://www.classmarker.com/register/)"
   ]
  }
 ],
 "metadata": {
  "kernelspec": {
   "display_name": "Python 3 (ipykernel)",
   "language": "python",
   "name": "python3"
  },
  "language_info": {
   "codemirror_mode": {
    "name": "ipython",
    "version": 3
   },
   "file_extension": ".py",
   "mimetype": "text/x-python",
   "name": "python",
   "nbconvert_exporter": "python",
   "pygments_lexer": "ipython3",
   "version": "3.9.4"
  },
  "toc": {
   "base_numbering": 1,
   "nav_menu": {},
   "number_sections": true,
   "sideBar": true,
   "skip_h1_title": false,
   "title_cell": "Table of Contents",
   "title_sidebar": "Contents",
   "toc_cell": false,
   "toc_position": {},
   "toc_section_display": true,
   "toc_window_display": false
  }
 },
 "nbformat": 4,
 "nbformat_minor": 5
}
