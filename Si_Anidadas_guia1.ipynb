{
 "cells": [
  {
   "cell_type": "markdown",
   "id": "7e33fd30",
   "metadata": {},
   "source": [
    "### Asignatura Informatica - Grado 10\n",
    "__Clase:__ Funciones logicas ```SI``` anidadas <br>\n",
    "__Profesor:Alexander Acevedo Gomez__<br>\n",
    "Ingeniero de Sistemas - Universidad Nacional de Colombia <br>\n",
    "Magister en Modelado y Simulacion por Computador - Universidad Jorge Tadeo Lozano <br>\n",
    "__Telegram: @Alex6m__"
   ]
  },
  {
   "cell_type": "markdown",
   "id": "e183a8b3",
   "metadata": {},
   "source": [
    "# Funciones lógicas de tipo ```SI``` anidadas"
   ]
  },
  {
   "cell_type": "markdown",
   "id": "e9fec806",
   "metadata": {},
   "source": [
    "### Concepto"
   ]
  },
  {
   "cell_type": "markdown",
   "id": "60bfcc55",
   "metadata": {},
   "source": [
    "Las funciones lógicas reciben el nombre de __anidadas__ cuando se incluyen dos o mas funciones ```SI``` dentro de una principal. Son empleadas para evaluar rangos, donde los valores o resultado de la función dependen de varios intervalos y no de uno solo."
   ]
  },
  {
   "cell_type": "markdown",
   "id": "6053c918",
   "metadata": {},
   "source": [
    "### Intervalos Matemáticos"
   ]
  },
  {
   "cell_type": "markdown",
   "id": "f5eb90f2",
   "metadata": {},
   "source": [
    "Los intervalos matemáticos son un tipo de notación que permite representar un conjunto de datos numéricos indicando sus límites tanto en el inicio como en el final."
   ]
  },
  {
   "cell_type": "markdown",
   "id": "b5a485fa",
   "metadata": {},
   "source": [
    "## Intervalos y uso de los operadores relacionales"
   ]
  },
  {
   "cell_type": "markdown",
   "id": "d193d2f4",
   "metadata": {},
   "source": [
    "Para definir correctamente las pruebas lógicas que evaluaran cada intervalo, debemos ordenarlos ya sea en forma ascendente (de manor a mayor) o descendente (de mayor a menor), dependiendo de este orden se determina cual de los operadores relacionales usar."
   ]
  },
  {
   "cell_type": "markdown",
   "id": "cb101abb",
   "metadata": {},
   "source": [
    "| Intervalo | Operador relacional | Comportamiento                     |\n",
    "|-----------|---------------------|------------------------------------|\n",
    "| [         | &gt;=               | Incluye al valor mínimo del rango  |\n",
    "| ]         | &lt;=               | Incluye al valor máximo del rango  |\n",
    "| (         | &gt;                | Excluye al valor mínimo del rango  |\n",
    "| )         | &lt;                | Excluye al valor máximmo del rango |"
   ]
  },
  {
   "cell_type": "markdown",
   "id": "cbf0f6a8",
   "metadata": {},
   "source": [
    "### Intervalos Ascendentes"
   ]
  },
  {
   "cell_type": "markdown",
   "id": "2fa01998",
   "metadata": {},
   "source": [
    "Suponga que se desea clasificar los ingresos de un grupo de personas que pertenecen a una junta de acción comunal empleando los siguientes rangos:"
   ]
  },
  {
   "cell_type": "markdown",
   "id": "11578e24",
   "metadata": {},
   "source": [
    "- Desde 1200000 hasta 2500000 (sin incluirlo)-> INTERVALO A\n",
    "- Desde 2500000 hasta 3200000 (sin incluirlo)-> INTERVALO B\n",
    "- Desde 3200000 hasta 5000000 (sin incluirlo)-> INTERVALO C\n",
    "- De 5000000 en adelante -> INTERVALO D"
   ]
  },
  {
   "cell_type": "markdown",
   "id": "67b9f712",
   "metadata": {},
   "source": [
    "Los anteriores rangos pueden ser convertidos a intervalos matemáticos, usando la notación correspondiente:"
   ]
  },
  {
   "cell_type": "markdown",
   "id": "d753af24",
   "metadata": {},
   "source": [
    "- [1200000 - 2500000)\n",
    "- [2500000 - 3200000)\n",
    "- [3200000 - 5000000)\n",
    "- [5000000 - $\\infty$)"
   ]
  },
  {
   "cell_type": "markdown",
   "id": "01766d24",
   "metadata": {},
   "source": [
    "Cuando se usa la palabra _\"desde\"_ se está indicando que apartir de ese valor e incluyendo a este se empezará a tener en cuenta el rango. En cambio, la palabra _\"sin incluirlo\"_, indica que ese valor es el límite pero no debe ser tenido en cuenta para ese rango sino para el siguiente."
   ]
  },
  {
   "cell_type": "markdown",
   "id": "4808fa18",
   "metadata": {},
   "source": [
    "Una vez ordenado el intervalo, debe tener en cuenta:"
   ]
  },
  {
   "cell_type": "markdown",
   "id": "3b3a1f64",
   "metadata": {},
   "source": [
    "> - Tomar el segundo valor de cada intervalo para establecer la función lógica correspondiente\n",
    "> - Emplear el operador relacional que corresponde al simbolo de este valor, segun la tabla anterior\n",
    "> - Para el último intervalo no es necesario emplear una nueva función lógica, ya que esta se descarta en la parte falsa de la seccón."
   ]
  },
  {
   "cell_type": "markdown",
   "id": "5eb240b2",
   "metadata": {},
   "source": [
    "Considere que la celda con el primer valor que desea determinar su pertenencia a un determinado intervalo es ```B2```, en ese caso la función quedaría así:"
   ]
  },
  {
   "cell_type": "markdown",
   "id": "f4a8c96e",
   "metadata": {},
   "source": [
    "```=SI(B2<2500000; \"INTERVALO A\"; SI(B2<3200000; \"INTERVALO B\"; SI(B2<5000000; \"INTERVALO C\"; \"INTERVALO D\")))```"
   ]
  },
  {
   "cell_type": "markdown",
   "id": "2aeff77a",
   "metadata": {},
   "source": [
    "> Observe que se usa el signo ```<```, ya que según la tabla de arriba, es el que se emplea cuando el último valor del intervalo es el paréntesis derecho."
   ]
  },
  {
   "cell_type": "markdown",
   "id": "155aac74",
   "metadata": {},
   "source": [
    "### Intervalos Descendentes"
   ]
  },
  {
   "cell_type": "markdown",
   "id": "a1f97dbc",
   "metadata": {},
   "source": [
    "Tomando el ejemplo anterior, el intervalo ordenado de forma descendente es:"
   ]
  },
  {
   "cell_type": "markdown",
   "id": "c7421e21",
   "metadata": {},
   "source": [
    "- [5000000 - $\\infty$ )\n",
    "- [3200000 - 5000000)\n",
    "- [2500000 - 3200000)\n",
    "- [1200000 - 2500000)"
   ]
  },
  {
   "cell_type": "markdown",
   "id": "a87954ed",
   "metadata": {},
   "source": [
    "Para el caso de los intervalos descendentes tenga presente que:"
   ]
  },
  {
   "cell_type": "markdown",
   "id": "b9046c8c",
   "metadata": {},
   "source": [
    "> - Tomar el primer valor de cada intervalo para establecer la prueba lógica\n",
    "> - Emplear el operador relacional que corresponde al símbolo que acompaña este primer valor\n",
    "> - Al igual que en el intervalo ascendente, el último rango se realiza por descarte sin definir la prueba lógica."
   ]
  },
  {
   "cell_type": "markdown",
   "id": "c2803ad6",
   "metadata": {},
   "source": [
    "Dado lo anterior, la funcion queda así:"
   ]
  },
  {
   "cell_type": "markdown",
   "id": "f4e202fa",
   "metadata": {},
   "source": [
    "```=SI(B2>=5000000; \"INTERVALO D\"; SI(B2>=3200000; \"INTERVALO C\"; SI(B2>=2500000; \"INTERVALO B\"; \"INTERVALO A\")))```"
   ]
  },
  {
   "cell_type": "markdown",
   "id": "268e9d35",
   "metadata": {},
   "source": [
    "## Ejercicios"
   ]
  },
  {
   "cell_type": "markdown",
   "id": "86eba72d",
   "metadata": {},
   "source": [
    "Para obtener el sello escriba en su cuaderno:\n",
    "Para obtener el sello escriba en su cuaderno:\n",
    "1. __Competencia__: 2\n",
    "2. __Ámbito conceptual__: Las funciones lógicas SI, Y, O. Simples y anidadas.\n",
    "3. __Objetivo__: Plantear correctamente las pruebas logicas que evaluan cada intervalo según sea ordenado de forma ascendente o descendente.\n",
    "4. __Nombre de la actividad__: Guia 1 funciones si anidadas."
   ]
  },
  {
   "cell_type": "markdown",
   "id": "dddff261",
   "metadata": {},
   "source": [
    "### Ejercicio 1 - 1001"
   ]
  },
  {
   "cell_type": "markdown",
   "id": "915d1657",
   "metadata": {},
   "source": [
    "Para aprobar en cierta universidad de Estados Unidos se determinó la siguiente escala por letras:\n",
    "- De 0 a 30 (sin incluirlo) : D\n",
    "- De 30 a 40 (sin incluirlo): C\n",
    "- De 40 a 47 (sin incluirlo): B\n",
    "- de 47 a 50 (incluyendolo): A"
   ]
  },
  {
   "cell_type": "markdown",
   "id": "499383eb",
   "metadata": {},
   "source": [
    "Copie la siguiente tabla que corresponde al listado de estudiantes __(tenga en cuenta de reemplazar puntos a comas)__"
   ]
  },
  {
   "cell_type": "markdown",
   "id": "8d7b56a5",
   "metadata": {},
   "source": [
    "| first_name | last_name  | nota 1 | nota 2 |\n",
    "|------------|------------|--------|--------|\n",
    "| Stephana   | Youel      | 35.8   | 27.3   |\n",
    "| Kalinda    | Ofen       | 35.2   | 13.1   |\n",
    "| Zelma      | Goodhay    | 34.6   | 16.2   |\n",
    "| Vivyanne   | Glozman    | 14.1   | 46.4   |\n",
    "| Dasie      | Livett     | 43.9   | 33.4   |\n",
    "| Redd       | Beefon     | 34.7   | 41.3   |\n",
    "| Lissa      | Branca     | 39.5   | 24.3   |\n",
    "| Clarissa   | Macari     | 23.6   | 13.2   |\n",
    "| Bear       | Craine     | 26.8   | 17.8   |\n",
    "| Claudio    | Rickertsen | 33.7   | 41.1   |\n",
    "| Nevsa      | Buddington | 33.6   | 31.2   |\n",
    "| Katya      | Heffernan  | 22.2   | 36.6   |\n",
    "| Rosabella  | Helbeck    | 49.7   | 17.5   |\n",
    "| Adena      | Giacobo    | 23.5   | 25.4   |\n",
    "| Arabela    | Rippon     | 49.1   | 36.4   |"
   ]
  },
  {
   "cell_type": "markdown",
   "id": "cbe1eee4",
   "metadata": {},
   "source": [
    "Resuelva:\n",
    "1. Escriba en su cuaderno el intervalo de arriba empleando la notación vista en clase.\n",
    "2. Agregue en la columna ```D``` el texto ```Nota final```, usando la función correspondiente halle el promedio final de cada estudiante.\n",
    "3. Agregue en la columna ```E``` el texto ```Valoración Final```, empleando las funciones lógicas si anidadas, determine la valoración en letra para cada estudiante. __Empleando intervalos Descendentes.__"
   ]
  },
  {
   "cell_type": "markdown",
   "id": "73bf94e0",
   "metadata": {},
   "source": [
    "### Ejercicio 2 - 1001"
   ]
  },
  {
   "cell_type": "markdown",
   "id": "a34d5f12",
   "metadata": {},
   "source": [
    "La siguiente tabla corresponde a los resultados finales de la Premiere League de Inglaterra para la temporada 2024-2025."
   ]
  },
  {
   "cell_type": "markdown",
   "id": "17d7a07d",
   "metadata": {},
   "source": [
    "Copiela en la hoja 2 __(tenga en cuenta de reemplazar puntos a comas)__"
   ]
  },
  {
   "cell_type": "markdown",
   "id": "55de7030-b7c4-4535-92aa-19b5e0d4e9fe",
   "metadata": {},
   "source": [
    "| GP | Team             | GP | W  | D  | L  | GF | GA | GD  | Pts | PPG  | last 8 | CS  | SR  | MPP |\n",
    "|----|------------------|----|----|----|----|----|----|-----|-----|------|--------|-----|-----|-----|\n",
    "| 1  |  Liverpool       | 38 | 25 | 9  | 4  | 86 | 41 | +45 | 84  | 2.21 | 1.38   | 37% | 97% | 84  |\n",
    "| 2  |  Arsenal         | 38 | 20 | 14 | 4  | 69 | 34 | +35 | 74  | 1.95 | 1.63   | 34% | 87% | 74  |\n",
    "| 3  |  Manchester City | 38 | 21 | 8  | 9  | 72 | 44 | +28 | 71  | 1.87 | 2.50   | 34% | 84% | 71  |\n",
    "| 4  |  Chelsea         | 38 | 20 | 9  | 9  | 64 | 43 | +21 | 69  | 1.82 | 2.13   | 29% | 82% | 69  |\n",
    "| 5  |  Newcastle Utd   | 38 | 20 | 6  | 12 | 68 | 47 | +21 | 66  | 1.74 | 1.63   | 34% | 82% | 66  |\n",
    "| 6  |  Aston Villa     | 38 | 19 | 9  | 10 | 58 | 51 | +7  | 66  | 1.74 | 2.25   | 24% | 82% | 66  |\n",
    "| 7  |  Nottm Forest    | 38 | 19 | 8  | 11 | 58 | 46 | +12 | 65  | 1.71 | 1.00   | 34% | 79% | 65  |\n",
    "| 8  |  Brighton        | 38 | 16 | 13 | 9  | 66 | 59 | +7  | 61  | 1.61 | 1.75   | 21% | 87% | 61  |\n",
    "| 9  |  Bournemouth     | 38 | 15 | 11 | 12 | 58 | 46 | +12 | 56  | 1.47 | 1.50   | 24% | 79% | 56  |\n",
    "| 10 |  Brentford       | 38 | 16 | 8  | 14 | 66 | 57 | +9  | 56  | 1.47 | 1.88   | 21% | 79% | 56  |\n",
    "| 11 |  Fulham          | 38 | 15 | 9  | 14 | 54 | 54 | 0   | 54  | 1.42 | 1.13   | 13% | 82% | 54  |\n",
    "| 12 |  Crystal Palace  | 38 | 13 | 14 | 11 | 51 | 51 | 0   | 53  | 1.39 | 1.25   | 29% | 79% | 53  |\n",
    "| 13 |  Everton         | 38 | 11 | 15 | 12 | 42 | 44 | -2  | 48  | 1.26 | 1.75   | 32% | 61% | 48  |\n",
    "| 14 |  West Ham Utd    | 38 | 11 | 10 | 17 | 46 | 62 | -16 | 43  | 1.13 | 1.13   | 18% | 79% | 43  |\n",
    "| 15 |  Manchester Utd  | 38 | 11 | 9  | 18 | 44 | 54 | -10 | 42  | 1.11 | 0.63   | 26% | 61% | 42  |\n",
    "| 16 |  Wolverhampton   | 38 | 12 | 6  | 20 | 54 | 69 | -15 | 42  | 1.11 | 1.63   | 21% | 82% | 42  |\n",
    "| 17 |  Tottenham       | 38 | 11 | 5  | 22 | 64 | 65 | -1  | 38  | 1.00 | 0.50   | 16% | 76% | 38  |\n",
    "| 18 |  Leicester City  | 38 | 6  | 7  | 25 | 33 | 80 | -47 | 25  | 0.66 | 1.00   | 8%  | 55% | 25  |\n",
    "| 19 |  Ipswich Town    | 38 | 4  | 10 | 24 | 36 | 82 | -46 | 22  | 0.58 | 0.25   | 5%  | 63% | 22  |\n",
    "| 20 |  Southampton     | 38 | 2  | 6  | 30 | 26 | 86 | -60 | 12  | 0.32 | 0.25   | 8%  | 58% | 12  |"
   ]
  },
  {
   "cell_type": "markdown",
   "id": "1c57baa6",
   "metadata": {},
   "source": [
    "> Significado de las abreviaturas en la tabla: ```GP```: Total games, ```W```: Winner, ```D```: Draw (empate); ```L```: Lost (perdido); ```GF```: Goals For (goles a favor), ```GA```: Goals Against (goles en contra), ```GD```: (Goals difference) diferencia de goles; ```PPG```: Points Per Game (puntos por partido), ```Last 8```: PPG last 8 matches (puntos por partido ultimos 8 partidos), ```CS```: Clean Sheets (porcentaje de partidos sin recibir gol), ```SR```( Tasa de puntuación)."
   ]
  },
  {
   "cell_type": "markdown",
   "id": "5bbffbe3",
   "metadata": {},
   "source": [
    "Resuelva:"
   ]
  },
  {
   "cell_type": "markdown",
   "id": "63888147",
   "metadata": {},
   "source": [
    "1. Agregue una nueva columna llamada ```GPP``` (Goles por partido) y  calcule en promedio cuantos goles hizo cada equipo por partido.\n",
    "2. Agregue una nueva columna llamada ```PT``` (Rendimiento total) y calcule el porcentaje de partidos ganados en relacion a los partidos jugados, es decir $W/GP*100$\n",
    "3. Agregue una nueva columna llamada ```Qual``` (Calificacion) y determine el nivel de cada equipo segun los siguientes rangos usando el metodo de __intervalo ascendente.__(De menor a mayor)"
   ]
  },
  {
   "cell_type": "markdown",
   "id": "551c4bf4",
   "metadata": {},
   "source": [
    "- De 0 hasta 20 PTS (incluyendolo) : Deficiente rendimiento\n",
    "- A partir de 20 hasta 40 PTS (incluyendolo) : Bajo rendimiento\n",
    "- A partir de 40 hasta 60 PTS (incluyendolo) : Aceptable rendimiento\n",
    "- A partir de 60 hasta 80 PTS (incluyendolo) : Buen rendimiento\n",
    "- De 80 PTS en adelante: Excelente rendimiento"
   ]
  },
  {
   "cell_type": "markdown",
   "id": "ca51b70c-0b29-4c43-84ad-f92d8db72577",
   "metadata": {},
   "source": [
    "4. Escriba en su cuaderno la notación del intervalo anterior según lo explicado en clase"
   ]
  },
  {
   "cell_type": "markdown",
   "id": "4da04ca3",
   "metadata": {},
   "source": [
    "Guarde su archivo como: Guia1_SIAnidadas_Apellido_Nombre_DiaMes, por ejemplo: ```Guia1_SiAidadas_Perez_Pedro_mayo20```"
   ]
  },
  {
   "cell_type": "markdown",
   "id": "7cb89910",
   "metadata": {},
   "source": [
    "### Ejercicio 1 - 1002"
   ]
  },
  {
   "cell_type": "markdown",
   "id": "50f3538f",
   "metadata": {},
   "source": [
    "El consumo de agua por metros cubicos se ha clasificado segun los siguientes rangos:"
   ]
  },
  {
   "cell_type": "markdown",
   "id": "194cd27f",
   "metadata": {},
   "source": [
    "- De 0 a 20 (incluyéndolo) : Bajo consumo\n",
    "- de 20 a 40 (incluyéndolo) : Medio consumo\n",
    "- de 40 a 50 (incluyéndolo) : Alto consumo\n",
    "- Mas de 60: Muy alto consumo"
   ]
  },
  {
   "cell_type": "markdown",
   "id": "8423b088",
   "metadata": {},
   "source": [
    "La siguiente tabla muestra el consumo de agua realizado por un grupo de personas de cierto sector en New York, copiela en su cuaderno, __(tenga en cuenta de reemplazar puntos a comas)__"
   ]
  },
  {
   "cell_type": "markdown",
   "id": "13956fa3",
   "metadata": {},
   "source": [
    "| first_name | last_name  | January_con | February_con | March_con |\n",
    "|------------|------------|-------------|--------------|-----------|\n",
    "| Meryl      | Torpie     | 8.2         | 37.5         | 66.9      |\n",
    "| Gino       | Ballendine | 26.7        | 55.0         | 51.8      |\n",
    "| Clerissa   | Bonnar     | 38.9        | 18.4         | 14.6      |\n",
    "| Boniface   | Klimushev  | 39.8        | 64.4         | 46.6      |\n",
    "| Wiatt      | Balfour    | 47.4        | 56.0         | 19.8      |\n",
    "| Laughton   | Diaper     | 25.5        | 8.1          | 55.2      |\n",
    "| Shannan    | Ffoulkes   | 41.0        | 43.4         | 47.4      |\n",
    "| Feliks     | Bindin     | 41.8        | 61.8         | 28.2      |\n",
    "| Maude      | Fewkes     | 6.2         | 51.9         | 16.6      |\n",
    "| Ab         | Myers      | 60.2        | 37.0         | 70.0      |\n",
    "| Kellsie    | Godlip     | 43.8        | 17.9         | 46.9      |\n",
    "| Michail    | Gajownik   | 5.1         | 18.6         | 26.0      |\n",
    "| Alexine    | Adamides   | 13.9        | 13.4         | 52.2      |\n",
    "| Shay       | Newrick    | 23.0        | 15.8         | 31.3      |\n",
    "| Benita     | Cartin     | 30.1        | 57.6         | 61.6      |"
   ]
  },
  {
   "cell_type": "markdown",
   "id": "40dd5a43",
   "metadata": {},
   "source": [
    "Resuelva:"
   ]
  },
  {
   "cell_type": "markdown",
   "id": "92e34614",
   "metadata": {},
   "source": [
    "1. Escriba en su cuaderno la notación del intervalo de arriba usando la notación explicada en clase\n",
    "2. Agregue en la columna ```F``` el texto ```Clasificacion Marzo```, y determine el nivel de consumo  usando las funciones logicas si anidadas usando __intervalo ascendente.__\n",
    "3. Agregue en la columna ```G``` el texto ```Consumo General``` y determine el promedio consumido en los tres meses por cada persona, empleando la funcion que considere convenniente."
   ]
  },
  {
   "cell_type": "markdown",
   "id": "8476930e",
   "metadata": {},
   "source": [
    "### Ejercicio 2 - 1002"
   ]
  },
  {
   "cell_type": "markdown",
   "id": "d762359f",
   "metadata": {},
   "source": [
    "La siguiente tabla corresponde a los resultados parciales de La Liga profesional de futbol España para la temporada 2024-2025."
   ]
  },
  {
   "cell_type": "markdown",
   "id": "f7df7098-9c60-40a8-99af-7c1eb49bf961",
   "metadata": {},
   "source": [
    "| Pos | Team             | GP | W  | D  | L  | GF  | GA | GD  | Pts | PPG  | last 8 | CS  | FTS |\n",
    "|-----|------------------|----|----|----|----|-----|----|-----|-----|------|--------|-----|-----|\n",
    "| 1   |  FC Barcelona    | 38 | 28 | 4  | 6  | 102 | 39 | +63 | 88  | 2.32 | 2.63   | 34% | 95% |\n",
    "| 2   |  Real Madrid     | 38 | 26 | 6  | 6  | 78  | 38 | +40 | 84  | 2.21 | 2.63   | 39% | 95% |\n",
    "| 3   |  Atletico Madrid | 38 | 22 | 10 | 6  | 68  | 30 | +38 | 76  | 2.00 | 2.00   | 45% | 84% |\n",
    "| 4   |  Athletic Bilbao | 38 | 19 | 13 | 6  | 54  | 29 | +25 | 70  | 1.84 | 2.00   | 39% | 76% |\n",
    "| 5   |  Villarreal      | 38 | 20 | 10 | 8  | 71  | 51 | +20 | 70  | 1.84 | 2.38   | 18% | 84% |\n",
    "| 6   |  Real Betis      | 38 | 16 | 12 | 10 | 57  | 50 | +7  | 60  | 1.58 | 1.50   | 18% | 87% |\n",
    "| 7   |  Celta Vigo      | 38 | 16 | 7  | 15 | 59  | 57 | +2  | 55  | 1.45 | 1.50   | 21% | 89% |\n",
    "| 8   |  Rayo Vallecano  | 38 | 13 | 13 | 12 | 41  | 45 | -4  | 52  | 1.37 | 1.50   | 26% | 76% |\n",
    "| 9   |  Osasuna         | 38 | 12 | 16 | 10 | 48  | 52 | -4  | 52  | 1.37 | 2.13   | 24% | 79% |\n",
    "| 10  |  Mallorca        | 38 | 13 | 9  | 16 | 35  | 44 | -9  | 48  | 1.26 | 1.00   | 24% | 63% |\n",
    "| 11  |  Real Sociedad   | 38 | 13 | 7  | 18 | 35  | 46 | -11 | 46  | 1.21 | 0.63   | 34% | 50% |\n",
    "| 12  |  Valencia        | 38 | 11 | 13 | 14 | 44  | 54 | -10 | 46  | 1.21 | 1.50   | 21% | 74% |\n",
    "| 13  |  Getafe          | 38 | 11 | 9  | 18 | 34  | 39 | -5  | 42  | 1.11 | 0.38   | 24% | 58% |\n",
    "| 14  |  Espanyol        | 38 | 11 | 9  | 18 | 40  | 51 | -11 | 42  | 1.11 | 0.88   | 21% | 71% |\n",
    "| 15  |  Alaves          | 38 | 10 | 12 | 16 | 38  | 48 | -10 | 42  | 1.11 | 1.50   | 24% | 66% |\n",
    "| 16  |  Girona          | 38 | 11 | 8  | 19 | 44  | 60 | -16 | 41  | 1.08 | 0.88   | 21% | 71% |\n",
    "| 17  |  Sevilla FC      | 38 | 10 | 11 | 17 | 42  | 55 | -13 | 41  | 1.08 | 0.63   | 26% | 76% |\n",
    "| 18  |  Leganes         | 38 | 9  | 13 | 16 | 39  | 56 | -17 | 40  | 1.05 | 1.50   | 29% | 63% |\n",
    "| 19  |  Las Palmas      | 38 | 8  | 8  | 22 | 40  | 61 | -21 | 32  | 0.84 | 0.75   | 11% | 71% |\n",
    "| 20  |  Valladolid      | 38 | 4  | 4  | 30 | 26  | 90 | -64 | 16  | 0.42 | 0.00   | 13% | 58% |"
   ]
  },
  {
   "cell_type": "markdown",
   "id": "848960fb",
   "metadata": {},
   "source": [
    "> Significado de las abreviaturas en la tabla: ```GP```: Total games, ```W```: Winner, ```D```: Draw (empate); ```L```: Lost (perdido); ```GF```: Goals For (goles a favor), ```GA```: Goals Against (goles en contra), ```GD```: (Goals difference) diferencia de goles; ```PPG```: Points Per Game (puntos por partido), ```Last 8```: PPG last 8 matches (puntos por partido ultimos 8 partidos), ```CS```: Clean Sheets (porcentaje de partidos sin recibir gol), ```SR```( Tasa de puntuación)."
   ]
  },
  {
   "cell_type": "markdown",
   "id": "1be88251",
   "metadata": {},
   "source": [
    "Resuelva:"
   ]
  },
  {
   "cell_type": "markdown",
   "id": "f51bccb4",
   "metadata": {},
   "source": [
    "1. Agregue una nueva columna llamada ```GAP``` (Goles recibidos partido) y  calcule en promedio cuantos goles recibió cada equipo por partido.\n",
    "2. Agregue una nueva columna llamada ```BD``` (Mejor defensa) y calcule el porcentaje de partidos perdidos en relacion a los partidos jugados, es decir $L/GP*100$\n",
    "3. Agregue una nueva columna llamada ```Qual``` (Calificacion) y determine el nivel de cada equipo según los siguientes rangos usando el método de __intervalo descendente.__ (de Mayor a menor)"
   ]
  },
  {
   "cell_type": "markdown",
   "id": "d693f9f1",
   "metadata": {},
   "source": [
    "- De 0 hasta 20 PTS (incluyendolo) : Deficiente rendimiento\n",
    "- A partir de 20 hasta 40 PTS (incluyendolo) : Bajo rendimiento\n",
    "- A partir de 40 hasta 60 PTS (incluyendolo) : Aceptable rendimiento\n",
    "- A partir de 60 hasta 80 PTS (incluyendolo) : Buen rendimiento\n",
    "- De 80 PTS en adelante: Excelente rendimiento"
   ]
  },
  {
   "cell_type": "markdown",
   "id": "bccaae76-65e3-46c8-97b4-8024feb501b3",
   "metadata": {},
   "source": [
    "4. Escriba en su cuaderno la notación del intervalo anterior según lo explicado en clase"
   ]
  },
  {
   "cell_type": "markdown",
   "id": "668e2284",
   "metadata": {},
   "source": [
    "Guarde su archivo como: Guia1_SIAnidadas_Apellido_Nombre_DiaMes, por ejemplo: ```Guia1_SiAidadas_Perez_Pedro_mayo20```"
   ]
  },
  {
   "cell_type": "markdown",
   "id": "7130dc21-aa74-4547-9520-76f638ec2781",
   "metadata": {},
   "source": [
    "### Ejercicio 1 - 1003"
   ]
  },
  {
   "cell_type": "markdown",
   "id": "f5746d7b-d4d7-4033-ba4d-7ee627c8318f",
   "metadata": {},
   "source": [
    "Se han recopilado los datos de las velocidades maximas alcanzadas por un grupo de personas en tres tipos de vias, los cuales se muestran a continuación:"
   ]
  },
  {
   "cell_type": "markdown",
   "id": "dfd547cd-f50d-4541-847c-a1626a5478e2",
   "metadata": {},
   "source": [
    "Copiela en la Hoja 1 de Excel __(tenga en cuenta de reemplazar puntos a comas)__"
   ]
  },
  {
   "cell_type": "markdown",
   "id": "7c0e5ea1-7caa-40bd-a70d-24360152b70b",
   "metadata": {},
   "source": [
    "| first_name | last_name     | highway_1 | highway_2 | highway_3 |\n",
    "|------------|---------------|-----------|-----------|-----------|\n",
    "| Hilda      | Worgen        | 63.5      | 56.8      | 186.9     |\n",
    "| Grover     | Vassano       | 118.4     | 192.3     | 127.6     |\n",
    "| Odie       | Falvey        | 218.1     | 199.4     | 175.9     |\n",
    "| Jordanna   | Reedshaw      | 192.9     | 145.0     | 120.7     |\n",
    "| Sioux      | Delamere      | 86.8      | 119.4     | 59.3      |\n",
    "| Chester    | Pancoast      | 207.8     | 167.5     | 169.4     |\n",
    "| Urson      | Licciardiello | 208.2     | 187.7     | 113.9     |\n",
    "| Jamie      | Draude        | 87.1      | 190.0     | 217.5     |\n",
    "| Jerald     | Gebby         | 215.2     | 99.2      | 73.4      |\n",
    "| Bertie     | Gilligan      | 182.0     | 129.7     | 172.5     |\n",
    "| Abie       | McGooch       | 136.0     | 219.6     | 200.8     |\n",
    "| Lyndsay    | Moreman       | 105.0     | 148.2     | 158.6     |\n",
    "| Cindelyn   | Burgh         | 207.8     | 156.5     | 188.0     |\n",
    "| Candi      | Heiton        | 56.4      | 83.8      | 193.9     |\n",
    "| Fabien     | Grindley      | 92.7      | 161.0     | 60.8      |\n",
    "| Hedda      | Hiskey        | 101.9     | 174.4     | 216.0     |\n",
    "| Beatrisa   | Jaqueme       | 157.0     | 198.4     | 217.1     |\n",
    "| Donielle   | Pointin       | 152.2     | 74.8      | 202.0     |\n",
    "| Kylynn     | Harmour       | 86.8      | 108.9     | 88.0      |\n",
    "| Jorrie     | Slowly        | 123.3     | 62.1      | 190.2     |"
   ]
  },
  {
   "cell_type": "markdown",
   "id": "5f99acb1-0938-477e-9616-6efe7949ae2d",
   "metadata": {},
   "source": [
    "Las velocidades fueron categorizadas de la siguiente forma:\n",
    "\n",
    "- De 0 a 60 (sin incluirlo): Velocidad normal\n",
    "- de 60 a 120 (sin incluirlo): Velocidad de autopista ligera\n",
    "- de 120 a 160 (sin incluirlo): Velocidad de autopista rapida\n",
    "- de 160 en adelante: Exceso de velocidad"
   ]
  },
  {
   "cell_type": "markdown",
   "id": "5ca9e33e-f403-4492-941c-dc934f93c012",
   "metadata": {},
   "source": [
    "Resuelva:\n",
    "\n",
    "1. Copie en su cuaderno las categorias de las velocidades convertidas a intervalos matemáticos usando la notacion de paréntisis o chorchete según lo explicado en clase.\n",
    "2. Agregue una nueva columna  en ```F``` llamada ```Vel_Average``` usando alguna de las funciones vistas en clases anteriores calcule el promedio de la velocidad de las tres vias\n",
    "3. Agregue en ```G``` una nueva columna llamada ```Vel_Clasification```, halle usando las función __si anidadas__ la categoria de velocidad que le corresponde a cada persona, teniendo en cuenta los rangos anteriores, usando __intervalos descendentes__ (de mayor a menor)."
   ]
  },
  {
   "cell_type": "markdown",
   "id": "a56df24d-409e-474f-ad27-810880a1e843",
   "metadata": {},
   "source": [
    "### Ejercicio 2 - 1003"
   ]
  },
  {
   "cell_type": "markdown",
   "id": "1646c49d-e795-4bb4-8422-2450ab80b360",
   "metadata": {},
   "source": [
    "La siguiente tabla corresponde a los resultados parciales de La Liga profesional de futbol de Italia \"Serie A\" para la temporada 2024-2025."
   ]
  },
  {
   "cell_type": "markdown",
   "id": "0f086c42-67b0-4613-8723-906fec8697bd",
   "metadata": {},
   "source": [
    "Copiela en la hoja 2 __(tenga en cuenta de reemplazar puntos por comas)__:"
   ]
  },
  {
   "cell_type": "markdown",
   "id": "562f2da6-7fce-4e5d-9417-5d9e7584412a",
   "metadata": {},
   "source": [
    "| Pos | Team           | GP | W  | D  | L  | GF | GA | GD  | PTS | PPG  | last 8 | CS  | FTS |\n",
    "|-----|----------------|----|----|----|----|----|----|-----|-----|------|--------|-----|-----|\n",
    "| 1   |  Napoli        | 38 | 24 | 10 | 4  | 59 | 27 | +32 | 82  | 2.16 | 2.25   | 50% | 84% |\n",
    "| 2   |  Inter Milan   | 38 | 24 | 9  | 5  | 79 | 35 | +44 | 81  | 2.13 | 1.75   | 42% | 89% |\n",
    "| 3   |  Atalanta      | 38 | 22 | 8  | 8  | 78 | 37 | +41 | 74  | 1.95 | 2.00   | 39% | 82% |\n",
    "| 4   |  Juventus      | 38 | 18 | 16 | 4  | 58 | 35 | +23 | 70  | 1.84 | 1.88   | 45% | 82% |\n",
    "| 5   |  AS Roma       | 38 | 20 | 9  | 9  | 56 | 35 | +21 | 69  | 1.82 | 2.13   | 42% | 84% |\n",
    "| 6   |  Fiorentina    | 38 | 19 | 8  | 11 | 60 | 41 | +19 | 65  | 1.71 | 1.75   | 32% | 79% |\n",
    "| 7   |  Lazio         | 38 | 18 | 11 | 9  | 61 | 49 | +12 | 65  | 1.71 | 1.63   | 24% | 84% |\n",
    "| 8   |  AC Milan      | 38 | 18 | 9  | 11 | 61 | 43 | +18 | 63  | 1.66 | 2.00   | 34% | 87% |\n",
    "| 9   |  Bologna       | 38 | 16 | 14 | 8  | 57 | 47 | +10 | 62  | 1.63 | 0.75   | 32% | 82% |\n",
    "| 10  |  Como          | 38 | 13 | 10 | 15 | 49 | 52 | -3  | 49  | 1.29 | 2.38   | 18% | 79% |\n",
    "| 11  |  Torino        | 38 | 10 | 14 | 14 | 39 | 45 | -6  | 44  | 1.16 | 0.63   | 26% | 66% |\n",
    "| 12  |  Udinese       | 38 | 12 | 8  | 18 | 41 | 56 | -15 | 44  | 1.16 | 0.50   | 24% | 68% |\n",
    "| 13  |  Genoa         | 38 | 10 | 13 | 15 | 37 | 49 | -12 | 43  | 1.13 | 1.00   | 29% | 66% |\n",
    "| 14  |  Hellas Verona | 38 | 10 | 7  | 21 | 34 | 66 | -32 | 37  | 0.97 | 0.88   | 21% | 55% |\n",
    "| 15  |  Cagliari      | 38 | 9  | 9  | 20 | 40 | 56 | -16 | 36  | 0.95 | 0.88   | 18% | 61% |\n",
    "| 16  |  Parma         | 38 | 7  | 15 | 16 | 44 | 58 | -14 | 36  | 0.95 | 1.25   | 18% | 71% |\n",
    "| 17  |  Lecce         | 38 | 8  | 10 | 20 | 27 | 58 | -31 | 34  | 0.89 | 1.13   | 24% | 53% |\n",
    "| 18  |  Empoli        | 38 | 6  | 13 | 19 | 33 | 59 | -26 | 31  | 0.82 | 1.00   | 16% | 61% |\n",
    "| 19  |  Venezia       | 38 | 5  | 14 | 19 | 32 | 56 | -24 | 29  | 0.76 | 1.13   | 16% | 55% |\n",
    "| 20  |  Monza         | 38 | 3  | 9  | 26 | 28 | 69 | -41 | 18  | 0.47 | 0.38   | 8%  | 55% |"
   ]
  },
  {
   "cell_type": "markdown",
   "id": "fd76dc54-117a-48c0-955d-34426a48a579",
   "metadata": {},
   "source": [
    "> Significado de las abreviaturas en la tabla: ```GP```: Total games, ```W```: Winner, ```D```: Draw (empate); ```L```: Lost (perdido); ```GF```: Goals For (goles a favor), ```GA```: Goals Against (goles en contra), ```GD```: (Goals difference) diferencia de goles; ```PPG```: Points Per Game (puntos por partido), ```Last 8```: PPG last 8 matches (puntos por partido ultimos 8 partidos), ```CS```: Clean Sheets (porcentaje de partidos sin recibir gol), ```SR```( Tasa de puntuación)."
   ]
  },
  {
   "cell_type": "markdown",
   "id": "959db05f-12cc-4b26-b538-90d59f3b26c2",
   "metadata": {},
   "source": [
    "1. Agregue una nueva columna llamada ```GFP``` (goles anotados por partido) y calcule cuantos goles realizó cada equipo según el numero de partidos que jugó (```GP```)\n",
    "2. Agregue una nueva columna llamada ```ALG``` (porcentaje ultimos 8 partidos) y halle el porcentaje de puntos obtenidos por cada equipo en relacion al puntaje total logrado: $PPGx100/Pts$\n",
    "3. Agregue una nueva columna llamada ```Qual``` (Calificacion) y determine el nivel de cada equipo según los siguientes rangos usando el método de __intervalo ascendente.__ (de Menor a mayor)"
   ]
  },
  {
   "cell_type": "markdown",
   "id": "8b4f3bdb-46c4-4be3-83ab-436e827d7a96",
   "metadata": {},
   "source": [
    "- De 0 hasta 20 PTS (incluyendolo) : Deficiente rendimiento\n",
    "- A partir de 20 hasta 40 PTS (sin incluirlo) : Bajo rendimiento\n",
    "- A partir de 40 hasta 60 PTS (sin incluirlo) : Aceptable rendimiento\n",
    "- A partir de 60 hasta 70 PTS (sin incluirlo) : Buen rendimiento\n",
    "- De 70 PTS en adelante: Excelente rendimiento"
   ]
  },
  {
   "cell_type": "markdown",
   "id": "9e6329ac",
   "metadata": {},
   "source": [
    "4. Escriba en su cuaderno la notación del intervalo anterior según lo explicado en clase"
   ]
  },
  {
   "cell_type": "markdown",
   "id": "226ea9f9-ab41-4f13-ad2d-989f12954a47",
   "metadata": {},
   "source": [
    "Guarde su archivo como: Guia1_SIAnidadas_Apellido_Nombre_DiaMes, por ejemplo: ```Guia1_SiAidadas_Perez_Pedro_mayo20```"
   ]
  }
 ],
 "metadata": {
  "kernelspec": {
   "display_name": "Python 3 (ipykernel)",
   "language": "python",
   "name": "python3"
  },
  "language_info": {
   "codemirror_mode": {
    "name": "ipython",
    "version": 3
   },
   "file_extension": ".py",
   "mimetype": "text/x-python",
   "name": "python",
   "nbconvert_exporter": "python",
   "pygments_lexer": "ipython3",
   "version": "3.12.1"
  },
  "toc": {
   "base_numbering": 1,
   "nav_menu": {},
   "number_sections": true,
   "sideBar": true,
   "skip_h1_title": false,
   "title_cell": "Table of Contents",
   "title_sidebar": "Contents",
   "toc_cell": false,
   "toc_position": {},
   "toc_section_display": true,
   "toc_window_display": false
  }
 },
 "nbformat": 4,
 "nbformat_minor": 5
}
