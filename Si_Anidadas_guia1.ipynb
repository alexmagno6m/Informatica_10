{
 "cells": [
  {
   "cell_type": "markdown",
   "id": "7e33fd30",
   "metadata": {},
   "source": [
    "### Asignatura Informatica - Grado 10\n",
    "__Clase:__ Funciones logicas ```SI``` anidadas <br>\n",
    "__Profesor:Alexander Acevedo Gomez__<br>\n",
    "Ingeniero de Sistemas - Universidad Nacional de Colombia <br>\n",
    "Magister en Modelado y Simulacion por Computador - Universidad Jorge Tadeo Lozano <br>\n",
    "__Telegram: @Alex6m__"
   ]
  },
  {
   "cell_type": "markdown",
   "id": "e183a8b3",
   "metadata": {},
   "source": [
    "# Funciones lógicas de tipo ```SI``` anidadas"
   ]
  },
  {
   "cell_type": "markdown",
   "id": "e9fec806",
   "metadata": {},
   "source": [
    "### Concepto"
   ]
  },
  {
   "cell_type": "markdown",
   "id": "60bfcc55",
   "metadata": {},
   "source": [
    "Las funciones lógicas reciben el nombre de __anidadas__ cuando se incluyen dos o mas funciones ```SI``` dentro de una principal. Son empleadas para evaluar rangos, donde los valores o resultado de la función dependen de varios intervalos y no de uno solo."
   ]
  },
  {
   "cell_type": "markdown",
   "id": "6053c918",
   "metadata": {},
   "source": [
    "### Intervalos Matemáticos"
   ]
  },
  {
   "cell_type": "markdown",
   "id": "f5eb90f2",
   "metadata": {},
   "source": [
    "Los intervalos matemáticos son un tipo de notación que permite representar un conjunto de datos numéricos indicando sus límites tanto en el inicio como en el final."
   ]
  },
  {
   "cell_type": "markdown",
   "id": "b5a485fa",
   "metadata": {},
   "source": [
    "## Intervalos y uso de los operadores relacionales"
   ]
  },
  {
   "cell_type": "markdown",
   "id": "d193d2f4",
   "metadata": {},
   "source": [
    "Para definir correctamente las pruebas lógicas que evaluaran cada intervalo, debemos ordenarlos ya sea en forma ascendente (de manor a mayor) o descendente (de mayor a menor), dependiendo de este orden se determina cual de los operadores relacionales usar."
   ]
  },
  {
   "cell_type": "markdown",
   "id": "cb101abb",
   "metadata": {},
   "source": [
    "|   Intervalo  |   Operador relacional  |\n",
    "|--------------|------------------------|\n",
    "|   [          |   $>=$                     |\n",
    "|   ]          |   $<=$                |\n",
    "|   (          |   $>$              |\n",
    "|   )          |   $<$                |"
   ]
  },
  {
   "cell_type": "markdown",
   "id": "cbf0f6a8",
   "metadata": {},
   "source": [
    "### Intervalos Ascendentes"
   ]
  },
  {
   "cell_type": "markdown",
   "id": "2fa01998",
   "metadata": {},
   "source": [
    "Suponga que se desea clasificar los ingresos de un grupo de personas que pertenecen a una junta de acción comunal empleando los siguientes rangos:"
   ]
  },
  {
   "cell_type": "markdown",
   "id": "11578e24",
   "metadata": {},
   "source": [
    "- Desde 1200000 hasta 2500000 (sin incluirlo)-> INTERVALO A\n",
    "- Desde 2500000 hasta 3200000 (sin incluirlo)-> INTERVALO B\n",
    "- Desde 3200000 hasta 5000000 (sin incluirlo)-> INTERVALO C\n",
    "- De 5000000 en adelante -> INTERVALO D"
   ]
  },
  {
   "cell_type": "markdown",
   "id": "67b9f712",
   "metadata": {},
   "source": [
    "Los anteriores rangos pueden ser convertidos a intervalos matemáticos, usando la notación correspondiente:"
   ]
  },
  {
   "cell_type": "markdown",
   "id": "d753af24",
   "metadata": {},
   "source": [
    "- [1200000 - 2500000)\n",
    "- [2500000 - 3200000)\n",
    "- [3200000 - 5000000)\n",
    "- [5000000 - $\\infty$)"
   ]
  },
  {
   "cell_type": "markdown",
   "id": "01766d24",
   "metadata": {},
   "source": [
    "Cuando se usa la palabra _\"desde\"_ se está indicando que apartir de ese valor e incluyendo a este se empezará a tener en cuenta el rango. En cambio, la palabra _\"sin incluirlo\"_, indica que ese valor es el límite pero no debe ser tenido en cuenta para ese rango sino para el siguiente."
   ]
  },
  {
   "cell_type": "markdown",
   "id": "4808fa18",
   "metadata": {},
   "source": [
    "Una vez ordenado el intervalo, debe tener en cuenta:"
   ]
  },
  {
   "cell_type": "markdown",
   "id": "3b3a1f64",
   "metadata": {},
   "source": [
    "> - Tomar el segundo valor de cada intervalo para establecer la función lógica correspondiente\n",
    "> - Emplear el operador relacional que corresponde al simbolo de este valor, segun la tabla anterior\n",
    "> - Para el último intervalo no es necesario emplear una nueva función lógica, ya que esta se descarta en la parte falsa de la seccón."
   ]
  },
  {
   "cell_type": "markdown",
   "id": "5eb240b2",
   "metadata": {},
   "source": [
    "Considere que la celda con el primer valor que desea determinar su pertenencia a un determinado intervalo es ```B2```, en ese caso la función quedaría así:"
   ]
  },
  {
   "cell_type": "markdown",
   "id": "f4a8c96e",
   "metadata": {},
   "source": [
    "```=SI(B2<2500000; \"INTERVALO A\"; SI(B2<3200000; \"INTERVALO B\"; SI(B2<5000000; \"INTERVALO C\"; \"INTERVALO D\")))```"
   ]
  },
  {
   "cell_type": "markdown",
   "id": "2aeff77a",
   "metadata": {},
   "source": [
    "> Observe que se usa el signo ```<```, ya que según la tabla de arriba, es el que se emplea cuando el último valor del intervalo es el paréntesis derecho."
   ]
  },
  {
   "cell_type": "markdown",
   "id": "155aac74",
   "metadata": {},
   "source": [
    "### Intervalos Descendentes"
   ]
  },
  {
   "cell_type": "markdown",
   "id": "a1f97dbc",
   "metadata": {},
   "source": [
    "Tomando el ejemplo anterior, el intervalo ordenado de forma descendente es:"
   ]
  },
  {
   "cell_type": "markdown",
   "id": "c7421e21",
   "metadata": {},
   "source": [
    "- [5000000 - $\\infty$ )\n",
    "- [3200000 - 5000000)\n",
    "- [2500000 - 3200000)\n",
    "- [1200000 - 2500000)"
   ]
  },
  {
   "cell_type": "markdown",
   "id": "a87954ed",
   "metadata": {},
   "source": [
    "Para el caso de los intervalos descendentes tenga presente que:"
   ]
  },
  {
   "cell_type": "markdown",
   "id": "b9046c8c",
   "metadata": {},
   "source": [
    "> - Tomar el primer valor de cada intervalo para establecer la prueba lógica\n",
    "> - Emplear el operador relacional que corresponde al símbolo que acompaña este primer valor\n",
    "> - Al igual que en el intervalo ascendente, el último rango se realiza por descarte sin definir la prueba lógica."
   ]
  },
  {
   "cell_type": "markdown",
   "id": "c2803ad6",
   "metadata": {},
   "source": [
    "Dado lo anterior, la funcion queda así:"
   ]
  },
  {
   "cell_type": "markdown",
   "id": "f4e202fa",
   "metadata": {},
   "source": [
    "```=SI(B2>=5000000; \"INTERVALO D\"; SI(B2>=3200000; \"INTERVALO C\"; SI(B2>=2500000; \"INTERVALO B\"; \"INTERVALO A\")))```"
   ]
  },
  {
   "cell_type": "markdown",
   "id": "268e9d35",
   "metadata": {},
   "source": [
    "## Ejercicios"
   ]
  },
  {
   "cell_type": "markdown",
   "id": "86eba72d",
   "metadata": {},
   "source": [
    "Para obtener el sello escriba en su cuaderno:\n",
    "Para obtener el sello escriba en su cuaderno:\n",
    "1. __Competencia__: 2\n",
    "2. __Ámbito conceptual__: Las funciones lógicas SI, Y, O. Simples y anidadas.\n",
    "3. __Objetivo__: Plantear correctamente las pruebas logicas que evaluan cada intervalo según sea ordenado de forma ascendente o descendente.\n",
    "4. __Nombre de la actividad__: Guia 1 funciones si anidadas."
   ]
  },
  {
   "cell_type": "markdown",
   "id": "dddff261",
   "metadata": {},
   "source": [
    "### Ejercicio 1 - 1001"
   ]
  },
  {
   "cell_type": "markdown",
   "id": "915d1657",
   "metadata": {},
   "source": [
    "Para aprobar en cierta universidad de Estados Unidos se determinó la siguiente escala por letras:\n",
    "- De 0 a 30 (sin incluirlo) : D\n",
    "- De 30 a 40 (sin incluirlo): C\n",
    "- De 40 a 47 (sin incluirlo): B\n",
    "- de 47 a 50 (incluyendolo): A"
   ]
  },
  {
   "cell_type": "markdown",
   "id": "499383eb",
   "metadata": {},
   "source": [
    "Copie la siguiente tabla que corresponde al listado de estudiantes __(tenga en cuenta de reemplazar puntos a comas)__"
   ]
  },
  {
   "cell_type": "markdown",
   "id": "8d7b56a5",
   "metadata": {},
   "source": [
    "| first_name | last_name  | nota 1 | nota 2 |\n",
    "|------------|------------|--------|--------|\n",
    "| Stephana   | Youel      | 35.8   | 27.3   |\n",
    "| Kalinda    | Ofen       | 35.2   | 13.1   |\n",
    "| Zelma      | Goodhay    | 34.6   | 16.2   |\n",
    "| Vivyanne   | Glozman    | 14.1   | 46.4   |\n",
    "| Dasie      | Livett     | 43.9   | 33.4   |\n",
    "| Redd       | Beefon     | 34.7   | 41.3   |\n",
    "| Lissa      | Branca     | 39.5   | 24.3   |\n",
    "| Clarissa   | Macari     | 23.6   | 13.2   |\n",
    "| Bear       | Craine     | 26.8   | 17.8   |\n",
    "| Claudio    | Rickertsen | 33.7   | 41.1   |\n",
    "| Nevsa      | Buddington | 33.6   | 31.2   |\n",
    "| Katya      | Heffernan  | 22.2   | 36.6   |\n",
    "| Rosabella  | Helbeck    | 49.7   | 17.5   |\n",
    "| Adena      | Giacobo    | 23.5   | 25.4   |\n",
    "| Arabela    | Rippon     | 49.1   | 36.4   |"
   ]
  },
  {
   "cell_type": "markdown",
   "id": "cbe1eee4",
   "metadata": {},
   "source": [
    "Resuelva:\n",
    "1. Agregue en la columna ```D``` el texto ```Nota final```, usando la función correspondiente halle el promedio final de cada estudiante.\n",
    "2. Agregue en la columna ```E``` el texto ```Valoración Final```, empleando las funciones lógicas si anidadas, determine la valoración en letra para cada estudiante. __Empleando intervalos Descendentes.__"
   ]
  },
  {
   "cell_type": "markdown",
   "id": "73bf94e0",
   "metadata": {},
   "source": [
    "### Ejercicio 2 - 1001"
   ]
  },
  {
   "cell_type": "markdown",
   "id": "a34d5f12",
   "metadata": {},
   "source": [
    "La siguiente tabla corresponde a los resultados finales de la Champions League de Inglaterra para la temporada 2023-2024."
   ]
  },
  {
   "cell_type": "markdown",
   "id": "17d7a07d",
   "metadata": {},
   "source": [
    "Copiela en la hoja 2 __(tenga en cuenta de reemplazar puntos a comas)__"
   ]
  },
  {
   "cell_type": "markdown",
   "id": "3a1658c1",
   "metadata": {},
   "source": [
    "| Pos | Team             | GP | W  | D  | L  | GF | GA  | GD  | PTS | PPG  | Last 8 | CS  | FTS |\n",
    "|-----|------------------|----|----|----|----|----|-----|-----|-----|------|--------|-----|-----|\n",
    "| 1   |  Manchester City | 38 | 28 | 7  | 3  | 96 | 34  | +62 | 91  | 2.39 | 3.00   | 34% | 8%  |\n",
    "| 2   |  Arsenal         | 38 | 28 | 5  | 5  | 91 | 29  | +62 | 89  | 2.34 | 2.63   | 47% | 13% |\n",
    "| 3   |  Liverpool       | 38 | 24 | 10 | 4  | 86 | 41  | +45 | 82  | 2.16 | 1.50   | 26% | 8%  |\n",
    "| 4   |  Aston Villa     | 38 | 20 | 8  | 10 | 76 | 61  | +15 | 68  | 1.79 | 1.13   | 21% | 16% |\n",
    "| 5   |  Tottenham       | 38 | 20 | 6  | 12 | 74 | 61  | +13 | 66  | 1.74 | 1.13   | 18% | 11% |\n",
    "| 6   |  Chelsea         | 38 | 18 | 9  | 11 | 77 | 63  | +14 | 63  | 1.66 | 2.38   | 21% | 16% |\n",
    "| 7   |  Newcastle Utd   | 38 | 18 | 6  | 14 | 85 | 62  | +23 | 60  | 1.58 | 2.00   | 26% | 13% |\n",
    "| 8   |  Manchester Utd  | 38 | 18 | 6  | 14 | 57 | 58  | -1  | 60  | 1.58 | 1.50   | 24% | 24% |\n",
    "| 9   |  West Ham Utd    | 38 | 14 | 10 | 14 | 60 | 74  | -14 | 52  | 1.37 | 1.00   | 13% | 21% |\n",
    "| 10  |  Crystal Palace  | 38 | 13 | 10 | 15 | 57 | 58  | -1  | 49  | 1.29 | 2.38   | 26% | 18% |\n",
    "| 11  |  Brighton        | 38 | 12 | 12 | 14 | 55 | 62  | -7  | 48  | 1.26 | 0.63   | 16% | 26% |\n",
    "| 12  |  Bournemouth     | 38 | 13 | 9  | 16 | 54 | 67  | -13 | 48  | 1.26 | 0.88   | 24% | 18% |\n",
    "| 13  |  Fulham          | 38 | 13 | 8  | 17 | 55 | 61  | -6  | 47  | 1.24 | 1.00   | 26% | 34% |\n",
    "| 14  |  Wolverhampton   | 38 | 13 | 7  | 18 | 50 | 65  | -15 | 46  | 1.21 | 0.50   | 13% | 24% |\n",
    "| 15  |  Everton         | 38 | 13 | 9  | 16 | 40 | 51  | -11 | 40  | 1.26 | 2.00   | 34% | 32% |\n",
    "| 16  |  Brentford       | 38 | 10 | 9  | 19 | 56 | 65  | -9  | 39  | 1.03 | 1.50   | 18% | 21% |\n",
    "| 17  |  Nottm Forest    | 38 | 9  | 9  | 20 | 49 | 67  | -18 | 32  | 0.95 | 1.25   | 11% | 26% |\n",
    "| 18  |  Luton Town      | 38 | 6  | 8  | 24 | 52 | 85  | -33 | 26  | 0.68 | 0.50   | 5%  | 13% |\n",
    "| 19  |  Burnley         | 38 | 5  | 9  | 24 | 41 | 78  | -37 | 24  | 0.63 | 0.75   | 5%  | 32% |\n",
    "| 20  |  Sheffield Utd   | 38 | 3  | 7  | 28 | 35 | 104 | -69 | 16  | 0.42 | 0.13   | 3%  | 39% |"
   ]
  },
  {
   "cell_type": "markdown",
   "id": "1c57baa6",
   "metadata": {},
   "source": [
    "Significado de las abreviaturas en la tabla: GP: Total games, W: Winner, D: Drew; L: Lost; GF: Goals For, GA: Goals Against, PPG: Points Per Game, Last 8: PPG last 8 matches, CS: Clean Sheets, FTS: Failed To Score"
   ]
  },
  {
   "cell_type": "markdown",
   "id": "5bbffbe3",
   "metadata": {},
   "source": [
    "Resuelva:"
   ]
  },
  {
   "cell_type": "markdown",
   "id": "63888147",
   "metadata": {},
   "source": [
    "1. Agregue una nueva columna llamada ```GPP``` (Goles por partido) y  calcule en promedio cuantos goles hizo cada equipo por partido.\n",
    "2. Agregue una nueva columna llamada ```PT``` (Rendimiento total) y calcule el porcentaje de partidos ganados en relacion a los partidos jugados, es decir $W/GP*100$\n",
    "3. Agregue una nueva columna llamada ```Qual``` (Calificacion) y determine el nivel de cada equipo segun los siguientes rangos usando el metodo de __intervalo ascendente.__(De menor a mayor)"
   ]
  },
  {
   "cell_type": "markdown",
   "id": "551c4bf4",
   "metadata": {},
   "source": [
    "- De 0 hasta 20 PTS (incluyendolo) : Deficiente rendimiento\n",
    "- A partir de 20 hasta 40 PTS (incluyendolo) : Bajo rendimiento\n",
    "- A partir de 40 hasta 60 PTS (incluyendolo) : Aceptable rendimiento\n",
    "- A partir de 60 hasta 80 PTS (incluyendolo) : Buen rendimiento\n",
    "- De 80 PTS en adelante: Excelente rendimiento"
   ]
  },
  {
   "cell_type": "markdown",
   "id": "4da04ca3",
   "metadata": {},
   "source": [
    "Guarde su archivo como: Guia1_SIAnidadas_Apellido_Nombre_DiaMes, por ejemplo: ```Guia1_SiAidadas_Perez_Pedro_mayo20```"
   ]
  },
  {
   "cell_type": "markdown",
   "id": "7cb89910",
   "metadata": {},
   "source": [
    "### Ejercicio 1 - 1002"
   ]
  },
  {
   "cell_type": "markdown",
   "id": "50f3538f",
   "metadata": {},
   "source": [
    "El consumo de agua por metros cubicos se ha clasificado segun los siguientes rangos:"
   ]
  },
  {
   "cell_type": "markdown",
   "id": "194cd27f",
   "metadata": {},
   "source": [
    "- De 0 a 20 (incluyéndolo) : Bajo consumo\n",
    "- de 20 a 40 (incluyéndolo) : Medio consumo\n",
    "- de 40 a 50 (incluyéndolo) : Alto consumo\n",
    "- Mas de 60: Muy alto consumo"
   ]
  },
  {
   "cell_type": "markdown",
   "id": "8423b088",
   "metadata": {},
   "source": [
    "La siguiente tabla muestra el consumo de agua realizado por un grupo de personas de cierto sector en New York, copiela en su cuaderno, __(tenga en cuenta de reemplazar puntos a comas)__"
   ]
  },
  {
   "cell_type": "markdown",
   "id": "13956fa3",
   "metadata": {},
   "source": [
    "| first_name | last_name  | January_con | February_con | March_con |\n",
    "|------------|------------|-------------|--------------|-----------|\n",
    "| Meryl      | Torpie     | 8.2         | 37.5         | 66.9      |\n",
    "| Gino       | Ballendine | 26.7        | 55.0         | 51.8      |\n",
    "| Clerissa   | Bonnar     | 38.9        | 18.4         | 14.6      |\n",
    "| Boniface   | Klimushev  | 39.8        | 64.4         | 46.6      |\n",
    "| Wiatt      | Balfour    | 47.4        | 56.0         | 19.8      |\n",
    "| Laughton   | Diaper     | 25.5        | 8.1          | 55.2      |\n",
    "| Shannan    | Ffoulkes   | 41.0        | 43.4         | 47.4      |\n",
    "| Feliks     | Bindin     | 41.8        | 61.8         | 28.2      |\n",
    "| Maude      | Fewkes     | 6.2         | 51.9         | 16.6      |\n",
    "| Ab         | Myers      | 60.2        | 37.0         | 70.0      |\n",
    "| Kellsie    | Godlip     | 43.8        | 17.9         | 46.9      |\n",
    "| Michail    | Gajownik   | 5.1         | 18.6         | 26.0      |\n",
    "| Alexine    | Adamides   | 13.9        | 13.4         | 52.2      |\n",
    "| Shay       | Newrick    | 23.0        | 15.8         | 31.3      |\n",
    "| Benita     | Cartin     | 30.1        | 57.6         | 61.6      |"
   ]
  },
  {
   "cell_type": "markdown",
   "id": "40dd5a43",
   "metadata": {},
   "source": [
    "Resuelva:"
   ]
  },
  {
   "cell_type": "markdown",
   "id": "92e34614",
   "metadata": {},
   "source": [
    "1. Agregue en la columna ```F``` el texto ```Clasificacion Marzo```, y determine el nivel de consumo  usando las funciones logicas si anidadas usando __intervalo ascendente.__\n",
    "2. Agregue en la columna ```G``` el texto ```Consumo General``` y determine el promedio consumido en los tres meses por cada persona, empleando la funcion que considere convenniente."
   ]
  },
  {
   "cell_type": "markdown",
   "id": "8476930e",
   "metadata": {},
   "source": [
    "### Ejercicio 2 - 1002"
   ]
  },
  {
   "cell_type": "markdown",
   "id": "d762359f",
   "metadata": {},
   "source": [
    "La siguiente tabla corresponde a los resultados parciales de La Liga profesional de futbol España para la temporada 2023-2024."
   ]
  },
  {
   "cell_type": "markdown",
   "id": "e338f312",
   "metadata": {},
   "source": [
    "| Pos | Team             | GP | W  | D  | L  | GF | GA | GD  | PTS | PPG  | Last 8 | CS  | FTS |\n",
    "|-----|------------------|----|----|----|----|----|----|-----|-----|------|--------|-----|-----|\n",
    "| 1   |  Real Madrid     | 37 | 29 | 7  | 1  | 87 | 26 | +61 | 94  | 2.54 | 2.75   | 54% | 3%  |\n",
    "| 2   |  FC Barcelona    | 37 | 25 | 7  | 5  | 77 | 43 | +34 | 82  | 2.22 | 2.25   | 46% | 5%  |\n",
    "| 3   |  Girona          | 37 | 24 | 6  | 7  | 78 | 46 | +32 | 78  | 2.11 | 2.00   | 30% | 19% |\n",
    "| 4   |  Atletico Madrid | 37 | 23 | 4  | 10 | 68 | 43 | +25 | 73  | 1.97 | 2.25   | 32% | 22% |\n",
    "| 5   |  Athletic Bilbao | 37 | 18 | 11 | 8  | 60 | 37 | +23 | 65  | 1.76 | 1.13   | 46% | 24% |\n",
    "| 6   |  Real Sociedad   | 37 | 16 | 12 | 9  | 51 | 37 | +14 | 60  | 1.62 | 1.75   | 41% | 24% |\n",
    "| 7   |  Real Betis      | 37 | 14 | 14 | 9  | 48 | 45 | +3  | 56  | 1.51 | 1.75   | 32% | 19% |\n",
    "| 8   |  Villarreal      | 37 | 14 | 10 | 13 | 64 | 64 | 0   | 52  | 1.41 | 1.75   | 16% | 11% |\n",
    "| 9   |  Valencia        | 37 | 13 | 9  | 15 | 38 | 43 | -5  | 48  | 1.30 | 0.88   | 35% | 35% |\n",
    "| 10  |  Alaves          | 37 | 12 | 9  | 16 | 35 | 45 | -10 | 45  | 1.22 | 1.63   | 30% | 41% |\n",
    "| 11  |  Osasuna         | 37 | 12 | 8  | 17 | 44 | 55 | -11 | 44  | 1.19 | 1.00   | 27% | 27% |\n",
    "| 12  |  Getafe          | 37 | 10 | 13 | 14 | 41 | 52 | -11 | 43  | 1.16 | 0.63   | 27% | 41% |\n",
    "| 13  |  Sevilla FC      | 37 | 10 | 11 | 16 | 47 | 52 | -5  | 41  | 1.11 | 1.63   | 22% | 27% |\n",
    "| 14  |  Celta Vigo      | 37 | 10 | 10 | 17 | 44 | 55 | -11 | 40  | 1.08 | 1.63   | 16% | 35% |\n",
    "| 15  |  Las Palmas      | 37 | 10 | 9  | 18 | 32 | 46 | -14 | 39  | 1.05 | 0.25   | 22% | 46% |\n",
    "| 16  |  Rayo Vallecano  | 37 | 8  | 14 | 15 | 29 | 47 | -18 | 38  | 1.03 | 1.13   | 35% | 49% |\n",
    "| 17  |  Mallorca        | 37 | 7  | 16 | 14 | 31 | 43 | -12 | 37  | 1.00 | 0.88   | 27% | 41% |\n",
    "| 18  |  Cadiz           | 37 | 6  | 15 | 16 | 25 | 49 | -24 | 33  | 0.89 | 1.38   | 27% | 49% |\n",
    "| 19  |  Granada         | 37 | 4  | 9  | 24 | 38 | 72 | -34 | 21  | 0.57 | 0.88   | 8%  | 41% |\n",
    "| 20  |  Almeria         | 37 | 2  | 12 | 23 | 37 | 74 | -37 | 18  | 0.49 | 0.63   | 16% | 32% |"
   ]
  },
  {
   "cell_type": "markdown",
   "id": "848960fb",
   "metadata": {},
   "source": [
    "Significado de las abreviaturas en la tabla: GP: Total games, W: Winner, D: Drew; L: Lost; GF: Goals For, GA: Goals Against, PPG: Points Per Game, Last 8: PPG last 8 matches, CS: Clean Sheets, FTS: Failed To Score"
   ]
  },
  {
   "cell_type": "markdown",
   "id": "1be88251",
   "metadata": {},
   "source": [
    "Resuelva:"
   ]
  },
  {
   "cell_type": "markdown",
   "id": "f51bccb4",
   "metadata": {},
   "source": [
    "1. Agregue una nueva columna llamada ```GAP``` (Goles recibidos partido) y  calcule en promedio cuantos goles recibió cada equipo por partido.\n",
    "2. Agregue una nueva columna llamada ```BD``` (Mejor defensa) y calcule el porcentaje de partidos perdidos en relacion a los partidos jugados, es decir $L/GP*100$\n",
    "3. Agregue una nueva columna llamada ```Qual``` (Calificacion) y determine el nivel de cada equipo según los siguientes rangos usando el método de __intervalo descendente.__ (de Mayor a menor)"
   ]
  },
  {
   "cell_type": "markdown",
   "id": "d693f9f1",
   "metadata": {},
   "source": [
    "- De 0 hasta 20 PTS (incluyendolo) : Deficiente rendimiento\n",
    "- A partir de 20 hasta 40 PTS (incluyendolo) : Bajo rendimiento\n",
    "- A partir de 40 hasta 60 PTS (incluyendolo) : Aceptable rendimiento\n",
    "- A partir de 60 hasta 80 PTS (incluyendolo) : Buen rendimiento\n",
    "- De 80 PTS en adelante: Excelente rendimiento"
   ]
  },
  {
   "cell_type": "markdown",
   "id": "668e2284",
   "metadata": {},
   "source": [
    "Guarde su archivo como: Guia1_SIAnidadas_Apellido_Nombre_DiaMes, por ejemplo: ```Guia1_SiAidadas_Perez_Pedro_mayo20```"
   ]
  }
 ],
 "metadata": {
  "kernelspec": {
   "display_name": "Python 3 (ipykernel)",
   "language": "python",
   "name": "python3"
  },
  "language_info": {
   "codemirror_mode": {
    "name": "ipython",
    "version": 3
   },
   "file_extension": ".py",
   "mimetype": "text/x-python",
   "name": "python",
   "nbconvert_exporter": "python",
   "pygments_lexer": "ipython3",
   "version": "3.12.1"
  }
 },
 "nbformat": 4,
 "nbformat_minor": 5
}
