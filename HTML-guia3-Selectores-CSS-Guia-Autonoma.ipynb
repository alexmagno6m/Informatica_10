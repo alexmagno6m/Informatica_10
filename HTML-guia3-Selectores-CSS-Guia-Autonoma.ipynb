{
 "cells": [
  {
   "cell_type": "markdown",
   "id": "98863bbe-440e-4de3-aeb1-8a1ee9aa1771",
   "metadata": {},
   "source": [
    "# Guia 3 - Empleo de selectores (Guía Autónoma)"
   ]
  },
  {
   "cell_type": "markdown",
   "id": "94edfc46-2413-4d46-a5fe-3957160fbe40",
   "metadata": {},
   "source": [
    "- Profesor: __Alexander Acecedo Gómez__\n",
    "- Ingeniero de sistemas\n",
    "- __Magister en Modelado y Simulación__\n",
    "- @Alex6m"
   ]
  },
  {
   "cell_type": "markdown",
   "id": "91e375fe-8a8e-4d5a-890e-5f912530531a",
   "metadata": {},
   "source": [
    "### Obtención del sello"
   ]
  },
  {
   "cell_type": "markdown",
   "id": "c4d17b05-a1c9-44ab-b807-4c1f08b5f6c3",
   "metadata": {},
   "source": [
    "Escriba en su cuaderno:"
   ]
  },
  {
   "cell_type": "markdown",
   "id": "b05d564e-7d38-426d-81eb-62fb1e73f7d7",
   "metadata": {},
   "source": [
    "> - Competencia: 1\n",
    "> - Ámbito conceptual: Empleo de selectores CSS para aplicar estilos diferenciados\n",
    "> - Objetivo: Aplicar selectores CSS a elementos HTML con el proposito de lograr una visualización diferenciada respecto a otros elementos similares."
   ]
  },
  {
   "cell_type": "markdown",
   "id": "fb7835f8-1f47-492e-b771-fe4d67e7736c",
   "metadata": {},
   "source": [
    "## Desarrollo de la Guia (20 puntos)"
   ]
  },
  {
   "cell_type": "markdown",
   "id": "1c410fc0-c989-489d-b2a4-2faa62fc5b83",
   "metadata": {},
   "source": [
    "> La actividad debe desarrollarla con base en los conocimientos adquiridos hasta la fecha, empleando únicamente los elementos HTML y propiedades CSS vistos en clase o los que se indiquen en la presente guía. __si el codigo empleado en su actividad tiene partes generadas por IA causará la anulación de la misma y el inicio de proceso disciplinario a que hubiese lugar__.\n",
    ">\n",
    "> Al entregar la actividad se da por hecho que usted acepta la anterior condición"
   ]
  },
  {
   "cell_type": "markdown",
   "id": "26846871-fede-413b-b58c-634919932e16",
   "metadata": {},
   "source": [
    "La siguiente guia es de trabajo autónomo, sin intervención mayoritaria del profesor, lea con atención cada uno de los pasos."
   ]
  },
  {
   "cell_type": "markdown",
   "id": "9ba0db25-4d7c-476e-8dac-784ca516d578",
   "metadata": {},
   "source": [
    "### Puntos para todos los cursos"
   ]
  },
  {
   "cell_type": "markdown",
   "id": "df5f8b7a-5115-4907-b223-ff95fa34e086",
   "metadata": {},
   "source": [
    "1. En el explorador de Windows dentro de su carpeta personal cree una nueva carpeta llamada `guia-selectores`, observe la siguiente organización"
   ]
  },
  {
   "cell_type": "markdown",
   "id": "6e4e44c5-6df6-43a7-ba54-bcd09455f61b",
   "metadata": {},
   "source": [
    "```\n",
    "└── Informatica 10/\n",
    "    └── Su curso/\n",
    "        └── Su nombre/\n",
    "            └── Proyectos HTML/\n",
    "                └── guia-selectores/\n",
    "```"
   ]
  },
  {
   "cell_type": "markdown",
   "id": "85f11cd4-c055-4c41-bdce-08dff8743e2f",
   "metadata": {},
   "source": [
    "2. Ahora abra `VS-Code`, seleccione la carpeta `guia-selectores` y configure su espacio de trabajo asi: creando la carpeta `CSS` (`new folder`) y dentro de ella el archivo (`new file`) `styles.css` y por fueras en el espacio principal el archivo `index.html`:"
   ]
  },
  {
   "cell_type": "markdown",
   "id": "dbf9c950-b8c2-4a3b-be9c-25df66af8abf",
   "metadata": {},
   "source": [
    "```\n",
    "└── guia-selectores/\n",
    "    ├── CSS/\n",
    "    │   └── styles.css\n",
    "    └── index.html\n",
    "```"
   ]
  },
  {
   "cell_type": "markdown",
   "id": "576787c7-e585-46e7-9c62-b31799f541eb",
   "metadata": {},
   "source": [
    "3. Ahora sobre el archivo `index.html`, genere la estructura de una pagina web escribiendo el comando `html:5`."
   ]
  },
  {
   "cell_type": "markdown",
   "id": "314122f9-c0f6-4c08-b8f4-9022c17d0cd3",
   "metadata": {},
   "source": [
    "### Puntos para 1001"
   ]
  },
  {
   "cell_type": "markdown",
   "id": "29b847fd-5f8d-4623-8ab4-c06db27311f1",
   "metadata": {},
   "source": [
    "#### No está permitido el uso de IA para el desarrollo de esta guía"
   ]
  },
  {
   "cell_type": "markdown",
   "id": "c8d384d0-653a-4e02-8351-3b598df6fd16",
   "metadata": {},
   "source": [
    "4. Modifique los siguientes elementos:\n",
    "- Título de la página: Guia Selectores"
   ]
  },
  {
   "cell_type": "markdown",
   "id": "7c82cf6e-7001-44af-b8ca-0cfbc109e4d0",
   "metadata": {},
   "source": [
    "Entre las etiquetas `<body>` y `</body>` agregue:"
   ]
  },
  {
   "cell_type": "markdown",
   "id": "67dafa6b-aa76-4df2-bdd1-c113370661d8",
   "metadata": {},
   "source": [
    "- Titulo `h1`: Uso de selectores\n",
    "- Agregue un espacio con la etiqueta `br`\n",
    "- Agregue la etiqueta `div`\n",
    "- Ahora agregue de nuevo la etiqueta `br`\n",
    "- Agregue dos veces mas la etiqueta `div` dejando una linea horizontal `hr` entre uno y otro"
   ]
  },
  {
   "cell_type": "markdown",
   "id": "22baf384-7021-4fd7-9003-3e7ff3b58d26",
   "metadata": {},
   "source": [
    "El código en esta sección debería verse asi:"
   ]
  },
  {
   "cell_type": "markdown",
   "id": "f51fcbb4-fd69-47d2-9be8-52dc75b646c9",
   "metadata": {},
   "source": [
    "![code6](code6.png)"
   ]
  },
  {
   "cell_type": "markdown",
   "id": "f295d737-2d26-4b90-9a1a-5a38337c2669",
   "metadata": {},
   "source": [
    "5. Ahora ubiquese en la etiqueta de apertura del primer `div` y dentro de ella agregue: `id=\"contenedor1\"`.\n",
    "6. Como texto dentro para el elemento escriba su nombre, debe quedar de la siguiente manera:"
   ]
  },
  {
   "cell_type": "markdown",
   "id": "ce910090-2820-46e7-abb5-5415faabf531",
   "metadata": {},
   "source": [
    "![code7](code7.png)"
   ]
  },
  {
   "cell_type": "markdown",
   "id": "9d7dc90c-f6a3-4b63-830a-4cbcab62cf16",
   "metadata": {},
   "source": [
    "7. Para las siguientes etiquetas `div` agregue los identificadores `contenedor2`  y `contenedor3` respectivamente\n",
    "8. Dentro de ellas escriba los textos `curso 1001` y en el ultimo su correo electrónico."
   ]
  },
  {
   "cell_type": "markdown",
   "id": "39f4920b-fb15-4f37-a4a9-c02f036381a1",
   "metadata": {},
   "source": [
    "#### Parte II: Configuración de los estilos"
   ]
  },
  {
   "cell_type": "markdown",
   "id": "a7860abf-7e65-4284-b9e9-742ff7aaaf17",
   "metadata": {},
   "source": [
    "El haber asignado un identificador distinto a cada `div` permite aplicar estilos  de color y apariencia diferentes"
   ]
  },
  {
   "cell_type": "markdown",
   "id": "0e4939d1-a178-47eb-a853-ebfc9d6e0647",
   "metadata": {},
   "source": [
    "1. Enlace el archivo `styles.css` dentro de la sección `head` del archivo `index.html`, escriba el comando `link:css`:"
   ]
  },
  {
   "cell_type": "markdown",
   "id": "c0b3a102-61d3-4a78-9a78-debd32713f7c",
   "metadata": {},
   "source": [
    "![code8](code8.png)"
   ]
  },
  {
   "cell_type": "markdown",
   "id": "d26ba322-02c1-4ff8-a8f7-9393ed22414c",
   "metadata": {},
   "source": [
    "2. Ahora ubiquese en el archivo `styles.css`, cree el selector de elemento body escribiendo:"
   ]
  },
  {
   "cell_type": "markdown",
   "id": "e1027662-591b-49be-80b2-32cd2a0867c8",
   "metadata": {},
   "source": [
    "```\n",
    "body {\n",
    "\n",
    "}\n",
    "```"
   ]
  },
  {
   "cell_type": "markdown",
   "id": "7cb44b24-307a-44bf-93e1-b29ab522ea95",
   "metadata": {},
   "source": [
    "3. En medio de las llaves escriba la propiedad `background-color: ...` y seleccióne un color de su interes que no sea blanco o negro:"
   ]
  },
  {
   "cell_type": "markdown",
   "id": "59f4fcf7-52d8-4e4f-9b67-904baab138f8",
   "metadata": {},
   "source": [
    "![code4](code4.png)"
   ]
  },
  {
   "cell_type": "markdown",
   "id": "d2fa2dbc-3deb-49a5-917c-046690b1f077",
   "metadata": {},
   "source": [
    "4. De la misma forma, agregue un selector para el elemento `h1` con sus llaves `{}` y establezca un color de letra con la propiedad `color` y un tipo de fuente con la propiedad `font-family` y un tamaño de 12 con la propiedad `font-size`.\n",
    "5. Ahora se configuran los elementos `div`, pero a diferencia de los otros elementos, estos al tener identificador se escribe el nombre del mismo anteponiendo el signo `#`:"
   ]
  },
  {
   "cell_type": "markdown",
   "id": "49e02b37-1d2a-42a6-8ec0-57a3d78ed8cb",
   "metadata": {},
   "source": [
    "```\n",
    "#contenedor1 {\n",
    "\n",
    "}\n",
    "```"
   ]
  },
  {
   "cell_type": "markdown",
   "id": "5308bea6-b809-4f68-9837-f0aea8fc89e3",
   "metadata": {},
   "source": [
    "6. Dentro de las llaves, asigne las siguientes propiedades:"
   ]
  },
  {
   "cell_type": "markdown",
   "id": "e077b012-824b-4266-8a64-b052aa73ef42",
   "metadata": {},
   "source": [
    "- `width: 280px;` (esta propiedad determina el ancho del elemento)\n",
    "- `height: 90px;` (esta propiedad determina el alto del elemento)\n",
    "- `background-color:` (seleccione un color __diferente__ al del body y al de la letra que escogio anteriormente.\n",
    "- `text-align: right;` (esta propiedad centra el texto)\n",
    "- `border: 3px solid black;` (se agrega un borde de 2 pixeles de grosor en color negro)"
   ]
  },
  {
   "cell_type": "markdown",
   "id": "ed50685b-ef25-456b-a80f-a92a0b3fb3ab",
   "metadata": {},
   "source": [
    "El código debería verse asi:"
   ]
  },
  {
   "cell_type": "markdown",
   "id": "1f0f0fce-03ca-480d-b4d0-9b562fedb1b5",
   "metadata": {},
   "source": [
    "![code9](code9.png)"
   ]
  },
  {
   "cell_type": "markdown",
   "id": "f28185d7-aec1-4115-8f00-ca26d763364c",
   "metadata": {},
   "source": [
    "7. Ahora cree el selector para el `contenedor2` y agregue los siguientes estilos:"
   ]
  },
  {
   "cell_type": "markdown",
   "id": "e8b22a8d-35e1-4d32-bb11-5a0f7847db60",
   "metadata": {},
   "source": [
    "- Ancho de 450 y alto de  70 pixeles; \n",
    "- Un color de fondo de su elección puede ser el mismo empleado en el `contenedor1`\n",
    "- Alinee el texto al centro\n",
    "- Aplique un borde de 1px en color azul\n",
    "- Aplique el mismo color para el texto que empleo en el elemento `h1`"
   ]
  },
  {
   "cell_type": "markdown",
   "id": "bb837557-11e7-4734-96b0-0f4b44ef10eb",
   "metadata": {},
   "source": [
    "8. Para el `contenedor3`, agregue los siguientes estilos:"
   ]
  },
  {
   "cell_type": "markdown",
   "id": "54fb0f1b-db1a-4e37-b338-5714297add95",
   "metadata": {},
   "source": [
    "- Ancho de 300 y alto 50 pixeles; \n",
    "- Un color de fondo de su elección puede ser el mismo empleado en el `contenedor1`\n",
    "- Alinee el texto a la derecha\n",
    "- Aplique un borde de 1px en color verde\n",
    "- Aplique el mismo color para el texto que empleo en el elemento `h1`"
   ]
  },
  {
   "cell_type": "markdown",
   "id": "3a4c075d-a14e-445a-b6aa-684a3a21711d",
   "metadata": {},
   "source": [
    "9. En el archivo `index.html` agregue un espacio y un nuevo elemento `div` identificado como `contenedor4`.\n",
    "10. Dentro escriba el texto `Guía de aprendizaje autónomo`\n",
    "11. Finalmente configure los siguientes estilos para este nuevo elemento asi:"
   ]
  },
  {
   "cell_type": "markdown",
   "id": "b254aaf5-8c93-4478-a095-1e560fbc5f28",
   "metadata": {},
   "source": [
    "- Ancho de 450 y alto 70 pixeles; \n",
    "- Un color de fondo de su elección puede ser el mismo empleado en el `contenedor1`\n",
    "- Alinee el texto a la izquierda\n",
    "- Aplique un borde de 2px en color rojo\n",
    "- Aplique el mismo color para el texto que empleo en el elemento `h1`\n",
    "- Aplique el mismo tipo de letra que empleo en el elemento `h1`."
   ]
  },
  {
   "cell_type": "markdown",
   "id": "3cd7ab37-db3c-492e-adf5-4d7f468aceb4",
   "metadata": {},
   "source": [
    "### Puntos para 1002"
   ]
  },
  {
   "cell_type": "markdown",
   "id": "8e08a69e-2c4b-445a-908a-1025a2c13af2",
   "metadata": {},
   "source": [
    "#### No está permitido el uso de IA para el desarrollo de esta guía"
   ]
  },
  {
   "cell_type": "markdown",
   "id": "65349ea5-e224-49a5-8aaf-f27f702340e8",
   "metadata": {},
   "source": [
    "4. Modifique los siguientes elementos:\n",
    "- Título de la página: Guia Selectores\n",
    "- Titulo `h1`: Empleo de selectores\n",
    "- Agregue un espacio con la etiqueta `br`\n",
    "- Agregue la etiqueta `div`\n",
    "- Ahora agregue de nuevo la etiqueta `br`\n",
    "- Agregue dos veces mas la etiqueta `div` dejando `br` entre uno y otro"
   ]
  },
  {
   "cell_type": "markdown",
   "id": "97bdf4ce-ac81-4912-aa66-ced25f051ae8",
   "metadata": {},
   "source": [
    "El código en esa ultima parte deberia verse asi:"
   ]
  },
  {
   "cell_type": "markdown",
   "id": "ff1c5c85-c850-4ae3-a5a3-bba722e74fe4",
   "metadata": {},
   "source": [
    "![code1](code1.png)"
   ]
  },
  {
   "cell_type": "markdown",
   "id": "0f00a1b9-d4e1-47b5-941c-55240be246fe",
   "metadata": {},
   "source": [
    "5. Ahora ubiquese en la etiqueta de apertura del primer `div` y dentro de ella agregue: `id=\"div1\"`.\n",
    "6. Como texto dentro para el elemento escriba su nombre, debe quedar de la siguiente manera:"
   ]
  },
  {
   "cell_type": "markdown",
   "id": "f2c2860d-97ad-45c2-af8c-885e8add1265",
   "metadata": {},
   "source": [
    "![code2](code2.png)"
   ]
  },
  {
   "cell_type": "markdown",
   "id": "c1716e15-7bfe-45cc-958d-35b0cb0c2fb9",
   "metadata": {},
   "source": [
    "7. Para las siguientes etiquetas `div` agregue los identificadores `div2`  y `div3` respectivamente\n",
    "8. Dentro de ellas escriba los textos `curso 1002` y en el ultimo su edad."
   ]
  },
  {
   "cell_type": "markdown",
   "id": "f9f2d31b-1a8a-441c-8821-2dc3b8860137",
   "metadata": {},
   "source": [
    "#### Parte II: Configuración de los estilos"
   ]
  },
  {
   "cell_type": "markdown",
   "id": "c943df64-b2f6-4007-af0d-9292517a83fa",
   "metadata": {},
   "source": [
    "El haber asignado un identificador distinto a cada `div` permite aplicar estilos  de color y apariencia diferentes"
   ]
  },
  {
   "cell_type": "markdown",
   "id": "66473419-daa5-4e68-afca-5b325e0ccf38",
   "metadata": {},
   "source": [
    "1. Enlace el archivo `styles.css` dentro de la sección `head` del archivo `index.html`, escriba el comando `link:css`:"
   ]
  },
  {
   "cell_type": "markdown",
   "id": "82351613-9bc2-469e-804f-ec981fcf96d7",
   "metadata": {},
   "source": [
    "![code3](code3.png)"
   ]
  },
  {
   "cell_type": "markdown",
   "id": "b41c8ff5-5f50-4af1-aa09-de9d69b7010a",
   "metadata": {},
   "source": [
    "2. Ahora ubiquese en el archivo `styles.css`, cree el selector de elemento body escribiendo:"
   ]
  },
  {
   "cell_type": "markdown",
   "id": "1ca9b024-2fef-4d2a-8b59-a4f1742e3bfb",
   "metadata": {},
   "source": [
    "```\n",
    "body {\n",
    "\n",
    "}\n",
    "```"
   ]
  },
  {
   "cell_type": "markdown",
   "id": "b2a7f7e4-e620-4be7-9a60-2b6f164dba77",
   "metadata": {},
   "source": [
    "3. En medio de las llaves escriba la propiedad `background-color: ...` y seleccióne un color de su interes que no sea blanco o negro:"
   ]
  },
  {
   "cell_type": "markdown",
   "id": "ad885071-11e8-477b-b7b5-c5a6be8e9c39",
   "metadata": {},
   "source": [
    "![code4](code4.png)"
   ]
  },
  {
   "cell_type": "markdown",
   "id": "a3886fce-abef-4650-8df5-d4605ae50acc",
   "metadata": {},
   "source": [
    "4. De la misma forma, agregue un selector para el elemento `h1` con sus llaves `{}` y establezca un color de letra con la propiedad `color` y un tipo de fuente con la propiedad `font-family`.\n",
    "5. Ahora se configuran los elementos `div`, dado que tienen identificador se escribe el nombre asignado anteponiendo el signo `#`:"
   ]
  },
  {
   "cell_type": "markdown",
   "id": "77424b53-9d06-477e-b50c-604ca706fbc2",
   "metadata": {},
   "source": [
    "```\n",
    "#div1 {\n",
    "\n",
    "}\n",
    "```"
   ]
  },
  {
   "cell_type": "markdown",
   "id": "6a8f04d2-31d6-48b7-b75e-00418a747464",
   "metadata": {},
   "source": [
    "6. Dentro de las llaves agregue las siguientes propiedades:"
   ]
  },
  {
   "cell_type": "markdown",
   "id": "8749c995-9073-4166-9f80-d0904bf44a56",
   "metadata": {},
   "source": [
    "- width: 300px; (esta propiedad determina el ancho del elemento)\n",
    "- height: 300px; (esta propiedad determina el alto del elemento)\n",
    "- background-color: (seleccione un color diferente al del body y al de la letra que escogio anteriormente.\n",
    "- text-align: center; (esta propiedad centra el texto)\n",
    "- border: 2px solid black; (se agrega un borde de 2 pixeles de grosor en color negro)"
   ]
  },
  {
   "cell_type": "markdown",
   "id": "d4547172-b034-407d-b50f-5b04695365ef",
   "metadata": {},
   "source": [
    "El codigo deberia verse asi:"
   ]
  },
  {
   "cell_type": "markdown",
   "id": "68ffc64b-9800-4888-9164-c812e2d26602",
   "metadata": {},
   "source": [
    "![code5](code5.png)"
   ]
  },
  {
   "cell_type": "markdown",
   "id": "abb9338e-76b7-4faf-a40d-263cea13e4e7",
   "metadata": {},
   "source": [
    "7. Ahora cree el selector para el `div2` y agregue los siguientes estilos:"
   ]
  },
  {
   "cell_type": "markdown",
   "id": "8f895a84-1310-41e0-b9e7-149bcfbb0506",
   "metadata": {},
   "source": [
    "- Ancho de 300 y 120 pixeles; \n",
    "- Un color de fondo de su elección puede ser el mismo empleado en el `div1`\n",
    "- Alinee el texto a la izquierda\n",
    "- Aplique un borde de 1px en color azul\n",
    "- Aplique el mismo color para el texto que empleo en el elemento `h1`"
   ]
  },
  {
   "cell_type": "markdown",
   "id": "d6442e62-122d-4f28-84bb-21d8449a05b2",
   "metadata": {},
   "source": [
    "8. Para el `div3`, agregue los siguientes estilos:"
   ]
  },
  {
   "cell_type": "markdown",
   "id": "52b75b2d-2de3-438d-b5f1-47d55ab20346",
   "metadata": {},
   "source": [
    "- Ancho de 250 y alto 180 pixeles; \n",
    "- Un color de fondo de su elección puede ser el mismo empleado en el `div1`\n",
    "- Alinee el texto a la derecha\n",
    "- Aplique un borde de 3px en color azul\n",
    "- Aplique el mismo color para el texto que empleo en el elemento `h1`"
   ]
  },
  {
   "cell_type": "markdown",
   "id": "fd273dd9-1702-421d-b5d6-970e64e3785f",
   "metadata": {},
   "source": [
    "9. En el archivo `index.html` agregue un espacio y un nuevo elemento `div` identificado como `div4`.\n",
    "10. Dentro escriba el texto `Guía de aprendizaje autónomo`\n",
    "11. Finalmente configure los siguientes estilos para este nuevo elemento asi:"
   ]
  },
  {
   "cell_type": "markdown",
   "id": "af5589ef-4a5c-4232-9b63-2de83b8fa3f4",
   "metadata": {},
   "source": [
    "- Ancho de 280 y alto 100 pixeles; \n",
    "- Un color de fondo de su elección puede ser el mismo empleado en el `div1`\n",
    "- Alinee el texto al centro\n",
    "- Aplique un borde de 2px en color gris\n",
    "- Aplique el mismo color para el texto que empleo en el elemento `h1`\n",
    "- Aplique el mismo tipo de letra que empleo en el elemento `h1`."
   ]
  }
 ],
 "metadata": {
  "kernelspec": {
   "display_name": "Python 3 (ipykernel)",
   "language": "python",
   "name": "python3"
  },
  "language_info": {
   "codemirror_mode": {
    "name": "ipython",
    "version": 3
   },
   "file_extension": ".py",
   "mimetype": "text/x-python",
   "name": "python",
   "nbconvert_exporter": "python",
   "pygments_lexer": "ipython3",
   "version": "3.12.1"
  }
 },
 "nbformat": 4,
 "nbformat_minor": 5
}
