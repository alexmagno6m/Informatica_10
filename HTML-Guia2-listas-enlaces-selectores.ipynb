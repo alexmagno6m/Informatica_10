{
 "cells": [
  {
   "cell_type": "markdown",
   "id": "3dfcb3c0-e00c-4b40-9147-d7f367809955",
   "metadata": {},
   "source": [
    "# Guía 2 - HTML: Listas y enlaces con sus estilos en CSS"
   ]
  },
  {
   "cell_type": "markdown",
   "id": "3dd7f471-8cab-401d-87fd-f83dce9e4c3d",
   "metadata": {},
   "source": [
    "- Profesor: __Alexander Acecedo Gómez__\n",
    "- Ingeniero de sistemas\n",
    "- __Magister en Modelado y Simulación__\n",
    "- @Alex6m"
   ]
  },
  {
   "cell_type": "markdown",
   "id": "0c7abf16-f5db-4cc4-b3dc-a3d69689a5d2",
   "metadata": {},
   "source": [
    "## Listas sin ordenar"
   ]
  },
  {
   "cell_type": "markdown",
   "id": "b1a6acec-582f-410a-887a-9ba459836722",
   "metadata": {},
   "source": [
    "Muestran un conjunto de items con un decorador (viñeta) en el inicio de cada uno de ellos. Las listas sin ordenar inician con la etiqueta ```ul``` (unordered list)."
   ]
  },
  {
   "cell_type": "markdown",
   "id": "6fde7547-b5e8-4b0f-b640-e093adccd961",
   "metadata": {},
   "source": [
    "```\n",
    "<h1>Lista de Libros de la Literatura Universal</h1>\n",
    "<ul>\n",
    "    <li>Don Quijote de la Mancha - Miguel de Cervantes</li>\n",
    "    <li>La Odisea - Homero</li>\n",
    "    <li>Cien Años de Soledad - Gabriel García Márquez</li>\n",
    "    <li>Orgullo y Prejuicio - Jane Austen</li>\n",
    "    <li>Crimen y Castigo - Fiódor Dostoyevski</li>\n",
    "</ul>\n",
    "```"
   ]
  },
  {
   "cell_type": "markdown",
   "id": "8f3b60d8-276e-432a-8f04-3c825e0404ef",
   "metadata": {},
   "source": [
    "## Decoradores de viñetas - estilos CSS"
   ]
  },
  {
   "cell_type": "markdown",
   "id": "8816cccc-4189-45ab-96fc-b14d7ff51413",
   "metadata": {},
   "source": [
    "El punto o viñeta que se muestra al inicio de cada item recibe el nombre de decorador, existen varias clases de decoradores que pueden ser cambiados con propiedades CSS. Estos son algunos de los valores de decoradores que se pueden usar:"
   ]
  },
  {
   "cell_type": "markdown",
   "id": "4d91d991-3cc1-4279-b510-4978f627dd8e",
   "metadata": {},
   "source": [
    ">\n",
    ">1.\t`disc`: Círculos sólidos (por defecto).\n",
    ">2.\t`circle`: Círculos vacíos.\n",
    ">3.\t`quare`: Cuadrados sólidos.\n",
    ">4.\t`decimal`: Números.\n",
    ">5.\t`lower roman`: Números romanos en minúsculas.\n",
    ">6.\t`upper roman`: Números romanos en mayúsculas.\n",
    ">7.\t`lower alpha`: Letras en minúsculas.\n",
    ">8.\t`upper alpha`: Letras en mayúsculas."
   ]
  },
  {
   "cell_type": "markdown",
   "id": "a7ef4357-abc8-4c60-af8a-938039f3a22c",
   "metadata": {},
   "source": [
    "En CSS operamos sobre la propiedad ```list-style-type```, por ejemplo, para cambiar a un cuadro sólido agregamos el valor: "
   ]
  },
  {
   "cell_type": "markdown",
   "id": "0e78ed0e-54ad-4822-ae71-7f2fb06d0811",
   "metadata": {},
   "source": [
    "```\n",
    "list-style-type: square\n",
    "```"
   ]
  },
  {
   "cell_type": "markdown",
   "id": "aaddd2b4-d31c-4078-b111-6367a74c1b19",
   "metadata": {},
   "source": [
    "## Selectores de CSS por ID"
   ]
  },
  {
   "cell_type": "markdown",
   "id": "12bac829-bc36-421c-854a-cf751d16db96",
   "metadata": {},
   "source": [
    "En las páginas web complejas, necesitamos indicar selectores para aplicar estilos diferentes a la misma categoría de etiquetas, por ejemplo, si tenemos varios elementos `h1` y necesitamos en uno de ellos aplicar un color especifico sin que se afecten los demás. "
   ]
  },
  {
   "cell_type": "markdown",
   "id": "855725d1-aa28-483c-9a50-42c69fb5a2f6",
   "metadata": {},
   "source": [
    "La siguiente lista es tambien de tipo `ul` como la ubicada al inicio, sin embargo, requerimos indicar un color especifico valido unicamente para esta:"
   ]
  },
  {
   "cell_type": "markdown",
   "id": "d53325f6-b970-41bc-8ecc-4fc1369f0d84",
   "metadata": {},
   "source": [
    "```\n",
    "<h1>Deportes Olímpicos</h1>\n",
    "    <ul>\n",
    "        <li>Atletismo</li>\n",
    "        <li>Natación</li>\n",
    "        <li>Gimnasia</li>\n",
    "        <li>Baloncesto</li>\n",
    "        <li>Ciclismo</li>\n",
    "    </ul>\n",
    "```"
   ]
  },
  {
   "cell_type": "markdown",
   "id": "b6ca3194-5e22-481d-8ed9-c87835ccb893",
   "metadata": {},
   "source": [
    "Para emplear un selector por ID se agrega el atributo en minusculas y se le asigna un nombre entre comillas y sin espacios:"
   ]
  },
  {
   "cell_type": "markdown",
   "id": "efd4d265-fe74-48bd-ad08-84bdb86ef002",
   "metadata": {},
   "source": [
    "Ahora agregamos el identificador `lista-deportes` dentro de la etiqueta ```ul```:"
   ]
  },
  {
   "cell_type": "markdown",
   "id": "c3cd7d96-0e7b-4f42-9321-faf6d420f767",
   "metadata": {},
   "source": [
    "```\n",
    "<div id=\"lista-deportes\">\n",
    "```"
   ]
  },
  {
   "cell_type": "markdown",
   "id": "0e0a60bc-e13e-4df9-a836-d13ff5124ed4",
   "metadata": {},
   "source": [
    "> Con esto logramos diferenciar esta lista de la anterior"
   ]
  },
  {
   "cell_type": "markdown",
   "id": "36f19015-d722-46ae-846e-c5d32282608e",
   "metadata": {},
   "source": [
    "### Estilos CSS con selector ID"
   ]
  },
  {
   "cell_type": "markdown",
   "id": "0a422d72-1d00-4606-bdf3-25512f0595d6",
   "metadata": {},
   "source": [
    "Para aplicar estilos en especifico en esta lista en lugar de invocar a la etiqueta, se llama al __id__ empleando el signo ```#``` seguido del nombre sin dejar espacios:"
   ]
  },
  {
   "cell_type": "markdown",
   "id": "ba136f48-08a9-4ff6-a2e2-c7d50e29bd0e",
   "metadata": {},
   "source": [
    "```\n",
    "#lista-deportes {\n",
    "     ...\n",
    "}\n",
    "```"
   ]
  },
  {
   "cell_type": "markdown",
   "id": "423fedef-1640-4c2d-90bf-8432131ef039",
   "metadata": {},
   "source": [
    "Si la etiqueta padre tiene etiquetas hijas como ```li``` y queremos aplicar estilos unicamente a los estilos de la ```lista-deportes``` se usa el selector mas el nombre de la etiqueta hija:"
   ]
  },
  {
   "cell_type": "markdown",
   "id": "32fbaf9e-4aee-4d7c-a6cb-77bf0ff399c0",
   "metadata": {},
   "source": [
    "```\n",
    "#lista-deportes li {\n",
    "     ...\n",
    "}\n",
    "```"
   ]
  },
  {
   "cell_type": "markdown",
   "id": "a270e88a-bba9-44dd-b2c4-e54c7f1e0426",
   "metadata": {},
   "source": [
    "### Ejercicio 1"
   ]
  },
  {
   "cell_type": "markdown",
   "id": "4dbbc18b-84cc-4081-a492-1a3fe8b0a087",
   "metadata": {},
   "source": [
    "En el mismo archivo y debajo del codigo empleado, realice lo siguiente:\n",
    "1. Agregue un titulo ```h1``` con el texto ```Mis lugares preferidos```\n",
    "2. Cree una lista sin ordenar con 5 lugares de su interes (que ha visitado o le gustaria visitar en algun momento) con un id valido\n",
    "3. Ahora en CSS cambie el estilo solo a esa lista en especifico, agregando:\n",
    "   - Decorador: circulos vacios (vea la sección _decoradores de viñetas_ al inicio de la guía)\n",
    "   - Un color a los items diferente (vea la última parte de la sección _estilos css con selector id_)\n",
    "   - Un estilo de fuente\n",
    "4. Aplique al titulo `Mis lugares preferidos` los siguientes estilos diferentes (sin que se afecten los demás elementos `h1` que haya en el archivo):\n",
    "   - Un color de texto\n",
    "   - Tipo de letra"
   ]
  },
  {
   "cell_type": "markdown",
   "id": "7495502c-195f-4913-9b5f-f6eec617badf",
   "metadata": {},
   "source": [
    "### Obtención del sello"
   ]
  },
  {
   "cell_type": "markdown",
   "id": "c996e0f8-2ced-45c6-a235-24147d72b591",
   "metadata": {},
   "source": [
    "Copie en su cuaderno"
   ]
  },
  {
   "cell_type": "markdown",
   "id": "340e6dee-e2c3-4546-b6c4-5d8b9c0715b2",
   "metadata": {},
   "source": [
    "> 1. Competencia: 2\n",
    "> 2. Ámbito conceptual: Diseño web\n",
    "> 3. Objetivo: Aplicar estilos diferenciados mediante el empleo de selectores de ID en diferentes etiquetas.\n",
    "> 4. Nombre de la actividad: Empleo de selectores ID"
   ]
  },
  {
   "cell_type": "markdown",
   "id": "151ddaca-2a7a-4b72-ac39-915d7f2d5cb8",
   "metadata": {},
   "source": [
    "## Listas Ordenadas"
   ]
  },
  {
   "cell_type": "markdown",
   "id": "7b5d0917-54eb-491d-a1f3-39d4a59b8167",
   "metadata": {},
   "source": [
    "Son listas que emplean una numeración o algun tipo de jerarquia ordinal para los items, se crean empleando la etiqueta ```ol``` (ordered list), las etiquetas hijas son las mismas que se emplean en una lista sin ordenar."
   ]
  },
  {
   "cell_type": "markdown",
   "id": "97242e04-dadd-4ae5-bee7-4dc8c92bcc0d",
   "metadata": {},
   "source": [
    "```\n",
    "    <h1>Principales Destinos Turísticos de Europa</h1>\n",
    "    <ol id=\"destinos-turisticos\">\n",
    "        <li>París, Francia</li>\n",
    "        <li>Roma, Italia</li>\n",
    "        <li>Londres, Reino Unido</li>\n",
    "        <li>Barcelona, España</li>\n",
    "        <li>Ámsterdam, Países Bajos</li>\n",
    "    </ol>\n",
    "```"
   ]
  },
  {
   "cell_type": "markdown",
   "id": "024a95ce-730c-47d3-bc2b-e70200d02e02",
   "metadata": {},
   "source": [
    "### Estilos CSS"
   ]
  },
  {
   "cell_type": "markdown",
   "id": "665a45ef-59fb-40e2-b2c3-f7d02a35d4ba",
   "metadata": {},
   "source": [
    "El estilo predefinido emplea numeros arabigos ordinales, sin embargo, el valor del item se puede cambiar por letras empleando la misma propiedad ```list-style-type```:"
   ]
  },
  {
   "cell_type": "markdown",
   "id": "8de683f9-2e11-4791-8f0d-7e4c313d200f",
   "metadata": {},
   "source": [
    "```\n",
    "#destinos-turisticos {\n",
    "            list-style-type: lower-alpha;\n",
    "        }\n",
    "```"
   ]
  },
  {
   "cell_type": "markdown",
   "id": "3da3d648-c6d2-4115-82da-990dcf54f65e",
   "metadata": {},
   "source": [
    "Las demas propiedades de estilos CSS proceden de la misma manera que con las listas sin ordenar"
   ]
  },
  {
   "cell_type": "markdown",
   "id": "4fc8aa26-4dca-4590-be36-9e1de8b0efda",
   "metadata": {},
   "source": [
    "### Ejercicio 2"
   ]
  },
  {
   "cell_type": "markdown",
   "id": "a074c525-4251-4c40-b68e-491d05ed5c3e",
   "metadata": {},
   "source": [
    "En la misma carpeta, cree un nuevo archivo llamado ```estilos_listas.html``` y realice lo siguiente:"
   ]
  },
  {
   "cell_type": "markdown",
   "id": "850fad16-6a22-4134-878f-5f130dec9a36",
   "metadata": {},
   "source": [
    "1. Agregue como titulo de encabezado: ```Estilos con selector ID en listas ordenadas```.\n",
    "2. Cree un nuevo archivo dentro de la carpeta ```styles``` llamado ```styles2.css```\n",
    "3. Ahora en su archivo HTML, Vincule su documento a ese archivo CSS\n",
    "4. De nuevo en el archivo HTML, agregue un titulo ```h1``` con el texto: ```Mis 5 hobbies preferidos```\n",
    "5. Cree una lista ordenada con 5 actividades que le guste hacer en su tiempo libre\n",
    "6. Agregue el titulo ```h1``` con el texto: ```Las cosas que no me gustan```\n",
    "7. Cree una lista ordenada con 3 cosas, actitudes o acciones que no le gusten\n",
    "8. Agregue los siguientes estilos:\n",
    "   - Color de fondo a la pagina\n",
    "   - Color diferente a cada texto ```h1``` debe emplear identificadores\n",
    "   - Reemplace en la primera lista los numeros por letras mayusculas\n",
    "   - Reemplace en la segunda lista los numeros arabigos por romanos en minusculas\n",
    "   - Agregue un color al texto de la segunda lista"
   ]
  },
  {
   "cell_type": "markdown",
   "id": "a9b31984-3e00-42d1-855b-cb31be73a756",
   "metadata": {},
   "source": [
    "### Obtencion del sello"
   ]
  },
  {
   "cell_type": "markdown",
   "id": "bf80cab7-1828-4c68-abd9-a86ea732d2d4",
   "metadata": {},
   "source": [
    "Copie en su cuaderno:"
   ]
  },
  {
   "cell_type": "markdown",
   "id": "c7462188-6f93-4eb7-93fc-acd9f82f011b",
   "metadata": {},
   "source": [
    "> 1. Competencia: 2\n",
    "> 2. Ámbito conceptual: Diseño web\n",
    "> 3. Objetivo: Aplicar correctamente identificadores para la asignación de estilos a una página web básica\n",
    "> 4. Nombre de la actividad: Empleo de selectores ID"
   ]
  }
 ],
 "metadata": {
  "kernelspec": {
   "display_name": "Python 3 (ipykernel)",
   "language": "python",
   "name": "python3"
  },
  "language_info": {
   "codemirror_mode": {
    "name": "ipython",
    "version": 3
   },
   "file_extension": ".py",
   "mimetype": "text/x-python",
   "name": "python",
   "nbconvert_exporter": "python",
   "pygments_lexer": "ipython3",
   "version": "3.9.4"
  }
 },
 "nbformat": 4,
 "nbformat_minor": 5
}
