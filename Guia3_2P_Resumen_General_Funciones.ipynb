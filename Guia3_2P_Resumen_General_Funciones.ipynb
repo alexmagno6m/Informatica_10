{
 "cells": [
  {
   "cell_type": "markdown",
   "id": "ff7ebac1",
   "metadata": {},
   "source": [
    "__Profesor__: Alexander Acevedo Gomez <br>\n",
    "__Grado__: Decimo\n",
    "__GUIA 3 SEGUNDO PERIODO__\n",
    "### Competencia para esta guia\n",
    "> - Emplea inteligentemente elementos de formato en una selección de celdas que permitan la identificación de un dato sujeto a unas condiciones.\n",
    "> - Establece asertivamente y comprueba condiciones de formato para una serie de datos que permitan solucionar un problema de contexto\n",
    "> - Selecciona adecuadamente el elemento de formato más apropiado dada las características de los datos según el caso de estudio."
   ]
  },
  {
   "cell_type": "markdown",
   "id": "e5c40a70",
   "metadata": {},
   "source": [
    "# Ejercicio\n",
    "En los juegos olímpicos el organizador de las competencias de baloncesto obtiene los siguientes datos de las alturas de los jugadores por países:"
   ]
  },
  {
   "cell_type": "markdown",
   "id": "447e8da8",
   "metadata": {},
   "source": [
    "> | Posición/País | EEUU | China | España | Italia | Rusia | Australia | Lituania | Croacia |\n",
    "|---------------|------|-------|--------|--------|-------|-----------|----------|---------|\n",
    "| Base          | 1.95 | 1.97  | 1.95   | 1.89   | 1.95  | 1.95      | 1.84     | 1.94    |\n",
    "| Escolta       | 1.98 | 1.94  | 1.96   | 1.94   | 1.96  | 1.96      | 1.93     | 1.98    |\n",
    "| Alero         | 2.10 | 1.99  | 2.01   | 1.98   | 2.08  | 1.98      | 1.87     | 1.96    |\n",
    "| Ala-Pivot     | 2.02 | 2.05  | 1.98   | 1.97   | 2.01  | 1.97      | 1.98     | 1.97    |\n",
    "| Pivot         | 2.01 | 2.00  | 2.10   | 1.96   | 1.99  | 1.95      | 2.00     | 1.99    |"
   ]
  },
  {
   "cell_type": "markdown",
   "id": "1951c3e0",
   "metadata": {},
   "source": [
    "El organizador quiere que usted en Excel la ayude con lo siguiente:\n",
    "1. Agregando una FILA llamada TOTAL que sume la estatura de cada uno de los países. (Función autosuma)\n",
    "2. Agregando una COLUMNA llamada TOTAL que sume la estatura de cada posición para todos los países. \n",
    "3. Agregando una FILA llamada PROMEDIO que halle el PROMEDIO de estatura de cada país.\n",
    "4. Agregando una FILA llamada PORCENTAJES (A8) donde deberá escribir a partir de B8 y hacia la derecha nuevamente los nombres de todos los países.\n",
    "5. Agregando una fila llamada PORCENTAJE BASE que halle el porcentaje que le corresponde a esta estatura para cada país. (Un porcentaje resulta de multiplicar cada dato por 100 dividido entre el total de ese grupo de datos)\n",
    "6. Agregar 4 FILAS MÁS con el porcentaje correspondiente a cada una de las posiciones que faltan (es decir Promedio Escolta, Promedio Alero, etc).\n",
    "7. Agregar una FILA llamada TOTAL PORCENTAJE  (A15) que sume cada uno de los datos obtenidos en los puntos 4 y 5 cuyo resultado debe ser 100.\n",
    "8. Agregar una COLUMNA llamada PROMEDIO POR POSICIÓN que halle el PROMEDIO de cada posición para todos los países.\n",
    "9. Agregar una COLUMNA llamada CONTAR 1.96 que cuente cuántas de estas estaturas hay en la posición ESCOLTA (insertar – Función – estadísticas – CONTAR.SI)\n",
    "10. Agregue un Formato Condicional que establezca un color para los datos superiores a 1.97 y un color diferente para el resto de datos. \n",
    "11. Agregar una FILA llamada CONCEPTO PROMEDIO que para los datos obtenidos en el punto 3 utilizando una función lógica SI agregue “Buen Promedio” si éste es superior a 1.950 y en caso contrario “Promedio Normal”\n",
    "12. Agregar una fila llamada CONTAR y en la celda de la derecha (B18) escribir: RESULTADO\n",
    "13. Agregar una fila llamada 1.95 que cuente entre TODOS los datos de las estaturas este valor y cuyo resultado aparezca al frente\n",
    "14. Repita el procedimiento del punto 13 pero con los valores 1.97, 1.98, 1.99, 2.00 y 2.01 (una fila nueva para cada dato)\n"
   ]
  }
 ],
 "metadata": {
  "kernelspec": {
   "display_name": "Python 3 (ipykernel)",
   "language": "python",
   "name": "python3"
  },
  "language_info": {
   "codemirror_mode": {
    "name": "ipython",
    "version": 3
   },
   "file_extension": ".py",
   "mimetype": "text/x-python",
   "name": "python",
   "nbconvert_exporter": "python",
   "pygments_lexer": "ipython3",
   "version": "3.9.4"
  },
  "toc": {
   "base_numbering": 1,
   "nav_menu": {},
   "number_sections": true,
   "sideBar": true,
   "skip_h1_title": false,
   "title_cell": "Table of Contents",
   "title_sidebar": "Contents",
   "toc_cell": false,
   "toc_position": {},
   "toc_section_display": true,
   "toc_window_display": false
  }
 },
 "nbformat": 4,
 "nbformat_minor": 5
}
