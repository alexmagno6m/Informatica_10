{
 "cells": [
  {
   "cell_type": "markdown",
   "id": "aac81c55-b65e-44a0-8f9e-b2ace58aedf0",
   "metadata": {},
   "source": [
    "# Nivelacion Informatica"
   ]
  },
  {
   "cell_type": "markdown",
   "id": "7c10932e-f225-4beb-9fd7-7e6976d92694",
   "metadata": {},
   "source": [
    "## Tema: Funciones estadisticas"
   ]
  },
  {
   "cell_type": "markdown",
   "id": "462856d4-b75e-41bc-aaf5-5c64b0751270",
   "metadata": {},
   "source": [
    "Una tienda de artículos deportivos, Deportes Al Límite, necesita analizar las ventas de los últimos tres meses para tomar decisiones estratégicas. La tienda te ha proporcionado una tabla con los datos de sus ventas, que incluyen:\n",
    "\n",
    "\t•\tProducto: El nombre del artículo vendido.\n",
    "\t•\tCategoría: El tipo de artículo (Zapatos, Ropa, Accesorios).\n",
    "\t•\tMes: El mes de la venta.\n",
    "\t•\tCantidad Vendida: Número de unidades vendidas.\n",
    "\t•\tPrecio Unitario: Precio por unidad de cada artículo.\n",
    "\t•\tIngresos Totales: Cantidad Vendida * Precio Unitario (esta columna se calcula en Excel)."
   ]
  },
  {
   "cell_type": "markdown",
   "id": "9da27a1f-67b8-4fc5-a9ef-5954b4ab7ad8",
   "metadata": {},
   "source": [
    "Datos:"
   ]
  },
  {
   "cell_type": "markdown",
   "id": "37eb5523-0344-44a0-9183-3a4201389012",
   "metadata": {},
   "source": [
    "| Producto        | Categoría  | Mes     | Cantidad Vendida | Precio Unitario | Ingresos Totales |\n",
    "|-----------------|------------|---------|------------------|-----------------|------------------|\n",
    "| Zapatillas Pro  | Zapatos    | Enero   | 15               | 60              |                  |\n",
    "| Camiseta Sport  | Ropa       | Febrero | 25               | 25              |                  |\n",
    "| Gorra Ligera    | Accesorios | Enero   | 30               | 10              |                  |\n",
    "| Zapatillas Pro  | Zapatos    | Marzo   | 20               | 60              |                  |\n",
    "| Shorts Runner   | Ropa       | Enero   | 10               | 30              |                  |\n",
    "| Mochila Trail   | Accesorios | Marzo   | 12               | 45              |                  |\n",
    "| Calcetines Grip | Accesorios | Febrero | 40               | 5               |                  |\n",
    "| Chaqueta Wind   | Ropa       | Marzo   | 8                | 80              |                  |"
   ]
  },
  {
   "cell_type": "markdown",
   "id": "146342bc-7740-4f9e-a9b7-f939244938a7",
   "metadata": {},
   "source": [
    "1. Calcular los ingresos totales\n",
    "Utiliza una fórmula para calcular los Ingresos Totales de cada artículo y completa la columna correspondiente.\n",
    "2. Aplicar funciones de análisis:\n",
    "- Usa CONTAR.SI para determinar cuántos productos se vendieron en cada categoría.\n",
    "- Usa PROMEDIO.SI para calcular el precio promedio de los productos vendidos en cada categoría.\n",
    "- Usa SUMAR.SI para encontrar los ingresos totales por categoría.\n",
    "- Usa PROMEDIO para calcular el promedio de las unidades vendidas de todos los productos.\n",
    "3. Preguntas adicionales:\n",
    "- ¿Cuál fue la categoría que generó más ingresos totales?\n",
    "- ¿Cuál es el producto con el precio unitario más alto en la tabla?"
   ]
  },
  {
   "cell_type": "markdown",
   "id": "db859970-80f8-4799-a272-01d278fae541",
   "metadata": {},
   "source": [
    "## Tema: Funciones SI simples y anidadas"
   ]
  },
  {
   "cell_type": "markdown",
   "id": "ad1a3016-f80f-41d9-b57f-f9a15cdb1e82",
   "metadata": {},
   "source": [
    "La empresa ElectroHogar, dedicada a la venta de electrodomésticos, quiere analizar las ventas del último trimestre para evaluar cuáles productos han sido más rentables y ofrecer descuentos en los productos menos vendidos. Además, necesitan clasificar los artículos según su desempeño en ventas y determinar el rango de ingresos que generaron.\n",
    "\n",
    "La tabla de datos incluye:\n",
    "\n",
    "- Producto: Nombre del electrodoméstico.\n",
    "- Categoría: Tipo de producto (Refrigerador, Microondas, Lavadora).\n",
    "- Unidades Vendidas: Cantidad total de unidades vendidas.\n",
    "- Precio Unitario: Precio por unidad de cada producto.\n",
    "- Ingresos Totales: Calculado como Unidades Vendidas * Precio Unitario.\n",
    "- Clasificación de Ventas: Utilizando funciones lógicas para clasificar los productos según las unidades vendidas.\n",
    "- Rango de Ingresos: Usando funciones lógicas para determinar si los ingresos están en un rango bajo, medio o alto."
   ]
  },
  {
   "cell_type": "markdown",
   "id": "13bf4419-0078-426d-8944-5d931081afd9",
   "metadata": {},
   "source": [
    "| Producto          | Categoría      | Unidades Vendidas | Precio Unitario | Ingresos Totales | Clasificación de Ventas | Rango de Ingresos |\n",
    "|-------------------|----------------|-------------------|-----------------|------------------|--------------------------|--------------------|\n",
    "| Refrigerador Pro  | Refrigerador   | 8                 | 800             |                  |                          |                    |\n",
    "| Microondas Rapid  | Microondas     | 20                | 150             |                  |                          |                    |\n",
    "| Lavadora Eco      | Lavadora       | 5                 | 600             |                  |                          |                    |\n",
    "| Microondas Smart  | Microondas     | 15                | 200             |                  |                          |                    |\n",
    "| Refrigerador Cool | Refrigerador   | 10                | 900             |                  |                          |                    |\n",
    "| Lavadora Turbo    | Lavadora       | 3                 | 1000            |                  |                          |                    |"
   ]
  },
  {
   "cell_type": "markdown",
   "id": "be90a3f4-450f-40a4-800e-59243d50458f",
   "metadata": {},
   "source": [
    "Resuelva\n",
    "\n",
    "1. Calcular los ingresos totales:\n",
    "- Usa una fórmula para calcular los Ingresos Totales y completa la columna correspondiente.\n",
    "2. Clasificar las ventas según unidades vendidas:\n",
    "- Usa una función SI para asignar la clasificación:\n",
    "- “Alta” si las unidades vendidas son mayores o iguales a 15.\n",
    "- “Media” si las unidades vendidas están entre 8 y 14.\n",
    "- “Baja” si las unidades vendidas son menores a 8.\n",
    "3. Determinar el rango de ingresos:\n",
    "- Usa una función SI anidada para asignar el rango de ingresos:\n",
    "- “Bajo” si los ingresos totales son menores a 2,000.\n",
    "- “Medio” si los ingresos totales están entre 2,000 y 6,000.\n",
    "- “Alto” si los ingresos totales son mayores a 6,000.\n",
    "4. Preguntas adicionales:\n",
    "- ¿Qué porcentaje de los productos tiene una clasificación de ventas “Alta”?\n",
    "- ¿Cuál es el rango de ingresos más frecuente en esta tabla?"
   ]
  },
  {
   "cell_type": "markdown",
   "id": "39d2a745-3f39-40b8-9c13-1507d92f62be",
   "metadata": {},
   "source": [
    "## Tema 3: HTML Listas Ordenadas y Sin Ordenar"
   ]
  },
  {
   "cell_type": "markdown",
   "id": "033308a7-0695-4437-b201-8b423acb3704",
   "metadata": {},
   "source": [
    "Debe crear una página web sencilla para un restaurante que muestra el menú del día y las especialidades de la casa. El objetivo es practicar el uso de etiquetas HTML básicas, incluir estilos CSS simples y trabajar con listas ordenadas y desordenadas.\n",
    "\n",
    "Instrucciones\n",
    "1. Estructura de la página:\n",
    "Crea un archivo HTML llamado index.html con la siguiente estructura básica:\n",
    "- Título de la página: “Restaurante Sabor Gourmet”.\n",
    "- Encabezado principal ```h1```: “Menú del Día”.\n",
    "- Una lista desordenada para las especialidades de la casa.\n",
    "- Una lista ordenada para el menú del día.\n",
    "2. Estilos CSS:\n",
    "Crea un archivo CSS llamado styles.css con los siguientes estilos:\n",
    "- Cambia el color de fondo de la página a un tono pastel suave.\n",
    "- Aplica una fuente sans-serif a todo el texto.\n",
    "- Estiliza las listas para que tengan colores diferentes:\n",
    "- La lista desordenada debe tener viñetas personalizadas y márgenes internos.\n",
    "- La lista ordenada debe tener números estilizados y un espacio adicional entre elementos.\n"
   ]
  },
  {
   "cell_type": "markdown",
   "id": "70f57ef6-fc46-42ab-9655-d023540b5a9f",
   "metadata": {},
   "source": [
    "## Tema 4: Tablas Web"
   ]
  },
  {
   "cell_type": "markdown",
   "id": "8d11e206-0e4c-4342-a583-6a081a85795f",
   "metadata": {},
   "source": [
    "Debe replicar una tabla que muestra el horario semanal de clases de un estudiante, utilizando las etiquetas básicas de HTML para crear tablas.\n",
    "\n",
    "Instrucciones\n",
    "\n",
    "1. Objetivo:\n",
    "- Crear una tabla que incluya filas y columnas para mostrar un horario de clases.\n",
    "- Usar las etiquetas de tabla básicas: ```<table>, <tr>, <th>, <td>.```\n",
    "- Aplicar un estilo básico utilizando atributos de HTML o una hoja de estilo CSS externa.\n",
    "2. Contenido de la tabla:\n",
    "- La tabla debe tener:\n",
    "- Un encabezado con los días de la semana.\n",
    "- Filas que muestren las materias por cada horario.\n",
    "- Un total de 3 filas para los horarios y una fila adicional para el encabezado.\n",
    "3. Tabla a replicar:"
   ]
  },
  {
   "cell_type": "markdown",
   "id": "67b67307-24a2-48f0-972c-3e7616c32e2b",
   "metadata": {},
   "source": [
    "| Horario      | Lunes          | Martes       | Miércoles    | Jueves       | Viernes          |\n",
    "|--------------|----------------|--------------|--------------|--------------|------------------|\n",
    "| 8:00 - 9:00  | Matemáticas    | Inglés       | Ciencias     | Historia     | Educación Física |\n",
    "| 9:00 - 10:00 | Inglés         | Ciencias     | Historia     | Matemáticas  | Arte             |\n",
    "| 10:00 - 11:00| Ciencias       | Historia     | Matemáticas  | Inglés       | Música           |"
   ]
  },
  {
   "cell_type": "markdown",
   "id": "8f475cb6-cb07-45db-8c65-a5c3065b518b",
   "metadata": {},
   "source": [
    "# Nivelacion\n",
    "1. Objetivo: Aprobar la nivelación final de informatica segun el tema asignado de acuerdo al proceso y ambitos conceptuales evaluados durante el año."
   ]
  }
 ],
 "metadata": {
  "kernelspec": {
   "display_name": "Python 3 (ipykernel)",
   "language": "python",
   "name": "python3"
  },
  "language_info": {
   "codemirror_mode": {
    "name": "ipython",
    "version": 3
   },
   "file_extension": ".py",
   "mimetype": "text/x-python",
   "name": "python",
   "nbconvert_exporter": "python",
   "pygments_lexer": "ipython3",
   "version": "3.9.4"
  }
 },
 "nbformat": 4,
 "nbformat_minor": 5
}
