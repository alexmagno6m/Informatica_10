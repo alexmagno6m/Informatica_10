{
 "cells": [
  {
   "cell_type": "markdown",
   "id": "19eea8b1-605d-4a0a-b249-80f3a9c2c210",
   "metadata": {},
   "source": [
    "__Profesor: Alexander Acevedo Gómez__"
   ]
  },
  {
   "cell_type": "markdown",
   "id": "3b441020-6a50-4aab-bd3e-2af2e25aa338",
   "metadata": {},
   "source": [
    "# Flexbox o Display Flex (Técnicas de cajas flexibles)"
   ]
  },
  {
   "cell_type": "markdown",
   "id": "24513466-6c6c-4afc-86a2-4f1f10483733",
   "metadata": {},
   "source": [
    "Permite distribuir items HTML, generalente contenedores DIV, de diferentes formas posibilitando la creación  de diversos layouts (diseños), dependiendo de las necesidades del cliente, la pantalla de visualización (diferentes dispositivos) o las características propias del proyecto."
   ]
  },
  {
   "cell_type": "markdown",
   "id": "78a5d171-6dd3-43a5-9a18-2bc463cf2cbb",
   "metadata": {},
   "source": [
    "> La mayor parte de las imágenes de apoyo fueron tomadas del sitio web de Mozilla Foundation [MF](https://developer.mozilla.org/en-US/)"
   ]
  },
  {
   "cell_type": "markdown",
   "id": "8d040e9d-2b02-4a3f-962d-b581eba0f15b",
   "metadata": {},
   "source": [
    "## Ejes de dirección"
   ]
  },
  {
   "cell_type": "markdown",
   "id": "eb6a1451-ad14-4b04-b521-64527a97b851",
   "metadata": {},
   "source": [
    "La dirección como queremos se alineen los items puede tener varios sentidos, estos son los principales:"
   ]
  },
  {
   "cell_type": "markdown",
   "id": "73bd82ed",
   "metadata": {},
   "source": [
    "> ### Eje Principal\n",
    ">\n",
    "> Definido por ```flex-direcion``` puede tomar 4 valores distintos:"
   ]
  },
  {
   "attachments": {
    "basics1.svg": {
     "image/svg+xml": [
      "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"
     ]
    }
   },
   "cell_type": "markdown",
   "id": "56153746-c475-4671-beb4-c3314ad513f4",
   "metadata": {},
   "source": [
    ">####  1. ```row```\n",
    ">\n",
    "> ![basics1.svg](attachment:basics1.svg)\n",
    ">\n",
    "> ```row-reverse``` invierte el orden de los items."
   ]
  },
  {
   "attachments": {
    "basics2.svg": {
     "image/svg+xml": [
      "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"
     ]
    }
   },
   "cell_type": "markdown",
   "id": "baf23591",
   "metadata": {},
   "source": [
    "> #### 2. ```column```\n",
    ">\n",
    ">![basics2.svg](attachment:basics2.svg)"
   ]
  },
  {
   "cell_type": "markdown",
   "id": "ed73a334",
   "metadata": {},
   "source": [
    ">> __Importante__: si no se especifica lo contrario, la propiedad por defecto ```flex-direction``` es ```row```."
   ]
  },
  {
   "cell_type": "markdown",
   "id": "2e3fafdd",
   "metadata": {},
   "source": [
    "> ### Eje Cruzado\n",
    ">\n",
    "> Va perpendicular al eje principal, es decir, si en este definimos dirección por columnas, la dirección del eje cruzado ira por filas, o viceversa."
   ]
  },
  {
   "cell_type": "markdown",
   "id": "853f0b56",
   "metadata": {},
   "source": [
    "## Preparación de contenedores en la técnica de Display Flex"
   ]
  },
  {
   "cell_type": "markdown",
   "id": "b65bc31c",
   "metadata": {},
   "source": [
    "Aunque no existe una forma estándar de alistar los contenedores para organizarlos mediante la técnica de Flexbox, se ha optado como una buena practica crear un contenedor padre ```parent``` donde se agregarán los items a alinear, contenedores hijos ```childs```."
   ]
  },
  {
   "cell_type": "markdown",
   "id": "a86e287e",
   "metadata": {},
   "source": [
    "### ```wrap``` property"
   ]
  },
  {
   "cell_type": "markdown",
   "id": "89d8f7de",
   "metadata": {},
   "source": [
    "Cuando los items alcanzan el ancho del dispositivo sin quedar margen entre ellos, es importante definir como se distribuirán en diferentes lineas, la propiedad ```flex-wrap``` puede tomar tres valores:"
   ]
  },
  {
   "cell_type": "markdown",
   "id": "be3f5232-e84c-4821-930d-edae1ece03f6",
   "metadata": {},
   "source": [
    "- ```nowrap```: se ubican todos en la misma línea, generando un scroll horizontal o vertical.\n",
    "- ```wrap```: se distribuyen en más de una línea\n",
    "- ```wrap-reverse```: el mismo comportamiento anterior, pero invirtiendo el orden."
   ]
  },
  {
   "cell_type": "markdown",
   "id": "7cb8c90a-302b-4134-9d24-8816b8d8e8c8",
   "metadata": {},
   "source": [
    "### ```flex-flow``` property"
   ]
  },
  {
   "cell_type": "markdown",
   "id": "2eabd1ef-b803-4857-8ef2-80d2c932c51a",
   "metadata": {},
   "source": [
    "La propiedad ```flex-flow``` combina en una sola las propiedades ```flex-direction``` y ```flex-wrap```. Por ejemplo: ```flex-flow: row wrap``` indica dirección en el eje horizontal por filas y los items se envuelven  en más de una línea."
   ]
  },
  {
   "cell_type": "markdown",
   "id": "06e3cc82-ec33-4605-a595-2740c259d62a",
   "metadata": {},
   "source": [
    "## Alineación de los items"
   ]
  },
  {
   "cell_type": "markdown",
   "id": "e96a567b-7050-44c1-8af3-b99d7a8b4ad1",
   "metadata": {},
   "source": [
    "Suele ocurrir que algunos items tengan un tamaño diferente respecto a los demás, en ese caso, debemos definir como se comportan los más pequeños en relación a los más grandes."
   ]
  },
  {
   "cell_type": "markdown",
   "id": "2b4dcc0c-6eec-421d-8ede-04d5e3e84005",
   "metadata": {},
   "source": [
    "### ```align-items``` property"
   ]
  },
  {
   "cell_type": "markdown",
   "id": "94aa3574-6a8d-41d6-aa01-c5b63d2884a9",
   "metadata": {},
   "source": [
    "Esta alineación opera sobre el eje cruzado y puede tomar cuatro posibles valores:\n",
    "- ```strech```: distribuye por el tamaño mas amplio\n",
    "- ```flex-start```: ubica los más pequeños en el borde inicial del mas grande\n",
    "- ```flex-end```: igual que el anterior pero en el borde final\n",
    "- ```center```: centra los mas pequeño en relación con el más grande"
   ]
  },
  {
   "cell_type": "markdown",
   "id": "45eb434f-10f9-4d8b-ab05-55c58f0252e8",
   "metadata": {},
   "source": [
    "### ```justify-content``` property"
   ]
  },
  {
   "cell_type": "markdown",
   "id": "6568aea8-15a5-446b-a567-12c2ed3d6491",
   "metadata": {},
   "source": [
    "Esta propiedad puede duplicar el comportamiento de ```flex-direction``` opera sobre el eje principal, toma cinco valores:"
   ]
  },
  {
   "cell_type": "markdown",
   "id": "351be2ae-e9e0-49fb-8641-054ea37827ac",
   "metadata": {},
   "source": [
    "- ```space-evenly```: centra, distribuye el espacio uniformemente entre los items y los márgenes.\n",
    "- ```flex-start```: los alinea al inicio del margen del contenedor, sin dejar espacio entre los items.\n",
    "- ```flex-end```: igual que el anterior pero dejando espacio mínimo  al final del magen del contenedor.\n",
    "- ```center```: centra los items entre ámbos márgenes dejando un espacio mínimo entre los items.\n",
    "- ```space-around```: centra, distribuye el espacio uniformemente entre los items, dejando a las margenes la mitad de el espacio calculado en la distribución.\n",
    "- ```space-between```: centra, distribuye los items uniformemente, sin dejar espacio en las márgenes. "
   ]
  },
  {
   "cell_type": "markdown",
   "id": "5d861732",
   "metadata": {},
   "source": [
    "> En la siguiente web podrá explorar como interactúan las diferentes propiedades de Flexbox\n",
    ">\n",
    "> [Live coding](https://flexbox.tech/)"
   ]
  },
  {
   "cell_type": "markdown",
   "id": "43eba6d4-afca-4d4e-b45c-0706172d1c48",
   "metadata": {},
   "source": [
    "## Ejercicio teórico"
   ]
  },
  {
   "cell_type": "markdown",
   "id": "6bfc434b-4072-4f74-9559-648a5696ed59",
   "metadata": {},
   "source": [
    "> __Obtención del sello__:\n",
    ">\n",
    "> Copie en su cuaderno\n",
    "> \n",
    "> Competencia: 1\n",
    "> \n",
    "> Ámbito conceptual: Conceptos asociados a Displaybox, importancia y casos de uso\n",
    "> \n",
    "> Objetivo: Comprender con acierto los conceptos y propiedades relacionadas con flexbox y seleccionarlos adecuadamente, de acuerdo a un contexto planteado.\n",
    "> \n",
    "> Nombre de la actividad: Ejercicio teorico guia 1 Displaybox"
   ]
  },
  {
   "cell_type": "markdown",
   "id": "ceb32401-819b-4f66-9791-53f455f153e3",
   "metadata": {},
   "source": [
    "Conteste en su cuaderno las siguientes preguntas según lo explicado en la clase y lo entendido en la guía."
   ]
  },
  {
   "cell_type": "markdown",
   "id": "3f13949a",
   "metadata": {},
   "source": [
    "> Lo contratan como diseñador web y le solicitan organizar los items en un contenedor, de forma que se vean asi:"
   ]
  },
  {
   "attachments": {
    "pregunta1.png": {
     "image/png": "[encoded data removed]"
    }
   },
   "cell_type": "markdown",
   "id": "f267f2ec",
   "metadata": {},
   "source": [
    "![pregunta1.png](attachment:pregunta1.png)"
   ]
  },
  {
   "cell_type": "markdown",
   "id": "84e247d6",
   "metadata": {},
   "source": [
    "1. Que propiedad de ```flex-direction``` usa y por qué?\n",
    "2. Ahora le solicitan que los items se ubiquen en el margen derecho del contenedor, que propiedad emplea y por qué?\n",
    "3. Ademas le sugieren que en caso de agregar mas items estos deben ubicarse en otra línea, cual propiedad emplearía y por qué?\n",
    "4. Si usted no especifica ninguna propiedad en flex-direction como se alinearán los items?\n",
    "5. Si desea distribuir los items de forma que el espacio se distribuye igual entre ellos y los margenes que propiedad emplearía y por qué?"
   ]
  }
 ],
 "metadata": {
  "kernelspec": {
   "display_name": "Python 3 (ipykernel)",
   "language": "python",
   "name": "python3"
  },
  "language_info": {
   "codemirror_mode": {
    "name": "ipython",
    "version": 3
   },
   "file_extension": ".py",
   "mimetype": "text/x-python",
   "name": "python",
   "nbconvert_exporter": "python",
   "pygments_lexer": "ipython3",
   "version": "3.12.1"
  }
 },
 "nbformat": 4,
 "nbformat_minor": 5
}
