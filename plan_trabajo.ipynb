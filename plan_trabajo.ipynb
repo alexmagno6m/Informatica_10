{
 "cells": [
  {
   "cell_type": "markdown",
   "id": "d22b89de-2e39-481e-88e0-ca210422ec2a",
   "metadata": {},
   "source": [
    "# Plan de Trabajo Informática Grado Decimo 2024"
   ]
  },
  {
   "cell_type": "markdown",
   "id": "57bb8667-2e84-4ba2-a4f5-db6c069ada38",
   "metadata": {},
   "source": [
    "__Profesor__: Alexander Acevedo Gomez"
   ]
  },
  {
   "cell_type": "markdown",
   "id": "de6635f9-da06-4a6e-bbe4-3e5b7fc9f66b",
   "metadata": {},
   "source": [
    "Ingeniero de Sistemas\n",
    "__Universidad Nacional de Colombia__\n",
    "\n",
    "__MSc Modelado y Simulación__\n",
    "\n",
    "__Universidad Jorge Tadeo Lozano__"
   ]
  },
  {
   "cell_type": "markdown",
   "id": "5cf6479d-2a14-4f4b-a943-b2f12e1ac23a",
   "metadata": {},
   "source": [
    "## Introducción"
   ]
  },
  {
   "cell_type": "markdown",
   "id": "d8638c7c-dc6d-4d90-b958-9267b41e7d8e",
   "metadata": {},
   "source": [
    "Estimado estudiante: Nuestro colegio está implementando el Enfoque de Aprendizaje autónomo. Para ello, es importante que conozcas cuáles son tus fortalezas y debilidades, las inteligencias que tienes más y menos desarrolladas, las estrategias de aprendizaje que utilizas, las asignaturas que más y menos te gustan, entre otros aspectos.\r\n",
    "\n",
    "A continuación, vas a elaborar un Plan de trabajo con el fin de definir metas que te ayuden a superar las dificultades en la asignatura y a profundizar más en los temas que te interesan. Con base en los desempeños que tu docente te ha presentado, debes definir metas reales y alcanzables y actividades que te motiven y definir tiempos y recursos para lograrlas.\r\n"
   ]
  },
  {
   "cell_type": "markdown",
   "id": "da5eecf7-5fcf-425b-b481-2621e1e5b080",
   "metadata": {},
   "source": [
    "## Instrucciones"
   ]
  },
  {
   "cell_type": "markdown",
   "id": "cfdcc048-ec59-4476-a4ef-26e77717deab",
   "metadata": {},
   "source": [
    "Realice el plan de trabajo con los siguientes parametros para poder obtener los 4 puntos de su valor:\n",
    "1. Copie los cuatro ambitos conceptuales\n",
    "2. Copie las cuatro competencias segun el periodo que se inicia\n",
    "3. Por cada compentencia escriba 3 pasos como minimo\n",
    "4. Escriba los recursos que considera va emplear para alcanzar las competencias, minimo 4 recursos generales\n",
    "5. Asigne las fechas indicadas por el profesor en clase."
   ]
  },
  {
   "cell_type": "markdown",
   "id": "bac82be3-8338-4596-8b12-c629cf8a94f9",
   "metadata": {},
   "source": [
    "| AMBITO CONCEPTUAL                     |     COMPETENCIAS                                  |     FECHAS                                                                   |     PASOS   PARA ALCANZAR LA COMPETENCIA                        |     RECURSOS                                     |     AUTOEVALUACION   Y FIRMA PROFESOR    |\n",
    "|---------------------------------------|---------------------------------------------------|------------------------------------------------------------------------------|-----------------------------------------------------------------|--------------------------------------------------|------------------------------------------|\n",
    "| Copie los cuatro ambitos conceptuales |         Copie las cuatro competencias del periodo |                                 Escriba las fechas indicadas por el profesor |         Escriba minimo 3 pasos por cada una de las competencias |         Escriba 4 recursos generales como minimo |         Deje vacío este espacio          |"
   ]
  },
  {
   "cell_type": "markdown",
   "id": "57abfd6c-565e-443e-9216-7aa94a7aa96b",
   "metadata": {},
   "source": [
    "|     Periodo    |     Ámbito   Conceptual                                                                          |     Competencias   especificas                                                                                                                                        |\n",
    "|----------------|--------------------------------------------------------------------------------------------------|-----------------------------------------------------------------------------------------------------------------------------------------------------------------------|\n",
    "|     1          |     Funciones estadísticas   en la hoja de calculo y análisis de la realidad matemática          |     Usa adecuadamente un   conjunto de funciones estadísticas específicas para resolver una situación de   contexto planteada.                                        |\n",
    "|                |     Pensamiento lógico, interpretación   de operadores relacionales.                             |     Presenta un   planteamiento lógico de las condiciones de un problema cotidiano para ser   expresado a través de funciones condicionales en la hoja de cálculo.    |\n",
    "|                |     Las celdas y sus   atributos de formato                                                      |     Emplea   inteligentemente elementos de formato en una selección de celdas que permitan   la identificación de un dato sujeto a unas condiciones.                  |\n",
    "|                |     Disposición   actitudinal                                                                    |     Manifiesta su   compromiso frente a su proyecto de vida a través de su puntualidad y   cumplimiento de sus deberes académicos.                                    |\n",
    "|     2          |     Formato condicional,   utilidad, empleo y usos prácticos en situaciones de contexto.         |     Establece   asertivamente y comprueba condiciones de formato para una serie de datos que   permitan solucionar un problema de contexto                            |\n",
    "|                |     Vida cotidiana y el   internet productivo                                                    |     Usa asertivamente   herramientas en la nube para buscar, seleccionar y procesar información de   uso común                                                        |\n",
    "|                |     Herramientas interdisciplinares   en línea                                                   |     Emplea diferentes   herramientas en línea para mejorar su productividad en diferentes áreas del   saber.                                                          |\n",
    "|                |     Disposición   actitudinal                                                                    |     Manifiesta su   compromiso frente a su proyecto de vida a través de su puntualidad y   cumplimiento de sus deberes académicos.                                    |\n",
    "|     3          |     Estructura de un sitio   web básico                                                          |     Identifica, conoce y   define cada uno los elementos que integran la estructura de un documento HTML   básico.                                                    |\n",
    "|                |     Diseño web                                                                                   |     Diseña correctamente   la estructura de una página web de acuerdo con las especificaciones   solicitadas                                                          |\n",
    "|                |     Tablas web                                                                                   |     Construye tablas   usando las propiedades mas importantes de las etiquetas web correspondientes                                                                   |\n",
    "|                |     Disposición   actitudinal                                                                    |     Manifiesta   su compromiso frente a su proyecto de vida a través de su puntualidad y   cumplimiento de sus deberes académicos.                                    |\n",
    "|     4          |     Introducción a CSS                                                                           |     Comprende la ventaja   de separar el diseño del código en documento web, identificando la función de   los atributos CSS más comunes.                             |\n",
    "|                |     Principales atributos   CSS                                                                  |     Diseña a   través del empleo de CSS formularios web funcionales.                                                                                                  |\n",
    "|                |     Imágenes, enlaces, diseño   web                                                              |     Inserta imágenes,   enlaces de diferentes tipos y uso de contenedores DIV                                                                                         |\n",
    "|                |     Disposición   actitudinal                                                                    |     Manifiesta   su compromiso frente a su proyecto de vida a través de su puntualidad y   cumplimiento de sus deberes académicos.                                    |"
   ]
  }
 ],
 "metadata": {
  "kernelspec": {
   "display_name": "Python 3 (ipykernel)",
   "language": "python",
   "name": "python3"
  },
  "language_info": {
   "codemirror_mode": {
    "name": "ipython",
    "version": 3
   },
   "file_extension": ".py",
   "mimetype": "text/x-python",
   "name": "python",
   "nbconvert_exporter": "python",
   "pygments_lexer": "ipython3",
   "version": "3.12.1"
  }
 },
 "nbformat": 4,
 "nbformat_minor": 5
}
