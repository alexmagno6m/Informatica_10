{
 "cells": [
  {
   "cell_type": "markdown",
   "id": "d22b89de-2e39-481e-88e0-ca210422ec2a",
   "metadata": {},
   "source": [
    "# Plan de Trabajo Informática Grado Decimo 2024"
   ]
  },
  {
   "cell_type": "markdown",
   "id": "57bb8667-2e84-4ba2-a4f5-db6c069ada38",
   "metadata": {},
   "source": [
    "__Profesor__: Alexander Acevedo Gomez"
   ]
  },
  {
   "cell_type": "markdown",
   "id": "de6635f9-da06-4a6e-bbe4-3e5b7fc9f66b",
   "metadata": {},
   "source": [
    "Ingeniero de Sistemas\n",
    "__Universidad Nacional de Colombia__\n",
    "\n",
    "__MSc Modelado y Simulación__\n",
    "\n",
    "__Universidad Jorge Tadeo Lozano__"
   ]
  },
  {
   "cell_type": "markdown",
   "id": "5cf6479d-2a14-4f4b-a943-b2f12e1ac23a",
   "metadata": {},
   "source": [
    "## Introducción"
   ]
  },
  {
   "cell_type": "markdown",
   "id": "d8638c7c-dc6d-4d90-b958-9267b41e7d8e",
   "metadata": {},
   "source": [
    "Estimado estudiante: Nuestro colegio está implementando el Enfoque de Aprendizaje autónomo. Para ello, es importante que conozcas cuáles son tus fortalezas y debilidades, las inteligencias que tienes más y menos desarrolladas, las estrategias de aprendizaje que utilizas, las asignaturas que más y menos te gustan, entre otros aspectos.\n",
    "\n",
    "A continuación, vas a elaborar un Plan de trabajo con el fin de definir metas que te ayuden a superar las dificultades en la asignatura y a profundizar más en los temas que te interesan. Con base en los desempeños que tu docente te ha presentado, debes definir metas reales y alcanzables y actividades que te motiven y definir tiempos y recursos para lograrlas.\n"
   ]
  },
  {
   "cell_type": "markdown",
   "id": "da5eecf7-5fcf-425b-b481-2621e1e5b080",
   "metadata": {},
   "source": [
    "## Instrucciones"
   ]
  },
  {
   "cell_type": "markdown",
   "id": "cfdcc048-ec59-4476-a4ef-26e77717deab",
   "metadata": {},
   "source": [
    "Realice el plan de trabajo con los siguientes parametros para poder obtener los 4 puntos de su valor:\n",
    "1. Copie los cuatro ambitos conceptuales\n",
    "2. Copie las cuatro competencias segun el periodo que se inicia\n",
    "3. Por cada compentencia escriba 3 pasos como minimo\n",
    "4. Escriba los recursos que considera va emplear para alcanzar las competencias, minimo 4 recursos generales\n",
    "5. Asigne las fechas indicadas por el profesor en clase."
   ]
  },
  {
   "cell_type": "markdown",
   "id": "bac82be3-8338-4596-8b12-c629cf8a94f9",
   "metadata": {},
   "source": [
    "| AMBITO CONCEPTUAL                     |     COMPETENCIAS                                  |     FECHAS                                                                   |     PASOS   PARA ALCANZAR LA COMPETENCIA                        |     RECURSOS                                     |     AUTOEVALUACION   Y FIRMA PROFESOR    |\n",
    "|---------------------------------------|---------------------------------------------------|------------------------------------------------------------------------------|-----------------------------------------------------------------|--------------------------------------------------|------------------------------------------|\n",
    "| Copie los cuatro ambitos conceptuales |         Copie las cuatro competencias del periodo |                                 Escriba las fechas indicadas por el profesor |         Escriba minimo 3 pasos por cada una de las competencias |         Escriba 4 recursos generales como minimo |         Deje vacío este espacio          |"
   ]
  },
  {
   "cell_type": "markdown",
   "id": "57abfd6c-565e-443e-9216-7aa94a7aa96b",
   "metadata": {},
   "source": [
    "| Periodo | Ámbito   Conceptual                                                                 | Competencias   especificas                                                                                                                                                                                                                     |\n",
    "|---------|-------------------------------------------------------------------------------------|------------------------------------------------------------------------------------------------------------------------------------------------------------------------------------------------------------------------------------------------|\n",
    "| 1       | Funciones estadísticas   en la hoja de calculo y análisis de la realidad matemática | Usa adecuadamente un   conjunto de funciones estadísticas específicas para resolver una situación de   contexto planteada.                                                                                                                     |\n",
    "|         | Pensamiento lógico, interpretación   de operadores relacionales.                    | Presenta un   planteamiento lógico de las condiciones de un problema cotidiano para ser   expresado a través de funciones condicionales en la hoja de cálculo.                                                                                 |\n",
    "|         | Selección asertiva de funciones estadísticas                                        | Identifica, diferencia y selecciona las funciones estadisticas necesarias para solucionar un problema en contexto.                                                                                                                             |\n",
    "|         | Disposición   actitudinal y socioemocional                                          | Manifiesta su   compromiso frente a su proyecto de vida a través de su puntualidad y   cumplimiento de sus deberes académicos.                                                                                                                 |\n",
    "| 2       | Las celdas de la hoja de cálculo y sus propiedades de formato                       | Identifica con acierto las diferentes propiedades de formato de una celda seleccionando las mas útiles para su correcta identificación dentro de un conjunto de datos.                                                                         |\n",
    "|         | Formato condicional, utilidad, empleo y usos prácticos en situaciones de contexto.  | Establece acertivamente  el formato condicional estableciendo adecuadamente los operadores relacionales necesarios para resaltar o identificar datos que brinden la solución a un problema de contexto                                         |\n",
    "|         | Las funciones lógicas SI, Y, O. Simples y anidadas.                                 | Define con suficiencia las funciones lógicas Si, Y, O combinadas para realizar comprobaciones condicionadas con la finalidad de presentar una solucion satisfactoria a los requerimientos de un problema.                                      |\n",
    "|         | Disposición   actitudinal y socioemocional                                          | Expresa sus pensamientos de forma serena, analiza la opinión de los otros generando empatía, permitiendo avanzar en los obstáculos frente a la diferencia de ideas generando un ambiente apto para su éxito académico.                         |\n",
    "| 3       | Estructura de un sitio   web básico                                                 | Identifica, conoce y define con acierto cada uno los elementos que integran la estructura de un documento HTML básico para formalizar el concepto de DOM en el diseño web y aplicarlo posteriormente a la elaboración del código pertinente.   |\n",
    "|         | Diseño web                                                                          | Escribe y ejecuta correctamente el código HTML que establece la estructura de una página web para responder eficazmente a las especificaciones solicitadas.                                                                                    |\n",
    "|         | Tablas web                                                                          | Construye tablas en lenguaje HTML que emplean las propiedades más importantes de estilo CSS de las etiquetas necesarias para organizar y visualizar correctamente información en ellas.                                                        |\n",
    "|         | Disposición   actitudinal y socioemocional                                          | Manifiesta su compromiso frente a su proyecto de vida a través de su puntualidad y cumplimiento de sus deberes académicos, sus actitudes reflejan un comportamiento socioemocional esperado y acorde a su edad.                                |\n",
    "| 4       | Display Layouts CSS                                                                 | Analiza con acierto las diferencias, similitudes, ventajas, desventajas y mejores casos de uso de los métodos de disposición de contenido aplicables a contenedores DIV                                                                        |\n",
    "|         | Flexbox - Grid Layout                                                               | Integra con acierto el método display-flex y display-Grid para la organización de contenido eligiendo y aplicando correctamente las propiedades necesarias segun el caso, privilegiando el diseño web responsivo.  |\n",
    "|         | Animaciones básicas CSS                                                             | Transforma con acierto el comportamiento de elementos HTML, aplicando animaciones básicas para modernizar el contenido de un sitio web como una expresión de funcionalidad, sin dañar la experiencia del usuario.                                                                    |\n",
    "|         | Disposición   actitudinal y socioemocional                                          | Manifiesta su compromiso frente a su proyecto de vida a través de su puntualidad y cumplimiento de sus deberes académicos, sus actitudes reflejan un comportamiento socioemocional esperado y acorde a su edad.|"
   ]
  }
 ],
 "metadata": {
  "kernelspec": {
   "display_name": "Python 3 (ipykernel)",
   "language": "python",
   "name": "python3"
  },
  "language_info": {
   "codemirror_mode": {
    "name": "ipython",
    "version": 3
   },
   "file_extension": ".py",
   "mimetype": "text/x-python",
   "name": "python",
   "nbconvert_exporter": "python",
   "pygments_lexer": "ipython3",
   "version": "3.12.1"
  }
 },
 "nbformat": 4,
 "nbformat_minor": 5
}
