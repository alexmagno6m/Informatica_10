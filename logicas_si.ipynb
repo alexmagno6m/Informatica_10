{
 "cells": [
  {
   "cell_type": "markdown",
   "id": "0a1110ac",
   "metadata": {
    "toc": true
   },
   "source": [
    "<h1>Table of Contents<span class=\"tocSkip\"></span></h1>\n",
    "<div class=\"toc\"><ul class=\"toc-item\"><li><ul class=\"toc-item\"><li><ul class=\"toc-item\"><li><span><a href=\"#Competencia-para-esta-guia\" data-toc-modified-id=\"Competencia-para-esta-guia-0.0.1\"><span class=\"toc-item-num\">0.0.1&nbsp;&nbsp;</span>Competencia para esta guia</a></span></li></ul></li></ul></li><li><span><a href=\"#Funcion-logica-SI\" data-toc-modified-id=\"Funcion-logica-SI-1\"><span class=\"toc-item-num\">1&nbsp;&nbsp;</span>Funcion logica SI</a></span><ul class=\"toc-item\"><li><span><a href=\"#Estructura\" data-toc-modified-id=\"Estructura-1.1\"><span class=\"toc-item-num\">1.1&nbsp;&nbsp;</span>Estructura</a></span></li><li><span><a href=\"#Ejemplo\" data-toc-modified-id=\"Ejemplo-1.2\"><span class=\"toc-item-num\">1.2&nbsp;&nbsp;</span>Ejemplo</a></span><ul class=\"toc-item\"><li><span><a href=\"#Pregunta\" data-toc-modified-id=\"Pregunta-1.2.1\"><span class=\"toc-item-num\">1.2.1&nbsp;&nbsp;</span>Pregunta</a></span></li><li><span><a href=\"#Desarrollo\" data-toc-modified-id=\"Desarrollo-1.2.2\"><span class=\"toc-item-num\">1.2.2&nbsp;&nbsp;</span>Desarrollo</a></span></li></ul></li><li><span><a href=\"#Ejercicio\" data-toc-modified-id=\"Ejercicio-1.3\"><span class=\"toc-item-num\">1.3&nbsp;&nbsp;</span>Ejercicio</a></span><ul class=\"toc-item\"><li><span><a href=\"#Problema\" data-toc-modified-id=\"Problema-1.3.1\"><span class=\"toc-item-num\">1.3.1&nbsp;&nbsp;</span>Problema</a></span></li><li><span><a href=\"#Preguntas\" data-toc-modified-id=\"Preguntas-1.3.2\"><span class=\"toc-item-num\">1.3.2&nbsp;&nbsp;</span>Preguntas</a></span></li></ul></li></ul></li></ul></div>"
   ]
  },
  {
   "cell_type": "markdown",
   "id": "d8211686",
   "metadata": {},
   "source": [
    "__Profesor__: Alexander Acevedo Gomez <br>\n",
    "__Grado__: Decimo\n",
    "### Competencia para esta guia\n",
    "> - Emplea asertivamente la funcion logica SI para resolver un problema de contexto a partir de la formulacion de una condicion"
   ]
  },
  {
   "attachments": {
    "3.png": {
     "image/png": "[encoded data removed]"
    }
   },
   "cell_type": "markdown",
   "id": "632bdef6",
   "metadata": {},
   "source": [
    "# Funcion logica SI\n",
    "## Estructura\n",
    "> Esta compuesta por una sintaxis dividida en tres partes:\n",
    "> - __Una prueba logica__, establecida generalmente como una comparacion de datos, para lo cual se usan los operadores rlacionales (en la mayoria de casos).\n",
    "> - __Valor si verdadero(obligatorio)__, donde se escribe la operacion o accion que se debe hacer en caso de cumplirse la prueba logica.\n",
    "> - __Valor si falso(opcional)__, en caso de no cumplirse la condicion se escribe en esta parte las acciones a tomar.\n",
    ">\n",
    "> ![3.png](attachment:3.png)\n",
    ">\n",
    "> Fuente: [_Excel total_](https://exceltotal.com/funcion-si-anidada/)"
   ]
  },
  {
   "cell_type": "markdown",
   "id": "0f54bef9",
   "metadata": {},
   "source": [
    "## Ejemplo\n",
    "> La siguiente tabla muestra un listado de colegios de Bogota, con la cantidad de estudiantes, __suponga que el gobierno otorgara presupuesto ampliado si el numero de estudiantes del colegio es como minimo de 750.__\n",
    ">\n",
    "> ### Pregunta\n",
    ">> Segun lo anterior Determine indicando \"Colegio Aceptado\" si se cumple con el requisito \"No Aceptado\" en caso contrario\n",
    "> ### Desarrollo\n",
    ">> Copie la siguiente tabla en Excel.\n",
    ">>\n",
    ">> | Colegio                                                                                              | Cantidad de Estudiantes | Candidato a Presupuesto Ampliado |\n",
    "|------------------------------------------------------------------------------------------------------|-------------------------|----------------------------------|\n",
    "| INST DE BTO TEC COMERCIAL PITAGORAS                                                                  | 345                     |                                  |\n",
    "| GIMNASIO INFANTIL FEDERICO FROEBEL                                                                   | 323                     |                                  |\n",
    "| GIMNASIO INFANTIL LOS NIÑOS DEL MAÑANA                                                               | 178                     |                                  |\n",
    "| COLEGIO FRANCISCO PRIMERO S.S. (IED)                                                                 | 239                     |                                  |\n",
    "| COL SAN JUAN VIANETH                                                                                 | 1380                    |                                  |\n",
    "| COL SAN PATRICIO                                                                                     | 2100                    |                                  |\n",
    "| COL CRISTIANO FUENTE DE VIDA                                                                         | 923                     |                                  |\n",
    "| LIC PARROQ SAN JOSE                                                                                  | 762                     |                                  |\n",
    "| LIC ESTRELLITA ESTUDIANTIL                                                                           | 589                     |                                  |\n",
    "| COL LUIGI PIRANDELLO                                                                                 | 634                     |                                  |\n",
    "| JARDIN INFANTIL CAMPESTRE MI BELLA IMAGEN                                                            | 210                     |                                  |\n",
    "| COLEGIO MARCO FIDEL SUAREZ (IED)                                                                     | 720                     |                                  |\n",
    "| INST ORESTES SINDICI                                                                                 | 312                     |                                  |\n",
    "| COL DEL BOSQUE                                                                                       | 451                     |                                  |\n",
    "| INST SANTA INES                                                                                      | 276                     |                                  |\n",
    "| CENTRO DE EDUCACION LABORAL                                                                          | 897                     |                                  |\n",
    "| LIC ADOLFO LEON GOMEZ                                                                                | 215                     |                                  |\n",
    "| COL CENTRO CULTURAL                                                                                  | 456                     |                                  |\n",
    "| LIC PEDAGOGICO  LOS SAUCES                                                                           | 321                     |                                  |\n",
    "| LIC SANTA PAULA                                                                                      | 234                     |                                  |\n",
    ">>\n",
    ">> Como observa la columna \"Candidato a presupuesto ampliado\" esta vacia, alli se incluira, la funcion SI para responder la pregunta\n",
    ">>\n",
    ">> 1. La condicion depende del numero de estudiantes, por lo tanto la prueba logica debe incluir el primer valor de esta columna: B2 >= 750\n",
    ">> 2. En la celda C2, copie la formula: =SI(B2>=750;\"Colegio Aceptado\";\"No Aceptado\")\n",
    ">> 3. Deberia obtener como resultado __No Aceptado__, debido a que el primer colegio no cumple el requisito\n",
    ">> 4. Arrastre hasta el final de la columna para obtener el resto de datos.\n",
    ">>\n",
    ">> __Resuelva__: Ahora que obtuvo todos los resultado halle la cantidad de colegios que cumplieron el requisito, usando la formula vista en el periodo pasado.\n"
   ]
  },
  {
   "cell_type": "markdown",
   "id": "7164cd64",
   "metadata": {},
   "source": [
    "## Ejercicio\n",
    "> ### Problema\n",
    ">> La siguiente tabla muestra datos de peso y altura, segun la OMS una persona es clasificada en grado de obesidad, si el IMC es igual o superior a 25.\n",
    "> ### Preguntas\n",
    ">> Con base en la anterior informacion, resuelva:\n",
    ">> 1. En la columna D halle el IMC el cual se obtiene mediante la siguiente formula:\n",
    ">> $\\frac{peso}{estatura^2}$\n",
    "> 2. De acuerdo a lo obtenido en el punto anterior indique en la columna E cuales personas estan en grado de obesidad y cuales su estado es normal.\n",
    "> 3. En la columna E indique el total de personas clasificadas en grado de obedidad y en estado normal.\n",
    ">\n",
    "> | Nombre   | Peso | Estatura | IMC | Clasificacion | Estadisticas       | Resultado |\n",
    "|----------|------|----------|-----|---------------|--------------------|-----------|\n",
    "| ana      | 56   | 1.65     |     |               | Estado de obesidad |           |\n",
    "| Jorge    | 77   | 1.76     |     |               | Normal             |           |\n",
    "| Luis     | 65   | 1.8      |     |               |                    |           |\n",
    "| Pedro    | 78   | 1.96     |     |               |                    |           |\n",
    "| Andres   | 93   | 1.45     |     |               |                    |           |\n",
    "| Juan     | 45   | 1.96     |     |               |                    |           |\n",
    "| Bertha   | 66   | 1.89     |     |               |                    |           |\n",
    "| Alberto  | 45   | 1.85     |     |               |                    |           |\n",
    "| Leonidas | 78   | 1.77     |     |               |                    |           |\n",
    "| josefa   | 55   | 1.76     |     |               |                    |           |\n",
    "| Diana    | 97   | 1.65     |     |               |                    |           |\n",
    "| james    | 56   | 1.77     |     |               |                    |           |\n",
    "| Carlos   | 47   | 1.68     |     |               |                    |           |\n",
    "| Henry    | 57   | 1.86     |     |               |                    |           |\n",
    "| Lola     | 89   | 1.67     |     |               |                    |           |"
   ]
  }
 ],
 "metadata": {
  "kernelspec": {
   "display_name": "Python 3 (ipykernel)",
   "language": "python",
   "name": "python3"
  },
  "language_info": {
   "codemirror_mode": {
    "name": "ipython",
    "version": 3
   },
   "file_extension": ".py",
   "mimetype": "text/x-python",
   "name": "python",
   "nbconvert_exporter": "python",
   "pygments_lexer": "ipython3",
   "version": "3.10.4"
  },
  "toc": {
   "base_numbering": 1,
   "nav_menu": {},
   "number_sections": true,
   "sideBar": true,
   "skip_h1_title": false,
   "title_cell": "Table of Contents",
   "title_sidebar": "Contents",
   "toc_cell": true,
   "toc_position": {},
   "toc_section_display": true,
   "toc_window_display": true
  }
 },
 "nbformat": 4,
 "nbformat_minor": 5
}
