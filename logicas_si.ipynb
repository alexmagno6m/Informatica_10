{
 "cells": [
  {
   "cell_type": "markdown",
   "id": "d8211686",
   "metadata": {},
   "source": [
    "__Profesor__: Alexander Acevedo Gómez <br>\n",
    "__Grado__: Décimo\n",
    "### Competencia para esta guía\n",
    "> - Establece con suficiencia las funciones lógicas Si, Y, O combinadas para realizar comprobaciones condicionadas con la finalidad de resolver un problema."
   ]
  },
  {
   "attachments": {
    "3.png": {
     "image/png": "[encoded data removed]"
    }
   },
   "cell_type": "markdown",
   "id": "632bdef6",
   "metadata": {},
   "source": [
    "# Funcion lógica SI\n",
    "## Estructura\n",
    "> La sintaxis de esta función está dividida en tres partes:\n",
    "> - __Una prueba lógica__, establecida generalmente como una comparación de datos, para lo cual se usan los operadores relacionales (en la mayoría de casos).\n",
    "> - __Valor si verdadero(obligatorio)__, donde se escribe la operación o acción que se debe hacer en caso de cumplirse la prueba lógica.\n",
    "> - __Valor si falso(opcional)__, en caso de no cumplirse la condición, se escribe en esta parte las acciones a tomar.\n",
    ">\n",
    "> ![3.png](attachment:3.png)\n",
    ">\n",
    "> Fuente: [_Excel total_](https://exceltotal.com/funcion-si-anidada/)"
   ]
  },
  {
   "cell_type": "markdown",
   "id": "93915b79-38f1-4fdd-a449-bc683bd7ecbe",
   "metadata": {},
   "source": [
    "## Ejercicios y Obtención del Sello (5 puntos máximo)"
   ]
  },
  {
   "cell_type": "markdown",
   "id": "8ff783ee-2748-41dc-85a0-575ad0728c2f",
   "metadata": {},
   "source": [
    "Para obtener el sello escriba en su cuaderno:\n",
    "1. __Competencia__: 1\n",
    "2. __Ámbito conceptual__: Las funciones lógicas SI, Y, O. Simples y anidadas.\n",
    "3. __Objetivo__: Emplear adecuadamente las funciones logicas SI, estableciendo sin errores la prueba lógica en el análisis de datos y la solución de un problema. "
   ]
  },
  {
   "cell_type": "markdown",
   "id": "056d41e3-a07b-4699-aeab-11505eaccf6b",
   "metadata": {},
   "source": [
    "## Ejercicio 1"
   ]
  },
  {
   "cell_type": "markdown",
   "id": "911e4a5d-2f57-43be-b259-0ac6c765f56a",
   "metadata": {},
   "source": [
    "> La siguiente tabla muestra un listado de algunos colegios de Bogotá, con su cantidad de estudiantes, suponga que el gobierno otorgará presupuesto ampliado si __el número de estudiantes del colegio es como mínimo de 750.__\n",
    ">\n",
    "> ### Pregunta\n",
    ">> Según lo anterior, determine indicando \"Colegio Aceptado\" si se cumple con el requisito, o \"No Aceptado\" en caso contrario.\n",
    "> ### Desarrollo\n",
    ">> Copie la siguiente tabla en Excel."
   ]
  },
  {
   "cell_type": "markdown",
   "id": "a71e9138",
   "metadata": {},
   "source": [
    "| Colegio                                                                                              | Cantidad de Estudiantes | Candidato a Presupuesto Ampliado |\n",
    "|------------------------------------------------------------------------------------------------------|-------------------------|----------------------------------|\n",
    "| INST DE BTO TEC COMERCIAL PITAGORAS                                                                  | 345                     |                                  |\n",
    "| GIMNASIO INFANTIL FEDERICO FROEBEL                                                                   | 323                     |                                  |\n",
    "| GIMNASIO INFANTIL LOS NIÑOS DEL MAÑANA                                                               | 178                     |                                  |\n",
    "| COLEGIO FRANCISCO PRIMERO S.S. (IED)                                                                 | 239                     |                                  |\n",
    "| COL SAN JUAN VIANETH                                                                                 | 1380                    |                                  |\n",
    "| COL SAN PATRICIO                                                                                     | 2100                    |                                  |\n",
    "| COL CRISTIANO FUENTE DE VIDA                                                                         | 923                     |                                  |\n",
    "| LIC PARROQ SAN JOSE                                                                                  | 762                     |                                  |\n",
    "| LIC ESTRELLITA ESTUDIANTIL                                                                           | 589                     |                                  |\n",
    "| COL LUIGI PIRANDELLO                                                                                 | 634                     |                                  |\n",
    "| JARDIN INFANTIL CAMPESTRE MI BELLA IMAGEN                                                            | 210                     |                                  |\n",
    "| COLEGIO MARCO FIDEL SUAREZ (IED)                                                                     | 720                     |                                  |\n",
    "| INST ORESTES SINDICI                                                                                 | 312                     |                                  |\n",
    "| COL DEL BOSQUE                                                                                       | 451                     |                                  |\n",
    "| INST SANTA INES                                                                                      | 276                     |                                  |\n",
    "| CENTRO DE EDUCACION LABORAL                                                                          | 897                     |                                  |\n",
    "| LIC ADOLFO LEON GOMEZ                                                                                | 215                     |                                  |\n",
    "| COL CENTRO CULTURAL                                                                                  | 456                     |                                  |\n",
    "| LIC PEDAGOGICO  LOS SAUCES                                                                           | 321                     |                                  |\n",
    "| LIC SANTA PAULA                                                                                      | 234                     |                                  |"
   ]
  },
  {
   "cell_type": "markdown",
   "id": "489c723c-dcd3-4ce9-905b-4e9f4a87bfc3",
   "metadata": {},
   "source": [
    "> En la columna ```Candidato a presupuesto ampliado``` establezca la funcion SI para responder la pregunta anterior."
   ]
  },
  {
   "cell_type": "markdown",
   "id": "0f1913ab",
   "metadata": {},
   "source": [
    "## Ejercicio 2\n",
    "> ### Problema\n",
    ">> La siguiente tabla muestra datos de peso y altura. Según estima la OMS, una persona es clasificada en grado de obesidad, si el IMC es igual o superior a 25.\n",
    ">> \n",
    ">> Una vez copiada la tabla, tenga en cuenta de __reemplazar puntos a comas__."
   ]
  },
  {
   "cell_type": "markdown",
   "id": "fc173311",
   "metadata": {},
   "source": [
    "| Nombre   | Peso | Estatura | IMC | Clasificacion | Estadisticas       | Resultado |\n",
    "|----------|------|----------|-----|---------------|--------------------|-----------|\n",
    "| ana      | 56   | 1.65     |     |               | Estado de obesidad |           |\n",
    "| Jorge    | 77   | 1.76     |     |               | Normal             |           |\n",
    "| Luis     | 65   | 1.8      |     |               |                    |           |\n",
    "| Pedro    | 78   | 1.96     |     |               |                    |           |\n",
    "| Andres   | 93   | 1.45     |     |               |                    |           |\n",
    "| Juan     | 45   | 1.96     |     |               |                    |           |\n",
    "| Bertha   | 66   | 1.89     |     |               |                    |           |\n",
    "| Alberto  | 45   | 1.85     |     |               |                    |           |\n",
    "| Leonidas | 78   | 1.77     |     |               |                    |           |\n",
    "| josefa   | 55   | 1.76     |     |               |                    |           |\n",
    "| Diana    | 97   | 1.65     |     |               |                    |           |\n",
    "| james    | 56   | 1.77     |     |               |                    |           |\n",
    "| Carlos   | 47   | 1.68     |     |               |                    |           |\n",
    "| Henry    | 57   | 1.86     |     |               |                    |           |\n",
    "| Lola     | 89   | 1.67     |     |               |                    |           |"
   ]
  },
  {
   "cell_type": "markdown",
   "id": "7164cd64",
   "metadata": {},
   "source": [
    "> ### Preguntas\n",
    "> Con base en la anterior información, resuelva:\n",
    "> 1. En la columna ```D``` halle el IMC, para obtenerlo se usa la siguiente expresión:\n",
    ">> $\\frac{peso}{estatura^2}$\n",
    ">>\n",
    ">> (la cual debe escribir en la celda correspondiente).\n",
    ">>\n",
    "> 2. De acuerdo a lo obtenido en el punto anterior, indique en la columna ```E```, cuáles personas se encuentran en grado de obesidad y cuáles en grado normal.\n",
    "> 3. En la columna ```F```, indique el total de personas clasificadas en grado de obesidad y en estado normal."
   ]
  }
 ],
 "metadata": {
  "kernelspec": {
   "display_name": "Python 3 (ipykernel)",
   "language": "python",
   "name": "python3"
  },
  "language_info": {
   "codemirror_mode": {
    "name": "ipython",
    "version": 3
   },
   "file_extension": ".py",
   "mimetype": "text/x-python",
   "name": "python",
   "nbconvert_exporter": "python",
   "pygments_lexer": "ipython3",
   "version": "3.12.1"
  },
  "toc": {
   "base_numbering": 1,
   "nav_menu": {},
   "number_sections": true,
   "sideBar": true,
   "skip_h1_title": false,
   "title_cell": "Table of Contents",
   "title_sidebar": "Contents",
   "toc_cell": true,
   "toc_position": {},
   "toc_section_display": true,
   "toc_window_display": true
  }
 },
 "nbformat": 4,
 "nbformat_minor": 5
}
