{
 "cells": [
  {
   "cell_type": "markdown",
   "id": "230f971b-e0e2-40b4-9e63-3d4a954e4ec3",
   "metadata": {},
   "source": [
    "# Quiz de competencias"
   ]
  },
  {
   "cell_type": "markdown",
   "id": "24a9449c-4bf2-486d-8bda-f3823d2a4511",
   "metadata": {},
   "source": [
    "## Aprendizaje de la tarea"
   ]
  },
  {
   "cell_type": "markdown",
   "id": "2bd39dfb-e2da-41eb-b434-9ce8c8fdc036",
   "metadata": {},
   "source": [
    "Vamos a conocer que tanto aprendiste de la tarea, la idea es competir, a veces la suerte tambien cuenta!. Entre mas rapido contestes y aciertes mas puntos por pregunta obtienes"
   ]
  },
  {
   "cell_type": "markdown",
   "id": "28d031ac-a057-4f3b-b9a6-a47d5601135c",
   "metadata": {},
   "source": [
    "# Quiz competitivo 1"
   ]
  },
  {
   "cell_type": "markdown",
   "id": "900543d8-313b-4277-8f19-c86f7a4c9c6d",
   "metadata": {},
   "source": [
    "Emplearemos la plataforma __Mentimeter__ para responder una serie de preguntas."
   ]
  },
  {
   "cell_type": "markdown",
   "id": "0ae25cf1-4be5-4394-a1bf-e1cb99d438d5",
   "metadata": {},
   "source": [
    "> ### Instrucciones\n",
    ">\n",
    "> - La competencia consta de 10 preguntas de opción multiple con una sola respuesta correcta.\n",
    "> - Las preguntas tienen un tiempo máximo para que respondas, usualmente 7 segundos, si respondes fuera del tiempo, tu respuesta no será tenida en cuenta :(\n",
    "> - Ganarás mas puntos si respondes correctamente y lo haces en menos tiempo que los demás.\n",
    "> - Los primeros cinco lugares obtendrán 5 puntos, los siguientes cinco 4, los otros cinco 3 y asi sucesivamente."
   ]
  },
  {
   "cell_type": "markdown",
   "id": "846ad72a-0ff1-4cbd-8a0e-34510e5796fa",
   "metadata": {},
   "source": [
    "> ### Ingresa al Quiz!\n",
    ">\n",
    "> 1. Ingresa a la página: [mentimeter.com](https://www.mentimeter.com/es-ES)\n",
    "> 2. Digita el codigo ```7482 0987```\n",
    "> 3. Tambien puedes ingresar directamente a este link: [Link a quiz](https://www.menti.com/ale93uj913jc).\n",
    "> 4. Escribe tu nombre y apellido, no emplees apodos o disminutivos porque tu puntuación no será tenida en cuenta."
   ]
  },
  {
   "cell_type": "markdown",
   "id": "9cadf995-3ae0-4b91-aeb8-b4e0b9099406",
   "metadata": {},
   "source": [
    "## Obtención del sello con la puntuación"
   ]
  },
  {
   "cell_type": "markdown",
   "id": "a5942bec-0c59-410e-9195-726b14fe3b4c",
   "metadata": {},
   "source": [
    "> - __Tecno Quiz 1__\n",
    "> - __Ámbito conceptual__: Funciones estadísticas en la hoja de calculo y análisis de la realidad matemática\n",
    "> - __Competencia cognitiva__: 1\n",
    "> - __Objetivo__: Apropiar los conceptos relacionados con la funciones estadísticas básicas, investigados en la tarea, para ser aprovechados en el desarrollo de la practica en clase."
   ]
  }
 ],
 "metadata": {
  "kernelspec": {
   "display_name": "Python 3 (ipykernel)",
   "language": "python",
   "name": "python3"
  },
  "language_info": {
   "codemirror_mode": {
    "name": "ipython",
    "version": 3
   },
   "file_extension": ".py",
   "mimetype": "text/x-python",
   "name": "python",
   "nbconvert_exporter": "python",
   "pygments_lexer": "ipython3",
   "version": "3.12.1"
  }
 },
 "nbformat": 4,
 "nbformat_minor": 5
}
